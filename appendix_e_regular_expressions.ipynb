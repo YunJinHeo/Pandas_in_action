{
 "cells": [
  {
   "cell_type": "markdown",
   "id": "9d661566-1984-4d53-9af2-94f343dfe959",
   "metadata": {},
   "source": [
    "## E.1 Introduce python's re module"
   ]
  },
  {
   "cell_type": "code",
   "execution_count": 5,
   "id": "c87ac54e-824e-4bee-87b2-daac3ac4297c",
   "metadata": {},
   "outputs": [],
   "source": [
    "import re\n",
    "import pandas as pd"
   ]
  },
  {
   "cell_type": "code",
   "execution_count": 2,
   "id": "890f56c1-d7f0-4116-87f0-b88b309d58cb",
   "metadata": {},
   "outputs": [
    {
     "data": {
      "text/plain": [
       "<re.Match object; span=(9, 15), match='flower'>"
      ]
     },
     "execution_count": 2,
     "metadata": {},
     "output_type": "execute_result"
    }
   ],
   "source": [
    "re.search(\"flower\", \"field of flowers\")"
   ]
  },
  {
   "cell_type": "code",
   "execution_count": 4,
   "id": "a3c0bf54-ec3d-47a9-a06c-c99167dc4903",
   "metadata": {},
   "outputs": [
    {
     "name": "stdout",
     "output_type": "stream",
     "text": [
      "None\n"
     ]
    }
   ],
   "source": [
    "print(re.search('flower', 'Barney the Dinosaur'))"
   ]
  },
  {
   "cell_type": "code",
   "execution_count": 6,
   "id": "10e0ca9e-4053-48ff-8d79-ea55e357e790",
   "metadata": {},
   "outputs": [
    {
     "data": {
      "text/plain": [
       "['flower', 'flower']"
      ]
     },
     "execution_count": 6,
     "metadata": {},
     "output_type": "execute_result"
    }
   ],
   "source": [
    "re.findall('flower', 'Picking flowers in the flower field')"
   ]
  },
  {
   "cell_type": "markdown",
   "id": "0adbee66-80d8-4bb9-b4ec-b2d2722dd581",
   "metadata": {},
   "source": [
    "## E.2 Metacharacters"
   ]
  },
  {
   "cell_type": "code",
   "execution_count": 29,
   "id": "4a101446-fcbf-4f75-9922-120d5467187b",
   "metadata": {},
   "outputs": [],
   "source": [
    "sentence = \"I went to the store and bought \"\\\n",
    "            \"5 apples, 4 oranges, and 15 plums.\""
   ]
  },
  {
   "cell_type": "code",
   "execution_count": 15,
   "id": "fe3d6375-e974-408a-a8d5-e6808a7bba62",
   "metadata": {},
   "outputs": [
    {
     "data": {
      "text/plain": [
       "'I went to the store and bought5 apples, 4 oranges, and 15 plums.'"
      ]
     },
     "execution_count": 15,
     "metadata": {},
     "output_type": "execute_result"
    }
   ],
   "source": [
    "sentence"
   ]
  },
  {
   "cell_type": "code",
   "execution_count": 16,
   "id": "1598a6b8-9655-4b16-86db-4bfd5e52c2a9",
   "metadata": {},
   "outputs": [
    {
     "name": "stderr",
     "output_type": "stream",
     "text": [
      "<>:1: SyntaxWarning: invalid escape sequence '\\d'\n",
      "<>:1: SyntaxWarning: invalid escape sequence '\\d'\n",
      "C:\\Users\\gjdbs\\AppData\\Local\\Temp\\ipykernel_14984\\3871098266.py:1: SyntaxWarning: invalid escape sequence '\\d'\n",
      "  re.findall('\\d', sentence)\n"
     ]
    },
    {
     "data": {
      "text/plain": [
       "['5', '4', '1', '5']"
      ]
     },
     "execution_count": 16,
     "metadata": {},
     "output_type": "execute_result"
    }
   ],
   "source": [
    "re.findall('\\d', sentence)"
   ]
  },
  {
   "cell_type": "code",
   "execution_count": 18,
   "id": "07e52838-01df-4777-9ec2-9919ea34e4dd",
   "metadata": {},
   "outputs": [
    {
     "data": {
      "text/plain": [
       "['5', '4', '1', '5']"
      ]
     },
     "execution_count": 18,
     "metadata": {},
     "output_type": "execute_result"
    }
   ],
   "source": [
    "re.findall(r'\\d', sentence)"
   ]
  },
  {
   "cell_type": "code",
   "execution_count": 20,
   "id": "fb9908df-902d-4b61-8775-4dd58bf327c7",
   "metadata": {},
   "outputs": [
    {
     "name": "stdout",
     "output_type": "stream",
     "text": [
      "['I', ' ', 'w', 'e', 'n', 't', ' ', 't', 'o', ' ', 't', 'h', 'e', ' ', 's', 't', 'o', 'r', 'e', ' ', 'a', 'n', 'd', ' ', 'b', 'o', 'u', 'g', 'h', 't', ' ', 'a', 'p', 'p', 'l', 'e', 's', ',', ' ', ' ', 'o', 'r', 'a', 'n', 'g', 'e', 's', ',', ' ', 'a', 'n', 'd', ' ', ' ', 'p', 'l', 'u', 'm', 's', '.']\n"
     ]
    }
   ],
   "source": [
    "print(re.findall(r'\\D', sentence))"
   ]
  },
  {
   "cell_type": "code",
   "execution_count": 21,
   "id": "1f14cd20-ca4d-4977-8f41-9cb568337e78",
   "metadata": {},
   "outputs": [
    {
     "name": "stdout",
     "output_type": "stream",
     "text": [
      "['I', 'w', 'e', 'n', 't', 't', 'o', 't', 'h', 'e', 's', 't', 'o', 'r', 'e', 'a', 'n', 'd', 'b', 'o', 'u', 'g', 'h', 't', '5', 'a', 'p', 'p', 'l', 'e', 's', '4', 'o', 'r', 'a', 'n', 'g', 'e', 's', 'a', 'n', 'd', '1', '5', 'p', 'l', 'u', 'm', 's']\n"
     ]
    }
   ],
   "source": [
    "print(re.findall(r'\\w', sentence))"
   ]
  },
  {
   "cell_type": "code",
   "execution_count": 22,
   "id": "9a7b9dba-54d8-4e25-b249-9dc840cd70b2",
   "metadata": {},
   "outputs": [
    {
     "name": "stdout",
     "output_type": "stream",
     "text": [
      "[' ', ' ', ' ', ' ', ' ', ' ', ' ', ',', ' ', ' ', ',', ' ', ' ', ' ', '.']\n"
     ]
    }
   ],
   "source": [
    "print(re.findall(r'\\W', sentence))"
   ]
  },
  {
   "cell_type": "code",
   "execution_count": 23,
   "id": "9d1ebe3c-48b6-4eb8-848c-a34b6ae61b93",
   "metadata": {},
   "outputs": [
    {
     "name": "stdout",
     "output_type": "stream",
     "text": [
      "[' ', ' ', ' ', ' ', ' ', ' ', ' ', ' ', ' ', ' ', ' ', ' ']\n"
     ]
    }
   ],
   "source": [
    "print(re.findall(r'\\s', sentence))"
   ]
  },
  {
   "cell_type": "code",
   "execution_count": 24,
   "id": "344db1f6-c6e6-4d35-963d-65526979c397",
   "metadata": {},
   "outputs": [
    {
     "name": "stdout",
     "output_type": "stream",
     "text": [
      "['I', 'w', 'e', 'n', 't', 't', 'o', 't', 'h', 'e', 's', 't', 'o', 'r', 'e', 'a', 'n', 'd', 'b', 'o', 'u', 'g', 'h', 't', '5', 'a', 'p', 'p', 'l', 'e', 's', ',', '4', 'o', 'r', 'a', 'n', 'g', 'e', 's', ',', 'a', 'n', 'd', '1', '5', 'p', 'l', 'u', 'm', 's', '.']\n"
     ]
    }
   ],
   "source": [
    "print(re.findall(r'\\S', sentence))"
   ]
  },
  {
   "cell_type": "code",
   "execution_count": 25,
   "id": "ba75d71c-c717-4fdc-ae25-8f971c69cf95",
   "metadata": {},
   "outputs": [
    {
     "name": "stdout",
     "output_type": "stream",
     "text": [
      "['t', 't', 't', 't', 't']\n"
     ]
    }
   ],
   "source": [
    "print(re.findall(r't', sentence))"
   ]
  },
  {
   "cell_type": "code",
   "execution_count": 26,
   "id": "96a1ef81-40bf-4677-8a9a-37f60f634ef4",
   "metadata": {},
   "outputs": [
    {
     "name": "stdout",
     "output_type": "stream",
     "text": [
      "['to', 'to']\n"
     ]
    }
   ],
   "source": [
    "print(re.findall(r'to', sentence))"
   ]
  },
  {
   "cell_type": "code",
   "execution_count": 27,
   "id": "2baa5475-bf7f-4a88-b84c-a7ed8cc22904",
   "metadata": {},
   "outputs": [
    {
     "name": "stdout",
     "output_type": "stream",
     "text": [
      "['t', 't']\n"
     ]
    }
   ],
   "source": [
    "print(re.findall(r'\\bt', sentence))"
   ]
  },
  {
   "cell_type": "code",
   "execution_count": 30,
   "id": "26f1e5c9-9f41-46eb-8d32-796eaa16728c",
   "metadata": {},
   "outputs": [
    {
     "name": "stdout",
     "output_type": "stream",
     "text": [
      "['t', 't']\n"
     ]
    }
   ],
   "source": [
    "print(re.findall(r't\\b', sentence))"
   ]
  },
  {
   "cell_type": "code",
   "execution_count": 31,
   "id": "7f56a04f-c537-414f-89d1-b316dc332a49",
   "metadata": {},
   "outputs": [
    {
     "name": "stdout",
     "output_type": "stream",
     "text": [
      "['t', 't', 't']\n"
     ]
    }
   ],
   "source": [
    "print(re.findall(r'\\Bt', sentence))"
   ]
  },
  {
   "cell_type": "markdown",
   "id": "c0f5cfbc-c237-4ddb-b4b5-334a5b86bbe3",
   "metadata": {},
   "source": [
    "## E.3 Advanced search patterns"
   ]
  },
  {
   "cell_type": "code",
   "execution_count": 32,
   "id": "d302dbee-d8e0-475f-81c0-5fe7ad5cad7e",
   "metadata": {},
   "outputs": [
    {
     "data": {
      "text/plain": [
       "'coca cola.'"
      ]
     },
     "execution_count": 32,
     "metadata": {},
     "output_type": "execute_result"
    }
   ],
   "source": [
    "soda = 'coca cola.'\n",
    "soda"
   ]
  },
  {
   "cell_type": "code",
   "execution_count": 34,
   "id": "63022499-f49a-442e-8d7b-ad8667a5e71c",
   "metadata": {},
   "outputs": [
    {
     "name": "stdout",
     "output_type": "stream",
     "text": [
      "['c', 'o', 'c', 'a', ' ', 'c', 'o', 'l', 'a', '.']\n"
     ]
    }
   ],
   "source": [
    "print(re.findall(r'.', soda))"
   ]
  },
  {
   "cell_type": "code",
   "execution_count": 35,
   "id": "4e436811-cfe7-44c9-8cfb-0065d655f581",
   "metadata": {},
   "outputs": [
    {
     "name": "stdout",
     "output_type": "stream",
     "text": [
      "['co', 'ca', 'co']\n"
     ]
    }
   ],
   "source": [
    "print(re.findall(r'c.', soda))"
   ]
  },
  {
   "cell_type": "code",
   "execution_count": 36,
   "id": "d574db1f-2f26-43ba-819a-4e526b87c068",
   "metadata": {},
   "outputs": [
    {
     "name": "stdout",
     "output_type": "stream",
     "text": [
      "['.']\n"
     ]
    }
   ],
   "source": [
    "print(re.findall(r'\\.', soda))"
   ]
  },
  {
   "cell_type": "code",
   "execution_count": 37,
   "id": "f6fadd77-b764-4fa5-81ee-c1d56d27efb3",
   "metadata": {},
   "outputs": [
    {
     "name": "stdout",
     "output_type": "stream",
     "text": [
      "['co', 'co']\n"
     ]
    }
   ],
   "source": [
    "print(re.findall(r'co', soda))"
   ]
  },
  {
   "cell_type": "code",
   "execution_count": 38,
   "id": "396f5da4-3eeb-40fa-9e40-4d9b0065f08b",
   "metadata": {},
   "outputs": [
    {
     "name": "stdout",
     "output_type": "stream",
     "text": [
      "['c', 'o', 'c', 'c', 'o']\n"
     ]
    }
   ],
   "source": [
    "print(re.findall(r'[co]', soda))"
   ]
  },
  {
   "cell_type": "code",
   "execution_count": 39,
   "id": "d046ac58-3c55-42e2-adc2-6be98e52ef3f",
   "metadata": {},
   "outputs": [
    {
     "name": "stdout",
     "output_type": "stream",
     "text": [
      "['c', 'o', 'c', 'c', 'o']\n"
     ]
    }
   ],
   "source": [
    "print(re.findall(r'[oc]', soda))"
   ]
  },
  {
   "cell_type": "code",
   "execution_count": 40,
   "id": "de393cac-f634-4fbe-8391-821876e67054",
   "metadata": {},
   "outputs": [
    {
     "name": "stdout",
     "output_type": "stream",
     "text": [
      "['c', 'c', 'c', 'l']\n"
     ]
    }
   ],
   "source": [
    "print(re.findall(r'[cdefghijkl]', soda))"
   ]
  },
  {
   "cell_type": "code",
   "execution_count": 42,
   "id": "eab958d6-9cae-429b-8bc4-eb6c5c2bdbd4",
   "metadata": {},
   "outputs": [
    {
     "name": "stdout",
     "output_type": "stream",
     "text": [
      "['c', 'c', 'c', 'l']\n"
     ]
    }
   ],
   "source": [
    "print(re.findall(r'[c-l]', soda))"
   ]
  },
  {
   "cell_type": "code",
   "execution_count": 43,
   "id": "11d5fbf8-f685-4668-84ef-4990cca86fb4",
   "metadata": {},
   "outputs": [
    {
     "data": {
      "text/plain": [
       "'bookkeeper'"
      ]
     },
     "execution_count": 43,
     "metadata": {},
     "output_type": "execute_result"
    }
   ],
   "source": [
    "word = 'bookkeeper'\n",
    "word"
   ]
  },
  {
   "cell_type": "code",
   "execution_count": 44,
   "id": "1883189a-b07a-4200-b4d9-a7600473411e",
   "metadata": {},
   "outputs": [
    {
     "name": "stdout",
     "output_type": "stream",
     "text": [
      "['ee']\n"
     ]
    }
   ],
   "source": [
    "print(re.findall(r'ee', word))"
   ]
  },
  {
   "cell_type": "code",
   "execution_count": 46,
   "id": "1def3755-748b-4804-b432-82b7f07dee9d",
   "metadata": {},
   "outputs": [
    {
     "name": "stdout",
     "output_type": "stream",
     "text": [
      "['ee']\n"
     ]
    }
   ],
   "source": [
    "print(re.findall(r'e{2}', word))"
   ]
  },
  {
   "cell_type": "code",
   "execution_count": 47,
   "id": "ab6ce4a4-f7f0-4a7f-8dff-c7350aba1ecf",
   "metadata": {},
   "outputs": [
    {
     "name": "stdout",
     "output_type": "stream",
     "text": [
      "[]\n"
     ]
    }
   ],
   "source": [
    "print(re.findall(r'e{3}', word))"
   ]
  },
  {
   "cell_type": "code",
   "execution_count": 48,
   "id": "d0d4dea8-5e19-48c2-89ba-1e0aa2e11f84",
   "metadata": {},
   "outputs": [
    {
     "name": "stdout",
     "output_type": "stream",
     "text": [
      "['ee', 'e']\n"
     ]
    }
   ],
   "source": [
    "print(re.findall(r'e{1,3}', word))"
   ]
  },
  {
   "cell_type": "code",
   "execution_count": 49,
   "id": "0a8303e6-f62d-429b-a0db-ac39716c6341",
   "metadata": {},
   "outputs": [
    {
     "data": {
      "text/plain": [
       "'I can be reached at 555-123-4567. Look forward to talking to you soon.'"
      ]
     },
     "execution_count": 49,
     "metadata": {},
     "output_type": "execute_result"
    }
   ],
   "source": [
    "transcription = 'I can be reached at 555-123-4567. '\\\n",
    "                'Look forward to talking to you soon.'\n",
    "\n",
    "transcription"
   ]
  },
  {
   "cell_type": "code",
   "execution_count": 52,
   "id": "59194bad-5ce8-4c19-a3e3-7b6bd58a89e9",
   "metadata": {},
   "outputs": [
    {
     "name": "stdout",
     "output_type": "stream",
     "text": [
      "['555-123-4567']\n"
     ]
    }
   ],
   "source": [
    "print(re.findall(r'\\d{3}-\\d{3}-\\d{4}', transcription))"
   ]
  },
  {
   "cell_type": "code",
   "execution_count": 54,
   "id": "1d45e5c9-cf7c-4832-812c-07b618cd379f",
   "metadata": {},
   "outputs": [
    {
     "name": "stdout",
     "output_type": "stream",
     "text": [
      "['555-123-4567']\n"
     ]
    }
   ],
   "source": [
    "print(re.findall(r'\\d+-\\d+-\\d+', transcription))"
   ]
  },
  {
   "cell_type": "markdown",
   "id": "ec56670a-be70-48d0-9cb6-dad712365ab2",
   "metadata": {},
   "source": [
    "## E.4 Regular expressions and Pandas"
   ]
  },
  {
   "cell_type": "code",
   "execution_count": 55,
   "id": "ed2af1e9-20c1-4fff-b14a-85570d3bb458",
   "metadata": {},
   "outputs": [
    {
     "data": {
      "text/html": [
       "<div>\n",
       "<style scoped>\n",
       "    .dataframe tbody tr th:only-of-type {\n",
       "        vertical-align: middle;\n",
       "    }\n",
       "\n",
       "    .dataframe tbody tr th {\n",
       "        vertical-align: top;\n",
       "    }\n",
       "\n",
       "    .dataframe thead th {\n",
       "        text-align: right;\n",
       "    }\n",
       "</style>\n",
       "<table border=\"1\" class=\"dataframe\">\n",
       "  <thead>\n",
       "    <tr style=\"text-align: right;\">\n",
       "      <th></th>\n",
       "      <th>Brand</th>\n",
       "      <th>Flavor</th>\n",
       "      <th>Description</th>\n",
       "    </tr>\n",
       "  </thead>\n",
       "  <tbody>\n",
       "    <tr>\n",
       "      <th>0</th>\n",
       "      <td>Ben and Jerry's</td>\n",
       "      <td>Salted Caramel Core</td>\n",
       "      <td>Sweet Cream Ice Cream with Blonde Brownies &amp; a...</td>\n",
       "    </tr>\n",
       "    <tr>\n",
       "      <th>1</th>\n",
       "      <td>Ben and Jerry's</td>\n",
       "      <td>Netflix &amp; Chilll'd™</td>\n",
       "      <td>Peanut Butter Ice Cream with Sweet &amp; Salty Pre...</td>\n",
       "    </tr>\n",
       "    <tr>\n",
       "      <th>2</th>\n",
       "      <td>Ben and Jerry's</td>\n",
       "      <td>Chip Happens</td>\n",
       "      <td>A Cold Mess of Chocolate Ice Cream with Fudge ...</td>\n",
       "    </tr>\n",
       "    <tr>\n",
       "      <th>3</th>\n",
       "      <td>Ben and Jerry's</td>\n",
       "      <td>Cannoli</td>\n",
       "      <td>Mascarpone Ice Cream with Fudge-Covered Pastry...</td>\n",
       "    </tr>\n",
       "    <tr>\n",
       "      <th>4</th>\n",
       "      <td>Ben and Jerry's</td>\n",
       "      <td>Gimme S’more!™</td>\n",
       "      <td>Toasted Marshmallow Ice Cream with Chocolate C...</td>\n",
       "    </tr>\n",
       "  </tbody>\n",
       "</table>\n",
       "</div>"
      ],
      "text/plain": [
       "             Brand               Flavor  \\\n",
       "0  Ben and Jerry's  Salted Caramel Core   \n",
       "1  Ben and Jerry's  Netflix & Chilll'd™   \n",
       "2  Ben and Jerry's         Chip Happens   \n",
       "3  Ben and Jerry's              Cannoli   \n",
       "4  Ben and Jerry's       Gimme S’more!™   \n",
       "\n",
       "                                         Description  \n",
       "0  Sweet Cream Ice Cream with Blonde Brownies & a...  \n",
       "1  Peanut Butter Ice Cream with Sweet & Salty Pre...  \n",
       "2  A Cold Mess of Chocolate Ice Cream with Fudge ...  \n",
       "3  Mascarpone Ice Cream with Fudge-Covered Pastry...  \n",
       "4  Toasted Marshmallow Ice Cream with Chocolate C...  "
      ]
     },
     "execution_count": 55,
     "metadata": {},
     "output_type": "execute_result"
    }
   ],
   "source": [
    "ice_cream = pd.read_csv(\"ice_cream.csv\")\n",
    "ice_cream.head()"
   ]
  },
  {
   "cell_type": "code",
   "execution_count": 59,
   "id": "fd39bf71-732b-43bb-85a2-788efc34c70a",
   "metadata": {},
   "outputs": [
    {
     "data": {
      "text/html": [
       "<div>\n",
       "<style scoped>\n",
       "    .dataframe tbody tr th:only-of-type {\n",
       "        vertical-align: middle;\n",
       "    }\n",
       "\n",
       "    .dataframe tbody tr th {\n",
       "        vertical-align: top;\n",
       "    }\n",
       "\n",
       "    .dataframe thead th {\n",
       "        text-align: right;\n",
       "    }\n",
       "</style>\n",
       "<table border=\"1\" class=\"dataframe\">\n",
       "  <thead>\n",
       "    <tr style=\"text-align: right;\">\n",
       "      <th></th>\n",
       "      <th>0</th>\n",
       "    </tr>\n",
       "  </thead>\n",
       "  <tbody>\n",
       "    <tr>\n",
       "      <th>0</th>\n",
       "      <td>NaN</td>\n",
       "    </tr>\n",
       "    <tr>\n",
       "      <th>1</th>\n",
       "      <td>NaN</td>\n",
       "    </tr>\n",
       "    <tr>\n",
       "      <th>2</th>\n",
       "      <td>Chocolate Ice</td>\n",
       "    </tr>\n",
       "    <tr>\n",
       "      <th>3</th>\n",
       "      <td>NaN</td>\n",
       "    </tr>\n",
       "    <tr>\n",
       "      <th>4</th>\n",
       "      <td>Chocolate Cookie</td>\n",
       "    </tr>\n",
       "    <tr>\n",
       "      <th>...</th>\n",
       "      <td>...</td>\n",
       "    </tr>\n",
       "    <tr>\n",
       "      <th>236</th>\n",
       "      <td>NaN</td>\n",
       "    </tr>\n",
       "    <tr>\n",
       "      <th>237</th>\n",
       "      <td>NaN</td>\n",
       "    </tr>\n",
       "    <tr>\n",
       "      <th>238</th>\n",
       "      <td>NaN</td>\n",
       "    </tr>\n",
       "    <tr>\n",
       "      <th>239</th>\n",
       "      <td>NaN</td>\n",
       "    </tr>\n",
       "    <tr>\n",
       "      <th>240</th>\n",
       "      <td>NaN</td>\n",
       "    </tr>\n",
       "  </tbody>\n",
       "</table>\n",
       "<p>241 rows × 1 columns</p>\n",
       "</div>"
      ],
      "text/plain": [
       "                    0\n",
       "0                 NaN\n",
       "1                 NaN\n",
       "2       Chocolate Ice\n",
       "3                 NaN\n",
       "4    Chocolate Cookie\n",
       "..                ...\n",
       "236               NaN\n",
       "237               NaN\n",
       "238               NaN\n",
       "239               NaN\n",
       "240               NaN\n",
       "\n",
       "[241 rows x 1 columns]"
      ]
     },
     "execution_count": 59,
     "metadata": {},
     "output_type": "execute_result"
    }
   ],
   "source": [
    "ice_cream[\"Description\"].str.extract(r'(\\bChocolate\\s\\w+)')"
   ]
  },
  {
   "cell_type": "code",
   "execution_count": 60,
   "id": "b9ff0dab-9e37-4807-8b20-d0941a3b4520",
   "metadata": {},
   "outputs": [
    {
     "data": {
      "text/html": [
       "<div>\n",
       "<style scoped>\n",
       "    .dataframe tbody tr th:only-of-type {\n",
       "        vertical-align: middle;\n",
       "    }\n",
       "\n",
       "    .dataframe tbody tr th {\n",
       "        vertical-align: top;\n",
       "    }\n",
       "\n",
       "    .dataframe thead th {\n",
       "        text-align: right;\n",
       "    }\n",
       "</style>\n",
       "<table border=\"1\" class=\"dataframe\">\n",
       "  <thead>\n",
       "    <tr style=\"text-align: right;\">\n",
       "      <th></th>\n",
       "      <th>0</th>\n",
       "    </tr>\n",
       "  </thead>\n",
       "  <tbody>\n",
       "    <tr>\n",
       "      <th>2</th>\n",
       "      <td>Chocolate Ice</td>\n",
       "    </tr>\n",
       "    <tr>\n",
       "      <th>4</th>\n",
       "      <td>Chocolate Cookie</td>\n",
       "    </tr>\n",
       "    <tr>\n",
       "      <th>8</th>\n",
       "      <td>Chocolate Ice</td>\n",
       "    </tr>\n",
       "    <tr>\n",
       "      <th>9</th>\n",
       "      <td>Chocolate Ice</td>\n",
       "    </tr>\n",
       "    <tr>\n",
       "      <th>13</th>\n",
       "      <td>Chocolate Cookie</td>\n",
       "    </tr>\n",
       "  </tbody>\n",
       "</table>\n",
       "</div>"
      ],
      "text/plain": [
       "                   0\n",
       "2      Chocolate Ice\n",
       "4   Chocolate Cookie\n",
       "8      Chocolate Ice\n",
       "9      Chocolate Ice\n",
       "13  Chocolate Cookie"
      ]
     },
     "execution_count": 60,
     "metadata": {},
     "output_type": "execute_result"
    }
   ],
   "source": [
    "ice_cream[\"Description\"].str.extract(r'(\\bChocolate\\s\\w+)').dropna().head()"
   ]
  },
  {
   "cell_type": "code",
   "execution_count": 61,
   "id": "654e356a-c409-4be6-8ec9-0ebd6304f9ce",
   "metadata": {},
   "outputs": [
    {
     "data": {
      "text/plain": [
       "2        Chocolate Ice\n",
       "4     Chocolate Cookie\n",
       "8        Chocolate Ice\n",
       "9        Chocolate Ice\n",
       "13    Chocolate Cookie\n",
       "Name: 0, dtype: object"
      ]
     },
     "execution_count": 61,
     "metadata": {},
     "output_type": "execute_result"
    }
   ],
   "source": [
    "ice_cream[\"Description\"].str.extract(r'(\\bChocolate\\s\\w+)').dropna().squeeze().head()"
   ]
  },
  {
   "cell_type": "code",
   "execution_count": 62,
   "id": "4c466ed0-a51a-4249-b25c-8b64df832f34",
   "metadata": {},
   "outputs": [],
   "source": [
    "chocolate_flavors = ice_cream[\"Description\"].str.extract(r'(\\bChocolate\\s\\w+)').dropna().squeeze()"
   ]
  },
  {
   "cell_type": "code",
   "execution_count": 63,
   "id": "387aff2c-f650-457e-8254-25c92121b8d7",
   "metadata": {},
   "outputs": [
    {
     "data": {
      "text/plain": [
       "2          Chocolate Ice\n",
       "4       Chocolate Cookie\n",
       "8          Chocolate Ice\n",
       "9          Chocolate Ice\n",
       "13      Chocolate Cookie\n",
       "15      Chocolate Cookie\n",
       "16        Chocolate Chip\n",
       "17         Chocolate Ice\n",
       "18        Chocolate Malt\n",
       "19         Chocolate Ice\n",
       "27         Chocolate Ice\n",
       "28        Chocolate Chip\n",
       "29    Chocolate Sandwich\n",
       "30      Chocolate Cookie\n",
       "31    Chocolate Sandwich\n",
       "32        Chocolate Mint\n",
       "33         Chocolate Ice\n",
       "36         Chocolate Ice\n",
       "37         Chocolate Ice\n",
       "41         Chocolate Ice\n",
       "44         Chocolate Ice\n",
       "49     Chocolate Cookies\n",
       "50        Chocolate Chip\n",
       "54     Chocolate Cookies\n",
       "Name: 0, dtype: object"
      ]
     },
     "execution_count": 63,
     "metadata": {},
     "output_type": "execute_result"
    }
   ],
   "source": [
    "chocolate_flavors"
   ]
  },
  {
   "cell_type": "code",
   "execution_count": 64,
   "id": "4c82d5e8-9d24-4924-9b8c-9b78ff2e1ca6",
   "metadata": {},
   "outputs": [
    {
     "data": {
      "text/plain": [
       "2          [Chocolate, Ice]\n",
       "4       [Chocolate, Cookie]\n",
       "8          [Chocolate, Ice]\n",
       "9          [Chocolate, Ice]\n",
       "13      [Chocolate, Cookie]\n",
       "15      [Chocolate, Cookie]\n",
       "16        [Chocolate, Chip]\n",
       "17         [Chocolate, Ice]\n",
       "18        [Chocolate, Malt]\n",
       "19         [Chocolate, Ice]\n",
       "27         [Chocolate, Ice]\n",
       "28        [Chocolate, Chip]\n",
       "29    [Chocolate, Sandwich]\n",
       "30      [Chocolate, Cookie]\n",
       "31    [Chocolate, Sandwich]\n",
       "32        [Chocolate, Mint]\n",
       "33         [Chocolate, Ice]\n",
       "36         [Chocolate, Ice]\n",
       "37         [Chocolate, Ice]\n",
       "41         [Chocolate, Ice]\n",
       "44         [Chocolate, Ice]\n",
       "49     [Chocolate, Cookies]\n",
       "50        [Chocolate, Chip]\n",
       "54     [Chocolate, Cookies]\n",
       "Name: 0, dtype: object"
      ]
     },
     "execution_count": 64,
     "metadata": {},
     "output_type": "execute_result"
    }
   ],
   "source": [
    "chocolate_flavors.str.split(r'\\s')"
   ]
  },
  {
   "cell_type": "code",
   "execution_count": 66,
   "id": "2cc36ea3-a4c1-44c1-89bb-1eee3e335bbe",
   "metadata": {},
   "outputs": [
    {
     "data": {
      "text/plain": [
       "2        Ice\n",
       "4     Cookie\n",
       "8        Ice\n",
       "9        Ice\n",
       "13    Cookie\n",
       "Name: 0, dtype: object"
      ]
     },
     "execution_count": 66,
     "metadata": {},
     "output_type": "execute_result"
    }
   ],
   "source": [
    "chocolate_flavors.str.split(r'\\s').str.get(1).head()"
   ]
  },
  {
   "cell_type": "code",
   "execution_count": 67,
   "id": "33bd8d50-51ef-46cb-9b14-3e460a278fb6",
   "metadata": {},
   "outputs": [
    {
     "data": {
      "text/plain": [
       "0\n",
       "Ice         11\n",
       "Cookie       4\n",
       "Chip         3\n",
       "Sandwich     2\n",
       "Cookies      2\n",
       "Malt         1\n",
       "Mint         1\n",
       "Name: count, dtype: int64"
      ]
     },
     "execution_count": 67,
     "metadata": {},
     "output_type": "execute_result"
    }
   ],
   "source": [
    "chocolate_flavors.str.split(r'\\s').str.get(1).value_counts()"
   ]
  }
 ],
 "metadata": {
  "kernelspec": {
   "display_name": "Python 3 (ipykernel)",
   "language": "python",
   "name": "python3"
  },
  "language_info": {
   "codemirror_mode": {
    "name": "ipython",
    "version": 3
   },
   "file_extension": ".py",
   "mimetype": "text/x-python",
   "name": "python",
   "nbconvert_exporter": "python",
   "pygments_lexer": "ipython3",
   "version": "3.12.7"
  }
 },
 "nbformat": 4,
 "nbformat_minor": 5
}
