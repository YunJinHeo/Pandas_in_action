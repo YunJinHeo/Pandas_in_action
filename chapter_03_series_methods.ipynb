{
 "cells": [
  {
   "cell_type": "markdown",
   "id": "e9283159-0c82-4447-b5be-17a48392bde1",
   "metadata": {},
   "source": [
    "## 3.1 take the data set by using read_csv function"
   ]
  },
  {
   "cell_type": "code",
   "execution_count": 1,
   "id": "bcee4a47-552d-4915-9718-784149c23415",
   "metadata": {},
   "outputs": [],
   "source": [
    "import pandas as pd"
   ]
  },
  {
   "cell_type": "code",
   "execution_count": 6,
   "id": "8f89c39a-5f50-4850-9e59-47db575510f4",
   "metadata": {},
   "outputs": [],
   "source": [
    "import numpy as np"
   ]
  },
  {
   "cell_type": "code",
   "execution_count": 2,
   "id": "9a9c327b-27a5-4234-92f0-ccf5a1749522",
   "metadata": {},
   "outputs": [
    {
     "data": {
      "text/html": [
       "<div>\n",
       "<style scoped>\n",
       "    .dataframe tbody tr th:only-of-type {\n",
       "        vertical-align: middle;\n",
       "    }\n",
       "\n",
       "    .dataframe tbody tr th {\n",
       "        vertical-align: top;\n",
       "    }\n",
       "\n",
       "    .dataframe thead th {\n",
       "        text-align: right;\n",
       "    }\n",
       "</style>\n",
       "<table border=\"1\" class=\"dataframe\">\n",
       "  <thead>\n",
       "    <tr style=\"text-align: right;\">\n",
       "      <th></th>\n",
       "      <th>Pokemon</th>\n",
       "      <th>Type</th>\n",
       "    </tr>\n",
       "  </thead>\n",
       "  <tbody>\n",
       "    <tr>\n",
       "      <th>0</th>\n",
       "      <td>Bulbasaur</td>\n",
       "      <td>Grass / Poison</td>\n",
       "    </tr>\n",
       "    <tr>\n",
       "      <th>1</th>\n",
       "      <td>Ivysaur</td>\n",
       "      <td>Grass / Poison</td>\n",
       "    </tr>\n",
       "    <tr>\n",
       "      <th>2</th>\n",
       "      <td>Venusaur</td>\n",
       "      <td>Grass / Poison</td>\n",
       "    </tr>\n",
       "    <tr>\n",
       "      <th>3</th>\n",
       "      <td>Charmander</td>\n",
       "      <td>Fire</td>\n",
       "    </tr>\n",
       "    <tr>\n",
       "      <th>4</th>\n",
       "      <td>Charmeleon</td>\n",
       "      <td>Fire</td>\n",
       "    </tr>\n",
       "    <tr>\n",
       "      <th>...</th>\n",
       "      <td>...</td>\n",
       "      <td>...</td>\n",
       "    </tr>\n",
       "    <tr>\n",
       "      <th>804</th>\n",
       "      <td>Stakataka</td>\n",
       "      <td>Rock / Steel</td>\n",
       "    </tr>\n",
       "    <tr>\n",
       "      <th>805</th>\n",
       "      <td>Blacephalon</td>\n",
       "      <td>Fire / Ghost</td>\n",
       "    </tr>\n",
       "    <tr>\n",
       "      <th>806</th>\n",
       "      <td>Zeraora</td>\n",
       "      <td>Electric</td>\n",
       "    </tr>\n",
       "    <tr>\n",
       "      <th>807</th>\n",
       "      <td>Meltan</td>\n",
       "      <td>Steel</td>\n",
       "    </tr>\n",
       "    <tr>\n",
       "      <th>808</th>\n",
       "      <td>Melmetal</td>\n",
       "      <td>Steel</td>\n",
       "    </tr>\n",
       "  </tbody>\n",
       "</table>\n",
       "<p>809 rows × 2 columns</p>\n",
       "</div>"
      ],
      "text/plain": [
       "         Pokemon            Type\n",
       "0      Bulbasaur  Grass / Poison\n",
       "1        Ivysaur  Grass / Poison\n",
       "2       Venusaur  Grass / Poison\n",
       "3     Charmander            Fire\n",
       "4     Charmeleon            Fire\n",
       "..           ...             ...\n",
       "804    Stakataka    Rock / Steel\n",
       "805  Blacephalon    Fire / Ghost\n",
       "806      Zeraora        Electric\n",
       "807       Meltan           Steel\n",
       "808     Melmetal           Steel\n",
       "\n",
       "[809 rows x 2 columns]"
      ]
     },
     "execution_count": 2,
     "metadata": {},
     "output_type": "execute_result"
    }
   ],
   "source": [
    "pd.read_csv(\"pokemon.csv\")"
   ]
  },
  {
   "cell_type": "code",
   "execution_count": 3,
   "id": "b8077083-cbc2-4b50-8dc1-99bea913b926",
   "metadata": {},
   "outputs": [
    {
     "data": {
      "text/html": [
       "<div>\n",
       "<style scoped>\n",
       "    .dataframe tbody tr th:only-of-type {\n",
       "        vertical-align: middle;\n",
       "    }\n",
       "\n",
       "    .dataframe tbody tr th {\n",
       "        vertical-align: top;\n",
       "    }\n",
       "\n",
       "    .dataframe thead th {\n",
       "        text-align: right;\n",
       "    }\n",
       "</style>\n",
       "<table border=\"1\" class=\"dataframe\">\n",
       "  <thead>\n",
       "    <tr style=\"text-align: right;\">\n",
       "      <th></th>\n",
       "      <th>Type</th>\n",
       "    </tr>\n",
       "    <tr>\n",
       "      <th>Pokemon</th>\n",
       "      <th></th>\n",
       "    </tr>\n",
       "  </thead>\n",
       "  <tbody>\n",
       "    <tr>\n",
       "      <th>Bulbasaur</th>\n",
       "      <td>Grass / Poison</td>\n",
       "    </tr>\n",
       "    <tr>\n",
       "      <th>Ivysaur</th>\n",
       "      <td>Grass / Poison</td>\n",
       "    </tr>\n",
       "    <tr>\n",
       "      <th>Venusaur</th>\n",
       "      <td>Grass / Poison</td>\n",
       "    </tr>\n",
       "    <tr>\n",
       "      <th>Charmander</th>\n",
       "      <td>Fire</td>\n",
       "    </tr>\n",
       "    <tr>\n",
       "      <th>Charmeleon</th>\n",
       "      <td>Fire</td>\n",
       "    </tr>\n",
       "    <tr>\n",
       "      <th>...</th>\n",
       "      <td>...</td>\n",
       "    </tr>\n",
       "    <tr>\n",
       "      <th>Stakataka</th>\n",
       "      <td>Rock / Steel</td>\n",
       "    </tr>\n",
       "    <tr>\n",
       "      <th>Blacephalon</th>\n",
       "      <td>Fire / Ghost</td>\n",
       "    </tr>\n",
       "    <tr>\n",
       "      <th>Zeraora</th>\n",
       "      <td>Electric</td>\n",
       "    </tr>\n",
       "    <tr>\n",
       "      <th>Meltan</th>\n",
       "      <td>Steel</td>\n",
       "    </tr>\n",
       "    <tr>\n",
       "      <th>Melmetal</th>\n",
       "      <td>Steel</td>\n",
       "    </tr>\n",
       "  </tbody>\n",
       "</table>\n",
       "<p>809 rows × 1 columns</p>\n",
       "</div>"
      ],
      "text/plain": [
       "                       Type\n",
       "Pokemon                    \n",
       "Bulbasaur    Grass / Poison\n",
       "Ivysaur      Grass / Poison\n",
       "Venusaur     Grass / Poison\n",
       "Charmander             Fire\n",
       "Charmeleon             Fire\n",
       "...                     ...\n",
       "Stakataka      Rock / Steel\n",
       "Blacephalon    Fire / Ghost\n",
       "Zeraora            Electric\n",
       "Meltan                Steel\n",
       "Melmetal              Steel\n",
       "\n",
       "[809 rows x 1 columns]"
      ]
     },
     "execution_count": 3,
     "metadata": {},
     "output_type": "execute_result"
    }
   ],
   "source": [
    "pd.read_csv(\"pokemon.csv\", index_col = \"Pokemon\")"
   ]
  },
  {
   "cell_type": "code",
   "execution_count": 8,
   "id": "1c276b5b-16d6-4829-85e7-95ab507568d8",
   "metadata": {},
   "outputs": [],
   "source": [
    "pokemon = pd.read_csv(\"pokemon.csv\", index_col = \"Pokemon\").squeeze()"
   ]
  },
  {
   "cell_type": "code",
   "execution_count": 9,
   "id": "b1a783e9-d88d-4137-897a-3f574c5600d5",
   "metadata": {},
   "outputs": [
    {
     "data": {
      "text/plain": [
       "Pokemon\n",
       "Bulbasaur      Grass / Poison\n",
       "Ivysaur        Grass / Poison\n",
       "Venusaur       Grass / Poison\n",
       "Charmander               Fire\n",
       "Charmeleon               Fire\n",
       "                    ...      \n",
       "Stakataka        Rock / Steel\n",
       "Blacephalon      Fire / Ghost\n",
       "Zeraora              Electric\n",
       "Meltan                  Steel\n",
       "Melmetal                Steel\n",
       "Name: Type, Length: 809, dtype: object"
      ]
     },
     "execution_count": 9,
     "metadata": {},
     "output_type": "execute_result"
    }
   ],
   "source": [
    "pokemon"
   ]
  },
  {
   "cell_type": "code",
   "execution_count": 10,
   "id": "b6cdb3e4-b77d-40c3-94ef-a319ab7d0806",
   "metadata": {},
   "outputs": [
    {
     "data": {
      "text/plain": [
       "pandas.core.series.Series"
      ]
     },
     "execution_count": 10,
     "metadata": {},
     "output_type": "execute_result"
    }
   ],
   "source": [
    "type(pokemon)"
   ]
  },
  {
   "cell_type": "code",
   "execution_count": 11,
   "id": "b95ba4cf-a5bb-4984-ac49-9d21b4b30350",
   "metadata": {},
   "outputs": [
    {
     "data": {
      "text/html": [
       "<div>\n",
       "<style scoped>\n",
       "    .dataframe tbody tr th:only-of-type {\n",
       "        vertical-align: middle;\n",
       "    }\n",
       "\n",
       "    .dataframe tbody tr th {\n",
       "        vertical-align: top;\n",
       "    }\n",
       "\n",
       "    .dataframe thead th {\n",
       "        text-align: right;\n",
       "    }\n",
       "</style>\n",
       "<table border=\"1\" class=\"dataframe\">\n",
       "  <thead>\n",
       "    <tr style=\"text-align: right;\">\n",
       "      <th></th>\n",
       "      <th>Date</th>\n",
       "      <th>Close</th>\n",
       "    </tr>\n",
       "  </thead>\n",
       "  <tbody>\n",
       "    <tr>\n",
       "      <th>0</th>\n",
       "      <td>2004-08-19</td>\n",
       "      <td>49.98</td>\n",
       "    </tr>\n",
       "    <tr>\n",
       "      <th>1</th>\n",
       "      <td>2004-08-20</td>\n",
       "      <td>53.95</td>\n",
       "    </tr>\n",
       "    <tr>\n",
       "      <th>2</th>\n",
       "      <td>2004-08-23</td>\n",
       "      <td>54.50</td>\n",
       "    </tr>\n",
       "    <tr>\n",
       "      <th>3</th>\n",
       "      <td>2004-08-24</td>\n",
       "      <td>52.24</td>\n",
       "    </tr>\n",
       "    <tr>\n",
       "      <th>4</th>\n",
       "      <td>2004-08-25</td>\n",
       "      <td>52.80</td>\n",
       "    </tr>\n",
       "    <tr>\n",
       "      <th>...</th>\n",
       "      <td>...</td>\n",
       "      <td>...</td>\n",
       "    </tr>\n",
       "    <tr>\n",
       "      <th>3819</th>\n",
       "      <td>2019-10-21</td>\n",
       "      <td>1246.15</td>\n",
       "    </tr>\n",
       "    <tr>\n",
       "      <th>3820</th>\n",
       "      <td>2019-10-22</td>\n",
       "      <td>1242.80</td>\n",
       "    </tr>\n",
       "    <tr>\n",
       "      <th>3821</th>\n",
       "      <td>2019-10-23</td>\n",
       "      <td>1259.13</td>\n",
       "    </tr>\n",
       "    <tr>\n",
       "      <th>3822</th>\n",
       "      <td>2019-10-24</td>\n",
       "      <td>1260.99</td>\n",
       "    </tr>\n",
       "    <tr>\n",
       "      <th>3823</th>\n",
       "      <td>2019-10-25</td>\n",
       "      <td>1265.13</td>\n",
       "    </tr>\n",
       "  </tbody>\n",
       "</table>\n",
       "<p>3824 rows × 2 columns</p>\n",
       "</div>"
      ],
      "text/plain": [
       "            Date    Close\n",
       "0     2004-08-19    49.98\n",
       "1     2004-08-20    53.95\n",
       "2     2004-08-23    54.50\n",
       "3     2004-08-24    52.24\n",
       "4     2004-08-25    52.80\n",
       "...          ...      ...\n",
       "3819  2019-10-21  1246.15\n",
       "3820  2019-10-22  1242.80\n",
       "3821  2019-10-23  1259.13\n",
       "3822  2019-10-24  1260.99\n",
       "3823  2019-10-25  1265.13\n",
       "\n",
       "[3824 rows x 2 columns]"
      ]
     },
     "execution_count": 11,
     "metadata": {},
     "output_type": "execute_result"
    }
   ],
   "source": [
    "pd.read_csv(\"google_stocks.csv\")"
   ]
  },
  {
   "cell_type": "code",
   "execution_count": 12,
   "id": "39596db0-043e-4a29-8f0a-c7bf57d4bd21",
   "metadata": {},
   "outputs": [
    {
     "data": {
      "text/html": [
       "<div>\n",
       "<style scoped>\n",
       "    .dataframe tbody tr th:only-of-type {\n",
       "        vertical-align: middle;\n",
       "    }\n",
       "\n",
       "    .dataframe tbody tr th {\n",
       "        vertical-align: top;\n",
       "    }\n",
       "\n",
       "    .dataframe thead th {\n",
       "        text-align: right;\n",
       "    }\n",
       "</style>\n",
       "<table border=\"1\" class=\"dataframe\">\n",
       "  <thead>\n",
       "    <tr style=\"text-align: right;\">\n",
       "      <th></th>\n",
       "      <th>Date</th>\n",
       "      <th>Close</th>\n",
       "    </tr>\n",
       "  </thead>\n",
       "  <tbody>\n",
       "    <tr>\n",
       "      <th>0</th>\n",
       "      <td>2004-08-19</td>\n",
       "      <td>49.98</td>\n",
       "    </tr>\n",
       "    <tr>\n",
       "      <th>1</th>\n",
       "      <td>2004-08-20</td>\n",
       "      <td>53.95</td>\n",
       "    </tr>\n",
       "    <tr>\n",
       "      <th>2</th>\n",
       "      <td>2004-08-23</td>\n",
       "      <td>54.50</td>\n",
       "    </tr>\n",
       "    <tr>\n",
       "      <th>3</th>\n",
       "      <td>2004-08-24</td>\n",
       "      <td>52.24</td>\n",
       "    </tr>\n",
       "    <tr>\n",
       "      <th>4</th>\n",
       "      <td>2004-08-25</td>\n",
       "      <td>52.80</td>\n",
       "    </tr>\n",
       "    <tr>\n",
       "      <th>...</th>\n",
       "      <td>...</td>\n",
       "      <td>...</td>\n",
       "    </tr>\n",
       "    <tr>\n",
       "      <th>3819</th>\n",
       "      <td>2019-10-21</td>\n",
       "      <td>1246.15</td>\n",
       "    </tr>\n",
       "    <tr>\n",
       "      <th>3820</th>\n",
       "      <td>2019-10-22</td>\n",
       "      <td>1242.80</td>\n",
       "    </tr>\n",
       "    <tr>\n",
       "      <th>3821</th>\n",
       "      <td>2019-10-23</td>\n",
       "      <td>1259.13</td>\n",
       "    </tr>\n",
       "    <tr>\n",
       "      <th>3822</th>\n",
       "      <td>2019-10-24</td>\n",
       "      <td>1260.99</td>\n",
       "    </tr>\n",
       "    <tr>\n",
       "      <th>3823</th>\n",
       "      <td>2019-10-25</td>\n",
       "      <td>1265.13</td>\n",
       "    </tr>\n",
       "  </tbody>\n",
       "</table>\n",
       "<p>3824 rows × 2 columns</p>\n",
       "</div>"
      ],
      "text/plain": [
       "           Date    Close\n",
       "0    2004-08-19    49.98\n",
       "1    2004-08-20    53.95\n",
       "2    2004-08-23    54.50\n",
       "3    2004-08-24    52.24\n",
       "4    2004-08-25    52.80\n",
       "...         ...      ...\n",
       "3819 2019-10-21  1246.15\n",
       "3820 2019-10-22  1242.80\n",
       "3821 2019-10-23  1259.13\n",
       "3822 2019-10-24  1260.99\n",
       "3823 2019-10-25  1265.13\n",
       "\n",
       "[3824 rows x 2 columns]"
      ]
     },
     "execution_count": 12,
     "metadata": {},
     "output_type": "execute_result"
    }
   ],
   "source": [
    "pd.read_csv(\"google_stocks.csv\", parse_dates = [\"Date\"])"
   ]
  },
  {
   "cell_type": "code",
   "execution_count": 13,
   "id": "32f49c17-083c-40e9-b96e-672a63a2f36c",
   "metadata": {},
   "outputs": [
    {
     "data": {
      "text/plain": [
       "Date\n",
       "2004-08-19      49.98\n",
       "2004-08-20      53.95\n",
       "2004-08-23      54.50\n",
       "2004-08-24      52.24\n",
       "2004-08-25      52.80\n",
       "               ...   \n",
       "2019-10-21    1246.15\n",
       "2019-10-22    1242.80\n",
       "2019-10-23    1259.13\n",
       "2019-10-24    1260.99\n",
       "2019-10-25    1265.13\n",
       "Name: Close, Length: 3824, dtype: float64"
      ]
     },
     "execution_count": 13,
     "metadata": {},
     "output_type": "execute_result"
    }
   ],
   "source": [
    "pd.read_csv(\"google_stocks.csv\", parse_dates = [\"Date\"], index_col = \"Date\").squeeze()"
   ]
  },
  {
   "cell_type": "code",
   "execution_count": 14,
   "id": "0d0a6db1-ffc3-44e6-bd91-4cd3348e118c",
   "metadata": {},
   "outputs": [],
   "source": [
    "google = pd.read_csv(\"google_stocks.csv\", parse_dates = [\"Date\"], index_col = \"Date\").squeeze()"
   ]
  },
  {
   "cell_type": "code",
   "execution_count": 15,
   "id": "381d503e-b58b-4e81-8ce5-e927316c2492",
   "metadata": {},
   "outputs": [
    {
     "data": {
      "text/html": [
       "<div>\n",
       "<style scoped>\n",
       "    .dataframe tbody tr th:only-of-type {\n",
       "        vertical-align: middle;\n",
       "    }\n",
       "\n",
       "    .dataframe tbody tr th {\n",
       "        vertical-align: top;\n",
       "    }\n",
       "\n",
       "    .dataframe thead th {\n",
       "        text-align: right;\n",
       "    }\n",
       "</style>\n",
       "<table border=\"1\" class=\"dataframe\">\n",
       "  <thead>\n",
       "    <tr style=\"text-align: right;\">\n",
       "      <th></th>\n",
       "      <th>Battle</th>\n",
       "      <th>Start Date</th>\n",
       "      <th>State</th>\n",
       "    </tr>\n",
       "  </thead>\n",
       "  <tbody>\n",
       "    <tr>\n",
       "      <th>227</th>\n",
       "      <td>Siege of Fort Henry</td>\n",
       "      <td>9/11/1782</td>\n",
       "      <td>Virginia</td>\n",
       "    </tr>\n",
       "    <tr>\n",
       "      <th>228</th>\n",
       "      <td>Grand Assault on Gibraltar</td>\n",
       "      <td>9/13/1782</td>\n",
       "      <td>NaN</td>\n",
       "    </tr>\n",
       "    <tr>\n",
       "      <th>229</th>\n",
       "      <td>Action of 18 October 1782</td>\n",
       "      <td>10/18/1782</td>\n",
       "      <td>NaN</td>\n",
       "    </tr>\n",
       "    <tr>\n",
       "      <th>230</th>\n",
       "      <td>Action of 6 December 1782</td>\n",
       "      <td>12/6/1782</td>\n",
       "      <td>NaN</td>\n",
       "    </tr>\n",
       "    <tr>\n",
       "      <th>231</th>\n",
       "      <td>Action of 22 January 1783</td>\n",
       "      <td>1/22/1783</td>\n",
       "      <td>Virginia</td>\n",
       "    </tr>\n",
       "  </tbody>\n",
       "</table>\n",
       "</div>"
      ],
      "text/plain": [
       "                         Battle  Start Date     State\n",
       "227         Siege of Fort Henry   9/11/1782  Virginia\n",
       "228  Grand Assault on Gibraltar   9/13/1782       NaN\n",
       "229   Action of 18 October 1782  10/18/1782       NaN\n",
       "230   Action of 6 December 1782   12/6/1782       NaN\n",
       "231   Action of 22 January 1783   1/22/1783  Virginia"
      ]
     },
     "execution_count": 15,
     "metadata": {},
     "output_type": "execute_result"
    }
   ],
   "source": [
    "pd.read_csv(\"revolutionary_war.csv\").tail()"
   ]
  },
  {
   "cell_type": "code",
   "execution_count": 17,
   "id": "9450c75a-8ef6-4c0f-9c2f-556dd1f1d0e9",
   "metadata": {},
   "outputs": [
    {
     "data": {
      "text/html": [
       "<div>\n",
       "<style scoped>\n",
       "    .dataframe tbody tr th:only-of-type {\n",
       "        vertical-align: middle;\n",
       "    }\n",
       "\n",
       "    .dataframe tbody tr th {\n",
       "        vertical-align: top;\n",
       "    }\n",
       "\n",
       "    .dataframe thead th {\n",
       "        text-align: right;\n",
       "    }\n",
       "</style>\n",
       "<table border=\"1\" class=\"dataframe\">\n",
       "  <thead>\n",
       "    <tr style=\"text-align: right;\">\n",
       "      <th></th>\n",
       "      <th>Battle</th>\n",
       "      <th>State</th>\n",
       "    </tr>\n",
       "    <tr>\n",
       "      <th>Start Date</th>\n",
       "      <th></th>\n",
       "      <th></th>\n",
       "    </tr>\n",
       "  </thead>\n",
       "  <tbody>\n",
       "    <tr>\n",
       "      <th>1774-09-01</th>\n",
       "      <td>Powder Alarm</td>\n",
       "      <td>Massachusetts</td>\n",
       "    </tr>\n",
       "    <tr>\n",
       "      <th>1774-12-14</th>\n",
       "      <td>Storming of Fort William and Mary</td>\n",
       "      <td>New Hampshire</td>\n",
       "    </tr>\n",
       "    <tr>\n",
       "      <th>1775-04-19</th>\n",
       "      <td>Battles of Lexington and Concord</td>\n",
       "      <td>Massachusetts</td>\n",
       "    </tr>\n",
       "    <tr>\n",
       "      <th>1775-04-19</th>\n",
       "      <td>Siege of Boston</td>\n",
       "      <td>Massachusetts</td>\n",
       "    </tr>\n",
       "    <tr>\n",
       "      <th>1775-04-20</th>\n",
       "      <td>Gunpowder Incident</td>\n",
       "      <td>Virginia</td>\n",
       "    </tr>\n",
       "    <tr>\n",
       "      <th>...</th>\n",
       "      <td>...</td>\n",
       "      <td>...</td>\n",
       "    </tr>\n",
       "    <tr>\n",
       "      <th>1782-09-11</th>\n",
       "      <td>Siege of Fort Henry</td>\n",
       "      <td>Virginia</td>\n",
       "    </tr>\n",
       "    <tr>\n",
       "      <th>1782-09-13</th>\n",
       "      <td>Grand Assault on Gibraltar</td>\n",
       "      <td>NaN</td>\n",
       "    </tr>\n",
       "    <tr>\n",
       "      <th>1782-10-18</th>\n",
       "      <td>Action of 18 October 1782</td>\n",
       "      <td>NaN</td>\n",
       "    </tr>\n",
       "    <tr>\n",
       "      <th>1782-12-06</th>\n",
       "      <td>Action of 6 December 1782</td>\n",
       "      <td>NaN</td>\n",
       "    </tr>\n",
       "    <tr>\n",
       "      <th>1783-01-22</th>\n",
       "      <td>Action of 22 January 1783</td>\n",
       "      <td>Virginia</td>\n",
       "    </tr>\n",
       "  </tbody>\n",
       "</table>\n",
       "<p>232 rows × 2 columns</p>\n",
       "</div>"
      ],
      "text/plain": [
       "                                       Battle          State\n",
       "Start Date                                                  \n",
       "1774-09-01                       Powder Alarm  Massachusetts\n",
       "1774-12-14  Storming of Fort William and Mary  New Hampshire\n",
       "1775-04-19   Battles of Lexington and Concord  Massachusetts\n",
       "1775-04-19                    Siege of Boston  Massachusetts\n",
       "1775-04-20                 Gunpowder Incident       Virginia\n",
       "...                                       ...            ...\n",
       "1782-09-11                Siege of Fort Henry       Virginia\n",
       "1782-09-13         Grand Assault on Gibraltar            NaN\n",
       "1782-10-18          Action of 18 October 1782            NaN\n",
       "1782-12-06          Action of 6 December 1782            NaN\n",
       "1783-01-22          Action of 22 January 1783       Virginia\n",
       "\n",
       "[232 rows x 2 columns]"
      ]
     },
     "execution_count": 17,
     "metadata": {},
     "output_type": "execute_result"
    }
   ],
   "source": [
    "pd.read_csv(\"revolutionary_war.csv\", \n",
    "            index_col = \"Start Date\", \n",
    "            parse_dates = [\"Start Date\"])"
   ]
  },
  {
   "cell_type": "code",
   "execution_count": 18,
   "id": "a6c85db2-d77b-4940-8f8a-f0c9209f403b",
   "metadata": {},
   "outputs": [
    {
     "data": {
      "text/plain": [
       "Start Date\n",
       "1774-09-01    Massachusetts\n",
       "1774-12-14    New Hampshire\n",
       "1775-04-19    Massachusetts\n",
       "1775-04-19    Massachusetts\n",
       "1775-04-20         Virginia\n",
       "                  ...      \n",
       "1782-09-11         Virginia\n",
       "1782-09-13              NaN\n",
       "1782-10-18              NaN\n",
       "1782-12-06              NaN\n",
       "1783-01-22         Virginia\n",
       "Name: State, Length: 232, dtype: object"
      ]
     },
     "execution_count": 18,
     "metadata": {},
     "output_type": "execute_result"
    }
   ],
   "source": [
    "pd.read_csv(\"revolutionary_war.csv\", \n",
    "            index_col = \"Start Date\", \n",
    "            parse_dates = [\"Start Date\"],\n",
    "            usecols = [\"State\", \"Start Date\"]\n",
    "           ).squeeze()"
   ]
  },
  {
   "cell_type": "code",
   "execution_count": 19,
   "id": "beccba41-a3f0-423b-a11f-3aded1f08938",
   "metadata": {},
   "outputs": [],
   "source": [
    "battles = pd.read_csv(\"revolutionary_war.csv\", \n",
    "            index_col = \"Start Date\", \n",
    "            parse_dates = [\"Start Date\"],\n",
    "            usecols = [\"State\", \"Start Date\"]\n",
    "           ).squeeze()"
   ]
  },
  {
   "cell_type": "markdown",
   "id": "e5abef7f-0a49-44a0-b6f0-fd3ae50abce5",
   "metadata": {},
   "source": [
    "## 3.2 Series Alignment"
   ]
  },
  {
   "cell_type": "code",
   "execution_count": 20,
   "id": "aadec7fe-37fe-4775-9f24-a985d008755f",
   "metadata": {},
   "outputs": [
    {
     "data": {
      "text/plain": [
       "Date\n",
       "2004-09-03      49.82\n",
       "2004-09-01      49.94\n",
       "2004-08-19      49.98\n",
       "2004-09-02      50.57\n",
       "2004-09-07      50.60\n",
       "               ...   \n",
       "2019-04-23    1264.55\n",
       "2019-10-25    1265.13\n",
       "2018-07-26    1268.33\n",
       "2019-04-26    1272.18\n",
       "2019-04-29    1287.58\n",
       "Name: Close, Length: 3824, dtype: float64"
      ]
     },
     "execution_count": 20,
     "metadata": {},
     "output_type": "execute_result"
    }
   ],
   "source": [
    "google.sort_values()"
   ]
  },
  {
   "cell_type": "code",
   "execution_count": 22,
   "id": "b0ac00b3-d4db-4f5b-ae0e-062e4cdefa4a",
   "metadata": {},
   "outputs": [
    {
     "data": {
      "text/plain": [
       "Pokemon\n",
       "Illumise                Bug\n",
       "Silcoon                 Bug\n",
       "Pinsir                  Bug\n",
       "Burmy                   Bug\n",
       "Wurmple                 Bug\n",
       "                  ...      \n",
       "Tirtouga       Water / Rock\n",
       "Relicanth      Water / Rock\n",
       "Corsola        Water / Rock\n",
       "Carracosta     Water / Rock\n",
       "Empoleon      Water / Steel\n",
       "Name: Type, Length: 809, dtype: object"
      ]
     },
     "execution_count": 22,
     "metadata": {},
     "output_type": "execute_result"
    }
   ],
   "source": [
    "pokemon.sort_values()"
   ]
  },
  {
   "cell_type": "code",
   "execution_count": 24,
   "id": "46c22b1b-f926-4c13-b46c-712a3579a274",
   "metadata": {},
   "outputs": [
    {
     "data": {
      "text/plain": [
       "Date\n",
       "2019-04-29    1287.58\n",
       "2019-04-26    1272.18\n",
       "2018-07-26    1268.33\n",
       "2019-10-25    1265.13\n",
       "2019-04-23    1264.55\n",
       "               ...   \n",
       "2004-09-07      50.60\n",
       "2004-09-02      50.57\n",
       "2004-08-19      49.98\n",
       "2004-09-01      49.94\n",
       "2004-09-03      49.82\n",
       "Name: Close, Length: 3824, dtype: float64"
      ]
     },
     "execution_count": 24,
     "metadata": {},
     "output_type": "execute_result"
    }
   ],
   "source": [
    "google.sort_values(ascending = False)"
   ]
  },
  {
   "cell_type": "code",
   "execution_count": 25,
   "id": "dde95532-f49d-4b69-b10f-d198c4395f4e",
   "metadata": {},
   "outputs": [
    {
     "data": {
      "text/plain": [
       "Start Date\n",
       "1781-09-06    Connecticut\n",
       "1779-07-05    Connecticut\n",
       "1777-04-27    Connecticut\n",
       "1777-09-03       Delaware\n",
       "1777-05-17        Florida\n",
       "                 ...     \n",
       "1782-08-08            NaN\n",
       "1782-08-25            NaN\n",
       "1782-09-13            NaN\n",
       "1782-10-18            NaN\n",
       "1782-12-06            NaN\n",
       "Name: State, Length: 232, dtype: object"
      ]
     },
     "execution_count": 25,
     "metadata": {},
     "output_type": "execute_result"
    }
   ],
   "source": [
    "battles.sort_values()"
   ]
  },
  {
   "cell_type": "code",
   "execution_count": 27,
   "id": "afcea929-70d5-453d-9388-31440b85c819",
   "metadata": {},
   "outputs": [
    {
     "data": {
      "text/plain": [
       "Start Date\n",
       "1775-09-17         NaN\n",
       "1775-12-31         NaN\n",
       "1776-03-03         NaN\n",
       "1776-03-25         NaN\n",
       "1776-05-18         NaN\n",
       "                ...   \n",
       "1781-07-06    Virginia\n",
       "1781-07-01    Virginia\n",
       "1781-06-26    Virginia\n",
       "1781-04-25    Virginia\n",
       "1783-01-22    Virginia\n",
       "Name: State, Length: 232, dtype: object"
      ]
     },
     "execution_count": 27,
     "metadata": {},
     "output_type": "execute_result"
    }
   ],
   "source": [
    "battles.sort_values(na_position = \"first\")"
   ]
  },
  {
   "cell_type": "code",
   "execution_count": 28,
   "id": "6db17526-1a02-4cf4-8af8-95c7e84f942a",
   "metadata": {},
   "outputs": [
    {
     "data": {
      "text/plain": [
       "Start Date\n",
       "1781-09-06    Connecticut\n",
       "1779-07-05    Connecticut\n",
       "1777-04-27    Connecticut\n",
       "1777-09-03       Delaware\n",
       "1777-05-17        Florida\n",
       "                 ...     \n",
       "1781-07-06       Virginia\n",
       "1781-07-01       Virginia\n",
       "1781-06-26       Virginia\n",
       "1781-04-25       Virginia\n",
       "1783-01-22       Virginia\n",
       "Name: State, Length: 162, dtype: object"
      ]
     },
     "execution_count": 28,
     "metadata": {},
     "output_type": "execute_result"
    }
   ],
   "source": [
    "battles.dropna().sort_values()"
   ]
  },
  {
   "cell_type": "code",
   "execution_count": 29,
   "id": "73aca91d-65df-4612-b712-b8a129813056",
   "metadata": {},
   "outputs": [
    {
     "data": {
      "text/plain": [
       "Pokemon\n",
       "Abomasnow        Grass / Ice\n",
       "Abra                 Psychic\n",
       "Absol                   Dark\n",
       "Accelgor                 Bug\n",
       "Aegislash      Steel / Ghost\n",
       "                  ...       \n",
       "Zoroark                 Dark\n",
       "Zorua                   Dark\n",
       "Zubat        Poison / Flying\n",
       "Zweilous       Dark / Dragon\n",
       "Zygarde      Dragon / Ground\n",
       "Name: Type, Length: 809, dtype: object"
      ]
     },
     "execution_count": 29,
     "metadata": {},
     "output_type": "execute_result"
    }
   ],
   "source": [
    "pokemon.sort_index()"
   ]
  },
  {
   "cell_type": "code",
   "execution_count": 31,
   "id": "3a2d8ab1-b17e-41a8-a43a-43f9d03546e3",
   "metadata": {},
   "outputs": [
    {
     "data": {
      "text/plain": [
       "Start Date\n",
       "1774-09-01    Massachusetts\n",
       "1774-12-14    New Hampshire\n",
       "1775-04-19    Massachusetts\n",
       "1775-04-19    Massachusetts\n",
       "1775-04-20         Virginia\n",
       "                  ...      \n",
       "1783-01-22         Virginia\n",
       "NaT              New Jersey\n",
       "NaT                Virginia\n",
       "NaT                     NaN\n",
       "NaT                     NaN\n",
       "Name: State, Length: 232, dtype: object"
      ]
     },
     "execution_count": 31,
     "metadata": {},
     "output_type": "execute_result"
    }
   ],
   "source": [
    "battles.sort_index()"
   ]
  },
  {
   "cell_type": "code",
   "execution_count": 34,
   "id": "fbe05814-2d41-41f7-98fb-e0c38e04d6e0",
   "metadata": {},
   "outputs": [
    {
     "data": {
      "text/plain": [
       "Start Date\n",
       "NaT              New Jersey\n",
       "NaT                Virginia\n",
       "NaT                     NaN\n",
       "NaT                     NaN\n",
       "1774-09-01    Massachusetts\n",
       "                  ...      \n",
       "1782-09-11         Virginia\n",
       "1782-09-13              NaN\n",
       "1782-10-18              NaN\n",
       "1782-12-06              NaN\n",
       "1783-01-22         Virginia\n",
       "Name: State, Length: 232, dtype: object"
      ]
     },
     "execution_count": 34,
     "metadata": {},
     "output_type": "execute_result"
    }
   ],
   "source": [
    "battles.sort_index(na_position = \"first\")"
   ]
  },
  {
   "cell_type": "code",
   "execution_count": 35,
   "id": "0e82929d-123f-45ea-ae8a-cc626cce3cea",
   "metadata": {},
   "outputs": [
    {
     "data": {
      "text/plain": [
       "Start Date\n",
       "1783-01-22         Virginia\n",
       "1782-12-06              NaN\n",
       "1782-10-18              NaN\n",
       "1782-09-13              NaN\n",
       "1782-09-11         Virginia\n",
       "                  ...      \n",
       "1774-09-01    Massachusetts\n",
       "NaT              New Jersey\n",
       "NaT                Virginia\n",
       "NaT                     NaN\n",
       "NaT                     NaN\n",
       "Name: State, Length: 232, dtype: object"
      ]
     },
     "execution_count": 35,
     "metadata": {},
     "output_type": "execute_result"
    }
   ],
   "source": [
    "battles.sort_index(ascending = False)"
   ]
  },
  {
   "cell_type": "code",
   "execution_count": 36,
   "id": "b3f55d1b-acec-4f8e-8bce-69104fc7e13f",
   "metadata": {},
   "outputs": [
    {
     "data": {
      "text/plain": [
       "Date\n",
       "2019-04-29    1287.58\n",
       "2019-04-26    1272.18\n",
       "2018-07-26    1268.33\n",
       "2019-10-25    1265.13\n",
       "2019-04-23    1264.55\n",
       "Name: Close, dtype: float64"
      ]
     },
     "execution_count": 36,
     "metadata": {},
     "output_type": "execute_result"
    }
   ],
   "source": [
    "google.nlargest(n=5)"
   ]
  },
  {
   "cell_type": "code",
   "execution_count": 37,
   "id": "3690a942-2c96-4266-8299-10c03e9b25e5",
   "metadata": {},
   "outputs": [
    {
     "data": {
      "text/plain": [
       "Date\n",
       "2004-09-03    49.82\n",
       "2004-09-01    49.94\n",
       "2004-08-19    49.98\n",
       "2004-09-02    50.57\n",
       "2004-09-07    50.60\n",
       "Name: Close, dtype: float64"
      ]
     },
     "execution_count": 37,
     "metadata": {},
     "output_type": "execute_result"
    }
   ],
   "source": [
    "google.nsmallest(n=5)"
   ]
  },
  {
   "cell_type": "markdown",
   "id": "e024de74-090f-4dc7-96eb-04a2d6eb14e0",
   "metadata": {},
   "source": [
    "## 3.3 Overwrite the Series with the inplace parameter  "
   ]
  },
  {
   "cell_type": "code",
   "execution_count": 38,
   "id": "19796dbd-2b06-4719-8213-3af9bc6f3e10",
   "metadata": {},
   "outputs": [
    {
     "data": {
      "text/plain": [
       "Start Date\n",
       "1774-09-01    Massachusetts\n",
       "1774-12-14    New Hampshire\n",
       "1775-04-19    Massachusetts\n",
       "Name: State, dtype: object"
      ]
     },
     "execution_count": 38,
     "metadata": {},
     "output_type": "execute_result"
    }
   ],
   "source": [
    "battles.head(3)"
   ]
  },
  {
   "cell_type": "code",
   "execution_count": 39,
   "id": "2a25c78f-fcbb-4a6e-aca0-a242198c59a2",
   "metadata": {},
   "outputs": [
    {
     "ename": "ValueError",
     "evalue": "This Series is a view of some other array, to sort in-place you must create a copy",
     "output_type": "error",
     "traceback": [
      "\u001b[1;31m---------------------------------------------------------------------------\u001b[0m",
      "\u001b[1;31mValueError\u001b[0m                                Traceback (most recent call last)",
      "Cell \u001b[1;32mIn[39], line 1\u001b[0m\n\u001b[1;32m----> 1\u001b[0m battles\u001b[38;5;241m.\u001b[39msort_values(inplace \u001b[38;5;241m=\u001b[39m \u001b[38;5;28;01mTrue\u001b[39;00m)\n",
      "File \u001b[1;32m~\\anaconda3\\envs\\pandas_in_action\\Lib\\site-packages\\pandas\\core\\series.py:3846\u001b[0m, in \u001b[0;36mSeries.sort_values\u001b[1;34m(self, axis, ascending, inplace, kind, na_position, ignore_index, key)\u001b[0m\n\u001b[0;32m   3844\u001b[0m \u001b[38;5;66;03m# GH 5856/5853\u001b[39;00m\n\u001b[0;32m   3845\u001b[0m \u001b[38;5;28;01mif\u001b[39;00m inplace \u001b[38;5;129;01mand\u001b[39;00m \u001b[38;5;28mself\u001b[39m\u001b[38;5;241m.\u001b[39m_is_cached:\n\u001b[1;32m-> 3846\u001b[0m     \u001b[38;5;28;01mraise\u001b[39;00m \u001b[38;5;167;01mValueError\u001b[39;00m(\n\u001b[0;32m   3847\u001b[0m         \u001b[38;5;124m\"\u001b[39m\u001b[38;5;124mThis Series is a view of some other array, to \u001b[39m\u001b[38;5;124m\"\u001b[39m\n\u001b[0;32m   3848\u001b[0m         \u001b[38;5;124m\"\u001b[39m\u001b[38;5;124msort in-place you must create a copy\u001b[39m\u001b[38;5;124m\"\u001b[39m\n\u001b[0;32m   3849\u001b[0m     )\n\u001b[0;32m   3851\u001b[0m \u001b[38;5;28;01mif\u001b[39;00m is_list_like(ascending):\n\u001b[0;32m   3852\u001b[0m     ascending \u001b[38;5;241m=\u001b[39m cast(Sequence[\u001b[38;5;28mbool\u001b[39m], ascending)\n",
      "\u001b[1;31mValueError\u001b[0m: This Series is a view of some other array, to sort in-place you must create a copy"
     ]
    }
   ],
   "source": [
    "battles.sort_values(inplace = True)"
   ]
  },
  {
   "cell_type": "code",
   "execution_count": 40,
   "id": "d9c23f05-27d9-4a23-808b-a3aba4576689",
   "metadata": {},
   "outputs": [],
   "source": [
    "battles = battles.sort_values()"
   ]
  },
  {
   "cell_type": "code",
   "execution_count": 41,
   "id": "409783eb-8b9a-48df-b4d5-fc7a9e63cddb",
   "metadata": {},
   "outputs": [
    {
     "data": {
      "text/plain": [
       "Start Date\n",
       "1781-09-06    Connecticut\n",
       "1779-07-05    Connecticut\n",
       "1777-04-27    Connecticut\n",
       "1777-09-03       Delaware\n",
       "1777-05-17        Florida\n",
       "                 ...     \n",
       "1782-08-08            NaN\n",
       "1782-08-25            NaN\n",
       "1782-09-13            NaN\n",
       "1782-10-18            NaN\n",
       "1782-12-06            NaN\n",
       "Name: State, Length: 232, dtype: object"
      ]
     },
     "execution_count": 41,
     "metadata": {},
     "output_type": "execute_result"
    }
   ],
   "source": [
    "battles"
   ]
  },
  {
   "cell_type": "markdown",
   "id": "d2b2bdd2-24be-4e85-b1d2-7a313cba641d",
   "metadata": {},
   "source": []
  },
  {
   "cell_type": "markdown",
   "id": "e8d8fb15-5555-4887-9c01-85ca673f90ed",
   "metadata": {},
   "source": [
    "## 3.4 Calculate the value by using value_counts method"
   ]
  },
  {
   "cell_type": "code",
   "execution_count": 43,
   "id": "ac1b8568-a935-4391-a266-8db9dab8b662",
   "metadata": {},
   "outputs": [
    {
     "data": {
      "text/plain": [
       "Pokemon\n",
       "Bulbasaur     Grass / Poison\n",
       "Ivysaur       Grass / Poison\n",
       "Venusaur      Grass / Poison\n",
       "Charmander              Fire\n",
       "Charmeleon              Fire\n",
       "Name: Type, dtype: object"
      ]
     },
     "execution_count": 43,
     "metadata": {},
     "output_type": "execute_result"
    }
   ],
   "source": [
    "pokemon.head()"
   ]
  },
  {
   "cell_type": "code",
   "execution_count": 44,
   "id": "ab60a27f-708d-4fb8-a5ab-1fb5e675d62e",
   "metadata": {},
   "outputs": [
    {
     "data": {
      "text/plain": [
       "Type\n",
       "Normal              65\n",
       "Water               61\n",
       "Grass               38\n",
       "Psychic             35\n",
       "Fire                30\n",
       "                    ..\n",
       "Normal / Dragon      1\n",
       "Psychic / Steel      1\n",
       "Rock / Poison        1\n",
       "Fighting / Ghost     1\n",
       "Fire / Ghost         1\n",
       "Name: count, Length: 159, dtype: int64"
      ]
     },
     "execution_count": 44,
     "metadata": {},
     "output_type": "execute_result"
    }
   ],
   "source": [
    "pokemon.value_counts()"
   ]
  },
  {
   "cell_type": "code",
   "execution_count": 45,
   "id": "4eb9b6f2-e27f-458d-bf90-a0930093d139",
   "metadata": {},
   "outputs": [
    {
     "data": {
      "text/plain": [
       "159"
      ]
     },
     "execution_count": 45,
     "metadata": {},
     "output_type": "execute_result"
    }
   ],
   "source": [
    "len(pokemon.value_counts())"
   ]
  },
  {
   "cell_type": "code",
   "execution_count": 46,
   "id": "647d3548-6358-4728-81cf-397f2ab9decf",
   "metadata": {},
   "outputs": [
    {
     "data": {
      "text/plain": [
       "Type\n",
       "Steel / Ground      1\n",
       "Fire / Rock         1\n",
       "Rock / Dark         1\n",
       "Psychic / Grass     1\n",
       "Fire / Steel        1\n",
       "                   ..\n",
       "Fire               30\n",
       "Psychic            35\n",
       "Grass              38\n",
       "Water              61\n",
       "Normal             65\n",
       "Name: count, Length: 159, dtype: int64"
      ]
     },
     "execution_count": 46,
     "metadata": {},
     "output_type": "execute_result"
    }
   ],
   "source": [
    "pokemon.value_counts(ascending = True)"
   ]
  },
  {
   "cell_type": "code",
   "execution_count": 47,
   "id": "32ae409c-8d0d-46cc-bec9-c058ab535774",
   "metadata": {},
   "outputs": [
    {
     "data": {
      "text/plain": [
       "Type\n",
       "Normal     0.080346\n",
       "Water      0.075402\n",
       "Grass      0.046972\n",
       "Psychic    0.043263\n",
       "Fire       0.037083\n",
       "Name: proportion, dtype: float64"
      ]
     },
     "execution_count": 47,
     "metadata": {},
     "output_type": "execute_result"
    }
   ],
   "source": [
    "pokemon.value_counts(normalize = True).head()"
   ]
  },
  {
   "cell_type": "code",
   "execution_count": 48,
   "id": "68e5d7e9-a46f-446d-8073-2500cffa8688",
   "metadata": {},
   "outputs": [
    {
     "data": {
      "text/plain": [
       "Type\n",
       "Normal              8.034611\n",
       "Water               7.540173\n",
       "Grass               4.697157\n",
       "Psychic             4.326329\n",
       "Fire                3.708282\n",
       "                      ...   \n",
       "Normal / Dragon     0.123609\n",
       "Psychic / Steel     0.123609\n",
       "Rock / Poison       0.123609\n",
       "Fighting / Ghost    0.123609\n",
       "Fire / Ghost        0.123609\n",
       "Name: proportion, Length: 159, dtype: float64"
      ]
     },
     "execution_count": 48,
     "metadata": {},
     "output_type": "execute_result"
    }
   ],
   "source": [
    "pokemon.value_counts(normalize = True) * 100"
   ]
  },
  {
   "cell_type": "code",
   "execution_count": 49,
   "id": "8ca4541e-67ed-4df1-b581-1f2ca9be98f0",
   "metadata": {},
   "outputs": [
    {
     "data": {
      "text/plain": [
       "Type\n",
       "Normal              8.03\n",
       "Water               7.54\n",
       "Grass               4.70\n",
       "Psychic             4.33\n",
       "Fire                3.71\n",
       "                    ... \n",
       "Normal / Dragon     0.12\n",
       "Psychic / Steel     0.12\n",
       "Rock / Poison       0.12\n",
       "Fighting / Ghost    0.12\n",
       "Fire / Ghost        0.12\n",
       "Name: proportion, Length: 159, dtype: float64"
      ]
     },
     "execution_count": 49,
     "metadata": {},
     "output_type": "execute_result"
    }
   ],
   "source": [
    "(pokemon.value_counts(normalize = True) * 100).round(2)"
   ]
  },
  {
   "cell_type": "code",
   "execution_count": 52,
   "id": "a6a52f4f-76f4-46fd-b889-b039d7064f1f",
   "metadata": {},
   "outputs": [
    {
     "data": {
      "text/plain": [
       "Close\n",
       "307.10    3\n",
       "237.04    3\n",
       "194.27    3\n",
       "288.92    3\n",
       "290.41    3\n",
       "         ..\n",
       "49.82     1\n",
       "50.60     1\n",
       "58.91     1\n",
       "52.47     1\n",
       "53.55     1\n",
       "Name: count, Length: 3696, dtype: int64"
      ]
     },
     "execution_count": 52,
     "metadata": {},
     "output_type": "execute_result"
    }
   ],
   "source": [
    "google.value_counts()"
   ]
  },
  {
   "cell_type": "code",
   "execution_count": 53,
   "id": "fe204a93-0089-4d40-a7a8-e82d12ade952",
   "metadata": {},
   "outputs": [
    {
     "data": {
      "text/plain": [
       "1287.58"
      ]
     },
     "execution_count": 53,
     "metadata": {},
     "output_type": "execute_result"
    }
   ],
   "source": [
    "google.max()"
   ]
  },
  {
   "cell_type": "code",
   "execution_count": 54,
   "id": "b62504d3-d55b-4e24-8a98-0710bcf4d1c6",
   "metadata": {},
   "outputs": [
    {
     "data": {
      "text/plain": [
       "49.82"
      ]
     },
     "execution_count": 54,
     "metadata": {},
     "output_type": "execute_result"
    }
   ],
   "source": [
    "google.min()"
   ]
  },
  {
   "cell_type": "code",
   "execution_count": 56,
   "id": "b2d5525b-313f-4e23-ab58-4acfe7be609a",
   "metadata": {},
   "outputs": [
    {
     "data": {
      "text/plain": [
       "(200.0, 400.0]      1568\n",
       "(-0.001, 200.0]      595\n",
       "(400.0, 600.0]       575\n",
       "(1000.0, 1200.0]     406\n",
       "(600.0, 800.0]       380\n",
       "(800.0, 1000.0]      207\n",
       "(1200.0, 1400.0]      93\n",
       "Name: count, dtype: int64"
      ]
     },
     "execution_count": 56,
     "metadata": {},
     "output_type": "execute_result"
    }
   ],
   "source": [
    "buckets = [0, 200, 400, 600, 800, 1000, 1200, 1400]\n",
    "google.value_counts(bins = buckets)"
   ]
  },
  {
   "cell_type": "code",
   "execution_count": 57,
   "id": "0e64583b-e79a-4098-a332-098609525407",
   "metadata": {},
   "outputs": [
    {
     "data": {
      "text/plain": [
       "(-0.001, 200.0]      595\n",
       "(200.0, 400.0]      1568\n",
       "(400.0, 600.0]       575\n",
       "(600.0, 800.0]       380\n",
       "(800.0, 1000.0]      207\n",
       "(1000.0, 1200.0]     406\n",
       "(1200.0, 1400.0]      93\n",
       "Name: count, dtype: int64"
      ]
     },
     "execution_count": 57,
     "metadata": {},
     "output_type": "execute_result"
    }
   ],
   "source": [
    "google.value_counts(bins = buckets).sort_index()"
   ]
  },
  {
   "cell_type": "code",
   "execution_count": 58,
   "id": "09315f8d-2721-4d51-a123-5637263cddcb",
   "metadata": {},
   "outputs": [
    {
     "data": {
      "text/plain": [
       "(-0.001, 200.0]      595\n",
       "(200.0, 400.0]      1568\n",
       "(400.0, 600.0]       575\n",
       "(600.0, 800.0]       380\n",
       "(800.0, 1000.0]      207\n",
       "(1000.0, 1200.0]     406\n",
       "(1200.0, 1400.0]      93\n",
       "Name: count, dtype: int64"
      ]
     },
     "execution_count": 58,
     "metadata": {},
     "output_type": "execute_result"
    }
   ],
   "source": [
    "google.value_counts(bins = buckets, sort = False)"
   ]
  },
  {
   "cell_type": "code",
   "execution_count": 59,
   "id": "a2dcb190-4bcf-49b2-9188-c11b3f206232",
   "metadata": {},
   "outputs": [
    {
     "data": {
      "text/plain": [
       "(48.581, 256.113]      1204\n",
       "(256.113, 462.407]     1104\n",
       "(462.407, 668.7]        507\n",
       "(668.7, 874.993]        380\n",
       "(874.993, 1081.287]     292\n",
       "(1081.287, 1287.58]     337\n",
       "Name: count, dtype: int64"
      ]
     },
     "execution_count": 59,
     "metadata": {},
     "output_type": "execute_result"
    }
   ],
   "source": [
    "google.value_counts(bins = 6, sort = False)"
   ]
  },
  {
   "cell_type": "code",
   "execution_count": 60,
   "id": "e40d5cd5-abbe-477a-8eb7-02ab1669a50b",
   "metadata": {},
   "outputs": [
    {
     "data": {
      "text/plain": [
       "Start Date\n",
       "1781-09-06    Connecticut\n",
       "1779-07-05    Connecticut\n",
       "1777-04-27    Connecticut\n",
       "1777-09-03       Delaware\n",
       "1777-05-17        Florida\n",
       "Name: State, dtype: object"
      ]
     },
     "execution_count": 60,
     "metadata": {},
     "output_type": "execute_result"
    }
   ],
   "source": [
    "battles.head()"
   ]
  },
  {
   "cell_type": "code",
   "execution_count": 62,
   "id": "fbfa0786-d72a-43f5-8c25-6bf3f9c7ab61",
   "metadata": {},
   "outputs": [
    {
     "data": {
      "text/plain": [
       "State\n",
       "South Carolina    31\n",
       "New York          28\n",
       "New Jersey        24\n",
       "Virginia          21\n",
       "Massachusetts     11\n",
       "Pennsylvania      10\n",
       "North Carolina     9\n",
       "Florida            8\n",
       "Georgia            6\n",
       "Connecticut        3\n",
       "Rhode Island       3\n",
       "Vermont            3\n",
       "Indiana            1\n",
       "New Hampshire      1\n",
       "Louisiana          1\n",
       "Delaware           1\n",
       "Ohio               1\n",
       "Name: count, dtype: int64"
      ]
     },
     "execution_count": 62,
     "metadata": {},
     "output_type": "execute_result"
    }
   ],
   "source": [
    "battles.value_counts()"
   ]
  },
  {
   "cell_type": "code",
   "execution_count": 64,
   "id": "31bfec76-be31-4ed4-b81f-a8eeee3f5392",
   "metadata": {},
   "outputs": [
    {
     "data": {
      "text/plain": [
       "State\n",
       "NaN               70\n",
       "South Carolina    31\n",
       "New York          28\n",
       "New Jersey        24\n",
       "Virginia          21\n",
       "Name: count, dtype: int64"
      ]
     },
     "execution_count": 64,
     "metadata": {},
     "output_type": "execute_result"
    }
   ],
   "source": [
    "battles.value_counts(dropna = False). head()"
   ]
  },
  {
   "cell_type": "code",
   "execution_count": 65,
   "id": "bb585226-fef3-42ab-ba47-69136fa03d9b",
   "metadata": {},
   "outputs": [
    {
     "data": {
      "text/plain": [
       "DatetimeIndex(['1781-09-06', '1779-07-05', '1777-04-27', '1777-09-03',\n",
       "               '1777-05-17', '1779-09-10', '1779-09-07', '1780-03-02',\n",
       "               '1778-06-30', '1781-01-07',\n",
       "               ...\n",
       "               '1782-05-06', '1782-05-25', '1782-05-28', '1782-07-01',\n",
       "               '1782-07-06', '1782-08-08', '1782-08-25', '1782-09-13',\n",
       "               '1782-10-18', '1782-12-06'],\n",
       "              dtype='datetime64[ns]', name='Start Date', length=232, freq=None)"
      ]
     },
     "execution_count": 65,
     "metadata": {},
     "output_type": "execute_result"
    }
   ],
   "source": [
    "battles.index"
   ]
  },
  {
   "cell_type": "code",
   "execution_count": 66,
   "id": "295997ca-ac3b-4446-b071-8ecee0bba787",
   "metadata": {},
   "outputs": [
    {
     "data": {
      "text/plain": [
       "Start Date\n",
       "1781-05-22    2\n",
       "1780-05-25    2\n",
       "1775-04-19    2\n",
       "1777-08-22    2\n",
       "1778-09-07    2\n",
       "             ..\n",
       "1782-08-08    1\n",
       "1782-08-25    1\n",
       "1782-09-13    1\n",
       "1782-10-18    1\n",
       "1782-12-06    1\n",
       "Name: count, Length: 217, dtype: int64"
      ]
     },
     "execution_count": 66,
     "metadata": {},
     "output_type": "execute_result"
    }
   ],
   "source": [
    "battles.index.value_counts()"
   ]
  },
  {
   "cell_type": "markdown",
   "id": "cb3878f4-5140-49e7-81c8-8f903c036544",
   "metadata": {},
   "source": [
    "## 3.5 Call the function of all Series values by using apply method"
   ]
  },
  {
   "cell_type": "code",
   "execution_count": 68,
   "id": "2c9ac924-5655-4cd1-8268-bfb36ea29b05",
   "metadata": {},
   "outputs": [],
   "source": [
    "funcs = [len, max, min]"
   ]
  },
  {
   "cell_type": "code",
   "execution_count": 69,
   "id": "559cceaf-29b2-4581-8fc2-d89be9e2d02f",
   "metadata": {},
   "outputs": [
    {
     "name": "stdout",
     "output_type": "stream",
     "text": [
      "3824\n",
      "1287.58\n",
      "49.82\n"
     ]
    }
   ],
   "source": [
    "for current_func in funcs :\n",
    "    print(current_func(google))"
   ]
  },
  {
   "cell_type": "code",
   "execution_count": 70,
   "id": "0466c44e-acec-4809-b349-646254f1a777",
   "metadata": {},
   "outputs": [
    {
     "data": {
      "text/plain": [
       "Date\n",
       "2004-08-19      49.98\n",
       "2004-08-20      53.95\n",
       "2004-08-23      54.50\n",
       "2004-08-24      52.24\n",
       "2004-08-25      52.80\n",
       "               ...   \n",
       "2019-10-21    1246.15\n",
       "2019-10-22    1242.80\n",
       "2019-10-23    1259.13\n",
       "2019-10-24    1260.99\n",
       "2019-10-25    1265.13\n",
       "Name: Close, Length: 3824, dtype: float64"
      ]
     },
     "execution_count": 70,
     "metadata": {},
     "output_type": "execute_result"
    }
   ],
   "source": [
    "google"
   ]
  },
  {
   "cell_type": "code",
   "execution_count": 71,
   "id": "374886da-2891-4b73-9af2-6ada3d764a1e",
   "metadata": {},
   "outputs": [
    {
     "data": {
      "text/plain": [
       "Date\n",
       "2004-08-19      50\n",
       "2004-08-20      54\n",
       "2004-08-23      54\n",
       "2004-08-24      52\n",
       "2004-08-25      53\n",
       "              ... \n",
       "2019-10-21    1246\n",
       "2019-10-22    1243\n",
       "2019-10-23    1259\n",
       "2019-10-24    1261\n",
       "2019-10-25    1265\n",
       "Name: Close, Length: 3824, dtype: int64"
      ]
     },
     "execution_count": 71,
     "metadata": {},
     "output_type": "execute_result"
    }
   ],
   "source": [
    "google.apply(round)"
   ]
  },
  {
   "cell_type": "code",
   "execution_count": 72,
   "id": "bb8c50b9-0a59-45b8-9e9b-b1cda8efeaf3",
   "metadata": {},
   "outputs": [],
   "source": [
    "def single_or_multi(pokemon_type) :\n",
    "    if \"/\" in pokemon_type :\n",
    "        return \"Multi\"\n",
    "\n",
    "    return \"Single\""
   ]
  },
  {
   "cell_type": "code",
   "execution_count": 73,
   "id": "5f841397-3abf-46a9-afea-24416750f3b0",
   "metadata": {
    "scrolled": true
   },
   "outputs": [
    {
     "data": {
      "text/plain": [
       "'Single'"
      ]
     },
     "execution_count": 73,
     "metadata": {},
     "output_type": "execute_result"
    }
   ],
   "source": [
    "single_or_multi(pokemon)"
   ]
  },
  {
   "cell_type": "code",
   "execution_count": 75,
   "id": "2401e521-4e01-4207-bc86-b2dbf64ccfb8",
   "metadata": {},
   "outputs": [
    {
     "data": {
      "text/plain": [
       "array(['Grass / Poison', 'Grass / Poison', 'Grass / Poison', 'Fire',\n",
       "       'Fire', 'Fire / Flying', 'Water', 'Water', 'Water', 'Bug', 'Bug',\n",
       "       'Bug / Flying', 'Bug / Poison', 'Bug / Poison', 'Bug / Poison',\n",
       "       'Normal / Flying', 'Normal / Flying', 'Normal / Flying', 'Normal',\n",
       "       'Normal', 'Normal / Flying', 'Normal / Flying', 'Poison', 'Poison',\n",
       "       'Electric', 'Electric', 'Ground', 'Ground', 'Poison', 'Poison',\n",
       "       'Poison / Ground', 'Poison', 'Poison', 'Poison / Ground', 'Fairy',\n",
       "       'Fairy', 'Fire', 'Fire', 'Normal / Fairy', 'Normal / Fairy',\n",
       "       'Poison / Flying', 'Poison / Flying', 'Grass / Poison',\n",
       "       'Grass / Poison', 'Grass / Poison', 'Bug / Grass', 'Bug / Grass',\n",
       "       'Bug / Poison', 'Bug / Poison', 'Ground', 'Ground', 'Normal',\n",
       "       'Normal', 'Water', 'Water', 'Fighting', 'Fighting', 'Fire', 'Fire',\n",
       "       'Water', 'Water', 'Water / Fighting', 'Psychic', 'Psychic',\n",
       "       'Psychic', 'Fighting', 'Fighting', 'Fighting', 'Grass / Poison',\n",
       "       'Grass / Poison', 'Grass / Poison', 'Water / Poison',\n",
       "       'Water / Poison', 'Rock / Ground', 'Rock / Ground',\n",
       "       'Rock / Ground', 'Fire', 'Fire', 'Water / Psychic',\n",
       "       'Water / Psychic', 'Electric / Steel', 'Electric / Steel',\n",
       "       'Normal / Flying', 'Normal / Flying', 'Normal / Flying', 'Water',\n",
       "       'Water / Ice', 'Poison', 'Poison', 'Water', 'Water / Ice',\n",
       "       'Ghost / Poison', 'Ghost / Poison', 'Ghost / Poison',\n",
       "       'Rock / Ground', 'Psychic', 'Psychic', 'Water', 'Water',\n",
       "       'Electric', 'Electric', 'Grass / Psychic', 'Grass / Psychic',\n",
       "       'Ground', 'Ground', 'Fighting', 'Fighting', 'Normal', 'Poison',\n",
       "       'Poison', 'Ground / Rock', 'Ground / Rock', 'Normal', 'Grass',\n",
       "       'Normal', 'Water', 'Water', 'Water', 'Water', 'Water',\n",
       "       'Water / Psychic', 'Psychic / Fairy', 'Bug / Flying',\n",
       "       'Ice / Psychic', 'Electric', 'Fire', 'Bug', 'Normal', 'Water',\n",
       "       'Water / Flying', 'Water / Ice', 'Normal', 'Normal', 'Water',\n",
       "       'Electric', 'Fire', 'Normal', 'Rock / Water', 'Rock / Water',\n",
       "       'Rock / Water', 'Rock / Water', 'Rock / Flying', 'Normal',\n",
       "       'Ice / Flying', 'Electric / Flying', 'Fire / Flying', 'Dragon',\n",
       "       'Dragon', 'Dragon / Flying', 'Psychic', 'Psychic', 'Grass',\n",
       "       'Grass', 'Grass', 'Fire', 'Fire', 'Fire', 'Water', 'Water',\n",
       "       'Water', 'Normal', 'Normal', 'Normal / Flying', 'Normal / Flying',\n",
       "       'Bug / Flying', 'Bug / Flying', 'Bug / Poison', 'Bug / Poison',\n",
       "       'Poison / Flying', 'Water / Electric', 'Water / Electric',\n",
       "       'Electric', 'Fairy', 'Normal / Fairy', 'Fairy', 'Fairy / Flying',\n",
       "       'Psychic / Flying', 'Psychic / Flying', 'Electric', 'Electric',\n",
       "       'Electric', 'Grass', 'Water / Fairy', 'Water / Fairy', 'Rock',\n",
       "       'Water', 'Grass / Flying', 'Grass / Flying', 'Grass / Flying',\n",
       "       'Normal', 'Grass', 'Grass', 'Bug / Flying', 'Water / Ground',\n",
       "       'Water / Ground', 'Psychic', 'Dark', 'Dark / Flying',\n",
       "       'Water / Psychic', 'Ghost', 'Psychic', 'Psychic',\n",
       "       'Normal / Psychic', 'Bug', 'Bug / Steel', 'Normal',\n",
       "       'Ground / Flying', 'Steel / Ground', 'Fairy', 'Fairy',\n",
       "       'Water / Poison', 'Bug / Steel', 'Bug / Rock', 'Bug / Fighting',\n",
       "       'Dark / Ice', 'Normal', 'Normal', 'Fire', 'Fire / Rock',\n",
       "       'Ice / Ground', 'Ice / Ground', 'Water / Rock', 'Water', 'Water',\n",
       "       'Ice / Flying', 'Water / Flying', 'Steel / Flying', 'Dark / Fire',\n",
       "       'Dark / Fire', 'Water / Dragon', 'Ground', 'Ground', 'Normal',\n",
       "       'Normal', 'Normal', 'Fighting', 'Fighting', 'Ice / Psychic',\n",
       "       'Electric', 'Fire', 'Normal', 'Normal', 'Electric', 'Fire',\n",
       "       'Water', 'Rock / Ground', 'Rock / Ground', 'Rock / Dark',\n",
       "       'Psychic / Flying', 'Fire / Flying', 'Psychic / Grass', 'Grass',\n",
       "       'Grass', 'Grass', 'Fire', 'Fire / Fighting', 'Fire / Fighting',\n",
       "       'Water', 'Water / Ground', 'Water / Ground', 'Dark', 'Dark',\n",
       "       'Normal', 'Normal', 'Bug', 'Bug', 'Bug / Flying', 'Bug',\n",
       "       'Bug / Poison', 'Water / Grass', 'Water / Grass', 'Water / Grass',\n",
       "       'Grass', 'Grass / Dark', 'Grass / Dark', 'Normal / Flying',\n",
       "       'Normal / Flying', 'Water / Flying', 'Water / Flying',\n",
       "       'Psychic / Fairy', 'Psychic / Fairy', 'Psychic / Fairy',\n",
       "       'Bug / Water', 'Bug / Flying', 'Grass', 'Grass / Fighting',\n",
       "       'Normal', 'Normal', 'Normal', 'Bug / Ground', 'Bug / Flying',\n",
       "       'Bug / Ghost', 'Normal', 'Normal', 'Normal', 'Fighting',\n",
       "       'Fighting', 'Normal / Fairy', 'Rock', 'Normal', 'Normal',\n",
       "       'Dark / Ghost', 'Steel / Fairy', 'Steel / Rock', 'Steel / Rock',\n",
       "       'Steel / Rock', 'Fighting / Psychic', 'Fighting / Psychic',\n",
       "       'Electric', 'Electric', 'Electric', 'Electric', 'Bug', 'Bug',\n",
       "       'Grass / Poison', 'Poison', 'Poison', 'Water / Dark',\n",
       "       'Water / Dark', 'Water', 'Water', 'Fire / Ground', 'Fire / Ground',\n",
       "       'Fire', 'Psychic', 'Psychic', 'Normal', 'Ground',\n",
       "       'Ground / Dragon', 'Ground / Dragon', 'Grass', 'Grass / Dark',\n",
       "       'Normal / Flying', 'Dragon / Flying', 'Normal', 'Poison',\n",
       "       'Rock / Psychic', 'Rock / Psychic', 'Water / Ground',\n",
       "       'Water / Ground', 'Water', 'Water / Dark', 'Ground / Psychic',\n",
       "       'Ground / Psychic', 'Rock / Grass', 'Rock / Grass', 'Rock / Bug',\n",
       "       'Rock / Bug', 'Water', 'Water', 'Normal', 'Normal', 'Ghost',\n",
       "       'Ghost', 'Ghost', 'Ghost', 'Grass / Flying', 'Psychic', 'Dark',\n",
       "       'Psychic', 'Ice', 'Ice', 'Ice / Water', 'Ice / Water',\n",
       "       'Ice / Water', 'Water', 'Water', 'Water', 'Water / Rock', 'Water',\n",
       "       'Dragon', 'Dragon', 'Dragon / Flying', 'Steel / Psychic',\n",
       "       'Steel / Psychic', 'Steel / Psychic', 'Rock', 'Ice', 'Steel',\n",
       "       'Dragon / Psychic', 'Dragon / Psychic', 'Water', 'Ground',\n",
       "       'Dragon / Flying', 'Steel / Psychic', 'Psychic', 'Grass', 'Grass',\n",
       "       'Grass / Ground', 'Fire', 'Fire / Fighting', 'Fire / Fighting',\n",
       "       'Water', 'Water', 'Water / Steel', 'Normal / Flying',\n",
       "       'Normal / Flying', 'Normal / Flying', 'Normal', 'Normal / Water',\n",
       "       'Bug', 'Bug', 'Electric', 'Electric', 'Electric', 'Grass / Poison',\n",
       "       'Grass / Poison', 'Rock', 'Rock', 'Rock / Steel', 'Rock / Steel',\n",
       "       'Bug', 'Bug / Grass', 'Bug / Flying', 'Bug / Flying',\n",
       "       'Bug / Flying', 'Electric', 'Water', 'Water', 'Grass', 'Grass',\n",
       "       'Water', 'Water / Ground', 'Normal', 'Ghost / Flying',\n",
       "       'Ghost / Flying', 'Normal', 'Normal', 'Ghost', 'Dark / Flying',\n",
       "       'Normal', 'Normal', 'Psychic', 'Poison / Dark', 'Poison / Dark',\n",
       "       'Steel / Psychic', 'Steel / Psychic', 'Rock', 'Psychic / Fairy',\n",
       "       'Normal', 'Normal / Flying', 'Ghost / Dark', 'Dragon / Ground',\n",
       "       'Dragon / Ground', 'Dragon / Ground', 'Normal', 'Fighting',\n",
       "       'Fighting / Steel', 'Ground', 'Ground', 'Poison / Bug',\n",
       "       'Poison / Dark', 'Poison / Fighting', 'Poison / Fighting', 'Grass',\n",
       "       'Water', 'Water', 'Water / Flying', 'Grass / Ice', 'Grass / Ice',\n",
       "       'Dark / Ice', 'Electric / Steel', 'Normal', 'Ground / Rock',\n",
       "       'Grass', 'Electric', 'Fire', 'Fairy / Flying', 'Bug / Flying',\n",
       "       'Grass', 'Ice', 'Ground / Flying', 'Ice / Ground', 'Normal',\n",
       "       'Psychic / Fighting', 'Rock / Steel', 'Ghost', 'Ice / Ghost',\n",
       "       'Electric / Ghost', 'Psychic', 'Psychic', 'Psychic',\n",
       "       'Steel / Dragon', 'Water / Dragon', 'Fire / Steel', 'Normal',\n",
       "       'Ghost / Dragon', 'Psychic', 'Water', 'Water', 'Dark', 'Grass',\n",
       "       'Normal', 'Psychic / Fire', 'Grass', 'Grass', 'Grass', 'Fire',\n",
       "       'Fire / Fighting', 'Fire / Fighting', 'Water', 'Water', 'Water',\n",
       "       'Normal', 'Normal', 'Normal', 'Normal', 'Normal', 'Dark', 'Dark',\n",
       "       'Grass', 'Grass', 'Fire', 'Fire', 'Water', 'Water', 'Psychic',\n",
       "       'Psychic', 'Normal / Flying', 'Normal / Flying', 'Normal / Flying',\n",
       "       'Electric', 'Electric', 'Rock', 'Rock', 'Rock', 'Psychic / Flying',\n",
       "       'Psychic / Flying', 'Ground', 'Ground / Steel', 'Normal',\n",
       "       'Fighting', 'Fighting', 'Fighting', 'Water', 'Water / Ground',\n",
       "       'Water / Ground', 'Fighting', 'Fighting', 'Bug / Grass',\n",
       "       'Bug / Grass', 'Bug / Grass', 'Bug / Poison', 'Bug / Poison',\n",
       "       'Bug / Poison', 'Grass / Fairy', 'Grass / Fairy', 'Grass', 'Grass',\n",
       "       'Water', 'Ground / Dark', 'Ground / Dark', 'Ground / Dark', 'Fire',\n",
       "       'Fire', 'Grass', 'Bug / Rock', 'Bug / Rock', 'Dark / Fighting',\n",
       "       'Dark / Fighting', 'Psychic / Flying', 'Ghost', 'Ghost',\n",
       "       'Water / Rock', 'Water / Rock', 'Rock / Flying', 'Rock / Flying',\n",
       "       'Poison', 'Poison', 'Dark', 'Dark', 'Normal', 'Normal', 'Psychic',\n",
       "       'Psychic', 'Psychic', 'Psychic', 'Psychic', 'Psychic',\n",
       "       'Water / Flying', 'Water / Flying', 'Ice', 'Ice', 'Ice',\n",
       "       'Normal / Grass', 'Normal / Grass', 'Electric / Flying', 'Bug',\n",
       "       'Bug / Steel', 'Grass / Poison', 'Grass / Poison', 'Water / Ghost',\n",
       "       'Water / Ghost', 'Water', 'Bug / Electric', 'Bug / Electric',\n",
       "       'Grass / Steel', 'Grass / Steel', 'Steel', 'Steel', 'Steel',\n",
       "       'Electric', 'Electric', 'Electric', 'Psychic', 'Psychic',\n",
       "       'Ghost / Fire', 'Ghost / Fire', 'Ghost / Fire', 'Dragon', 'Dragon',\n",
       "       'Dragon', 'Ice', 'Ice', 'Ice', 'Bug', 'Bug', 'Ground / Electric',\n",
       "       'Fighting', 'Fighting', 'Dragon', 'Ground / Ghost',\n",
       "       'Ground / Ghost', 'Dark / Steel', 'Dark / Steel', 'Normal',\n",
       "       'Normal / Flying', 'Normal / Flying', 'Dark / Flying',\n",
       "       'Dark / Flying', 'Fire', 'Bug / Steel', 'Dark / Dragon',\n",
       "       'Dark / Dragon', 'Dark / Dragon', 'Bug / Fire', 'Bug / Fire',\n",
       "       'Steel / Fighting', 'Rock / Fighting', 'Grass / Fighting',\n",
       "       'Flying', 'Electric / Flying', 'Dragon / Fire',\n",
       "       'Dragon / Electric', 'Ground / Flying', 'Dragon / Ice',\n",
       "       'Water / Fighting', 'Normal / Psychic', 'Bug / Steel', 'Grass',\n",
       "       'Grass', 'Grass / Fighting', 'Fire', 'Fire', 'Fire / Psychic',\n",
       "       'Water', 'Water', 'Water / Dark', 'Normal', 'Normal / Ground',\n",
       "       'Normal / Flying', 'Fire / Flying', 'Fire / Flying', 'Bug', 'Bug',\n",
       "       'Bug / Flying', 'Fire / Normal', 'Fire / Normal', 'Fairy', 'Fairy',\n",
       "       'Fairy', 'Grass', 'Grass', 'Fighting', 'Fighting / Dark', 'Normal',\n",
       "       'Psychic', 'Psychic', 'Steel / Ghost', 'Steel / Ghost',\n",
       "       'Steel / Ghost', 'Fairy', 'Fairy', 'Fairy', 'Fairy',\n",
       "       'Dark / Psychic', 'Dark / Psychic', 'Rock / Water', 'Rock / Water',\n",
       "       'Poison / Water', 'Poison / Dragon', 'Water', 'Water',\n",
       "       'Electric / Normal', 'Electric / Normal', 'Rock / Dragon',\n",
       "       'Rock / Dragon', 'Rock / Ice', 'Rock / Ice', 'Fairy',\n",
       "       'Fighting / Flying', 'Electric / Fairy', 'Rock / Fairy', 'Dragon',\n",
       "       'Dragon', 'Dragon', 'Steel / Fairy', 'Ghost / Grass',\n",
       "       'Ghost / Grass', 'Ghost / Grass', 'Ghost / Grass', 'Ice', 'Ice',\n",
       "       'Flying / Dragon', 'Flying / Dragon', 'Fairy', 'Dark / Flying',\n",
       "       'Dragon / Ground', 'Rock / Fairy', 'Psychic / Ghost',\n",
       "       'Fire / Water', 'Grass / Flying', 'Grass / Flying',\n",
       "       'Grass / Ghost', 'Fire', 'Fire', 'Fire / Dark', 'Water', 'Water',\n",
       "       'Water / Fairy', 'Normal / Flying', 'Normal / Flying',\n",
       "       'Normal / Flying', 'Normal', 'Normal', 'Bug', 'Bug / Electric',\n",
       "       'Bug / Electric', 'Fighting', 'Fighting / Ice', 'Fire / Flying',\n",
       "       'Bug / Fairy', 'Bug / Fairy', 'Rock', 'Rock', 'Water',\n",
       "       'Poison / Water', 'Poison / Water', 'Ground', 'Ground',\n",
       "       'Water / Bug', 'Water / Bug', 'Grass', 'Grass', 'Grass / Fairy',\n",
       "       'Grass / Fairy', 'Poison / Fire', 'Poison / Fire',\n",
       "       'Normal / Fighting', 'Normal / Fighting', 'Grass', 'Grass',\n",
       "       'Grass', 'Fairy', 'Normal / Psychic', 'Fighting', 'Bug / Water',\n",
       "       'Bug / Water', 'Ghost / Ground', 'Ghost / Ground', 'Water',\n",
       "       'Normal', 'Normal', 'Rock / Flying', 'Normal', 'Fire / Dragon',\n",
       "       'Electric / Steel', 'Ghost / Fairy', 'Water / Psychic',\n",
       "       'Normal / Dragon', 'Ghost / Grass', 'Dragon', 'Dragon / Fighting',\n",
       "       'Dragon / Fighting', 'Electric / Fairy', 'Psychic / Fairy',\n",
       "       'Grass / Fairy', 'Water / Fairy', 'Psychic', 'Psychic',\n",
       "       'Psychic / Steel', 'Psychic / Ghost', 'Rock / Poison',\n",
       "       'Bug / Fighting', 'Bug / Fighting', 'Electric', 'Steel / Flying',\n",
       "       'Grass / Steel', 'Dark / Dragon', 'Psychic', 'Steel / Fairy',\n",
       "       'Fighting / Ghost', 'Poison', 'Poison / Dragon', 'Rock / Steel',\n",
       "       'Fire / Ghost', 'Electric', 'Steel', 'Steel'], dtype=object)"
      ]
     },
     "execution_count": 75,
     "metadata": {},
     "output_type": "execute_result"
    }
   ],
   "source": [
    "pokemon.values"
   ]
  },
  {
   "cell_type": "code",
   "execution_count": 78,
   "id": "e11dc147-9ca9-4468-9d8c-29fada388991",
   "metadata": {},
   "outputs": [
    {
     "data": {
      "text/plain": [
       "Pokemon\n",
       "Bulbasaur       Multi\n",
       "Ivysaur         Multi\n",
       "Venusaur        Multi\n",
       "Charmander     Single\n",
       "Charmeleon     Single\n",
       "                ...  \n",
       "Stakataka       Multi\n",
       "Blacephalon     Multi\n",
       "Zeraora        Single\n",
       "Meltan         Single\n",
       "Melmetal       Single\n",
       "Name: Type, Length: 809, dtype: object"
      ]
     },
     "execution_count": 78,
     "metadata": {},
     "output_type": "execute_result"
    }
   ],
   "source": [
    "pokemon.apply(single_or_multi)"
   ]
  },
  {
   "cell_type": "code",
   "execution_count": 79,
   "id": "a792f311-d0a2-4479-aa5e-d22139555a0f",
   "metadata": {},
   "outputs": [
    {
     "data": {
      "text/plain": [
       "Type\n",
       "Multi     405\n",
       "Single    404\n",
       "Name: count, dtype: int64"
      ]
     },
     "execution_count": 79,
     "metadata": {},
     "output_type": "execute_result"
    }
   ],
   "source": [
    "pokemon.apply(single_or_multi).value_counts()"
   ]
  },
  {
   "cell_type": "markdown",
   "id": "c784fc7c-3fbe-461d-bd6b-aa75d01fc485",
   "metadata": {},
   "source": [
    "## 3.6 Coding Challenge"
   ]
  },
  {
   "cell_type": "code",
   "execution_count": 125,
   "id": "574a4819-75d3-429f-ac74-7ba57cbce904",
   "metadata": {},
   "outputs": [],
   "source": [
    "import datetime as dt"
   ]
  },
  {
   "cell_type": "code",
   "execution_count": 126,
   "id": "15f5ded7-9081-4d85-8375-e04161d64f09",
   "metadata": {},
   "outputs": [
    {
     "data": {
      "text/html": [
       "<div>\n",
       "<style scoped>\n",
       "    .dataframe tbody tr th:only-of-type {\n",
       "        vertical-align: middle;\n",
       "    }\n",
       "\n",
       "    .dataframe tbody tr th {\n",
       "        vertical-align: top;\n",
       "    }\n",
       "\n",
       "    .dataframe thead th {\n",
       "        text-align: right;\n",
       "    }\n",
       "</style>\n",
       "<table border=\"1\" class=\"dataframe\">\n",
       "  <thead>\n",
       "    <tr style=\"text-align: right;\">\n",
       "      <th></th>\n",
       "      <th>Battle</th>\n",
       "      <th>Start Date</th>\n",
       "      <th>State</th>\n",
       "    </tr>\n",
       "  </thead>\n",
       "  <tbody>\n",
       "    <tr>\n",
       "      <th>0</th>\n",
       "      <td>Powder Alarm</td>\n",
       "      <td>9/1/1774</td>\n",
       "      <td>Massachusetts</td>\n",
       "    </tr>\n",
       "    <tr>\n",
       "      <th>1</th>\n",
       "      <td>Storming of Fort William and Mary</td>\n",
       "      <td>12/14/1774</td>\n",
       "      <td>New Hampshire</td>\n",
       "    </tr>\n",
       "    <tr>\n",
       "      <th>2</th>\n",
       "      <td>Battles of Lexington and Concord</td>\n",
       "      <td>4/19/1775</td>\n",
       "      <td>Massachusetts</td>\n",
       "    </tr>\n",
       "    <tr>\n",
       "      <th>3</th>\n",
       "      <td>Siege of Boston</td>\n",
       "      <td>4/19/1775</td>\n",
       "      <td>Massachusetts</td>\n",
       "    </tr>\n",
       "    <tr>\n",
       "      <th>4</th>\n",
       "      <td>Gunpowder Incident</td>\n",
       "      <td>4/20/1775</td>\n",
       "      <td>Virginia</td>\n",
       "    </tr>\n",
       "    <tr>\n",
       "      <th>...</th>\n",
       "      <td>...</td>\n",
       "      <td>...</td>\n",
       "      <td>...</td>\n",
       "    </tr>\n",
       "    <tr>\n",
       "      <th>227</th>\n",
       "      <td>Siege of Fort Henry</td>\n",
       "      <td>9/11/1782</td>\n",
       "      <td>Virginia</td>\n",
       "    </tr>\n",
       "    <tr>\n",
       "      <th>228</th>\n",
       "      <td>Grand Assault on Gibraltar</td>\n",
       "      <td>9/13/1782</td>\n",
       "      <td>NaN</td>\n",
       "    </tr>\n",
       "    <tr>\n",
       "      <th>229</th>\n",
       "      <td>Action of 18 October 1782</td>\n",
       "      <td>10/18/1782</td>\n",
       "      <td>NaN</td>\n",
       "    </tr>\n",
       "    <tr>\n",
       "      <th>230</th>\n",
       "      <td>Action of 6 December 1782</td>\n",
       "      <td>12/6/1782</td>\n",
       "      <td>NaN</td>\n",
       "    </tr>\n",
       "    <tr>\n",
       "      <th>231</th>\n",
       "      <td>Action of 22 January 1783</td>\n",
       "      <td>1/22/1783</td>\n",
       "      <td>Virginia</td>\n",
       "    </tr>\n",
       "  </tbody>\n",
       "</table>\n",
       "<p>232 rows × 3 columns</p>\n",
       "</div>"
      ],
      "text/plain": [
       "                                Battle  Start Date          State\n",
       "0                         Powder Alarm    9/1/1774  Massachusetts\n",
       "1    Storming of Fort William and Mary  12/14/1774  New Hampshire\n",
       "2     Battles of Lexington and Concord   4/19/1775  Massachusetts\n",
       "3                      Siege of Boston   4/19/1775  Massachusetts\n",
       "4                   Gunpowder Incident   4/20/1775       Virginia\n",
       "..                                 ...         ...            ...\n",
       "227                Siege of Fort Henry   9/11/1782       Virginia\n",
       "228         Grand Assault on Gibraltar   9/13/1782            NaN\n",
       "229          Action of 18 October 1782  10/18/1782            NaN\n",
       "230          Action of 6 December 1782   12/6/1782            NaN\n",
       "231          Action of 22 January 1783   1/22/1783       Virginia\n",
       "\n",
       "[232 rows x 3 columns]"
      ]
     },
     "execution_count": 126,
     "metadata": {},
     "output_type": "execute_result"
    }
   ],
   "source": [
    "pd.read_csv(\"revolutionary_war.csv\")"
   ]
  },
  {
   "cell_type": "code",
   "execution_count": 130,
   "id": "d8e659c0-eca7-4430-967e-00839d46586f",
   "metadata": {},
   "outputs": [],
   "source": [
    "revolutionary = pd.read_csv(\"revolutionary_war.csv\", usecols = [\"Start Date\"], parse_dates = [\"Start Date\"]).squeeze()"
   ]
  },
  {
   "cell_type": "code",
   "execution_count": 131,
   "id": "d46df4e4-73df-43d5-9003-45953213cc73",
   "metadata": {},
   "outputs": [
    {
     "data": {
      "text/plain": [
       "0     1774-09-01\n",
       "1     1774-12-14\n",
       "2     1775-04-19\n",
       "3     1775-04-19\n",
       "4     1775-04-20\n",
       "         ...    \n",
       "227   1782-09-11\n",
       "228   1782-09-13\n",
       "229   1782-10-18\n",
       "230   1782-12-06\n",
       "231   1783-01-22\n",
       "Name: Start Date, Length: 232, dtype: datetime64[ns]"
      ]
     },
     "execution_count": 131,
     "metadata": {},
     "output_type": "execute_result"
    }
   ],
   "source": [
    "revolutionary"
   ]
  },
  {
   "cell_type": "code",
   "execution_count": 134,
   "id": "7fda527e-250f-4250-aa35-17a1c18f4a4c",
   "metadata": {},
   "outputs": [],
   "source": [
    "def find_day_of_the_week(day) :\n",
    "    return day.strftime(\"%A\")"
   ]
  },
  {
   "cell_type": "code",
   "execution_count": 137,
   "id": "66626f79-a487-40ac-8a0d-1e1b2a78af82",
   "metadata": {},
   "outputs": [
    {
     "data": {
      "text/plain": [
       "Start Date\n",
       "Saturday     39\n",
       "Friday       39\n",
       "Wednesday    32\n",
       "Thursday     31\n",
       "Sunday       31\n",
       "Tuesday      29\n",
       "Monday       27\n",
       "Name: count, dtype: int64"
      ]
     },
     "execution_count": 137,
     "metadata": {},
     "output_type": "execute_result"
    }
   ],
   "source": [
    "revolutionary.dropna().apply(find_day_of_the_week).value_counts()"
   ]
  }
 ],
 "metadata": {
  "kernelspec": {
   "display_name": "Python 3 (ipykernel)",
   "language": "python",
   "name": "python3"
  },
  "language_info": {
   "codemirror_mode": {
    "name": "ipython",
    "version": 3
   },
   "file_extension": ".py",
   "mimetype": "text/x-python",
   "name": "python",
   "nbconvert_exporter": "python",
   "pygments_lexer": "ipython3",
   "version": "3.12.7"
  }
 },
 "nbformat": 4,
 "nbformat_minor": 5
}
