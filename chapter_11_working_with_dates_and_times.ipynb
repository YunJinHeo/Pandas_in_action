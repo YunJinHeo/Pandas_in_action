{
 "cells": [
  {
   "cell_type": "markdown",
   "id": "52d32311-2b14-4a24-ae3e-e4e558cd300f",
   "metadata": {},
   "source": [
    "## 11.1 Timestamp Object"
   ]
  },
  {
   "cell_type": "code",
   "execution_count": 1,
   "id": "844d7fbf-b232-4e6f-8db6-67559fa44e1a",
   "metadata": {},
   "outputs": [],
   "source": [
    "import datetime as dt\n",
    "import pandas as pd"
   ]
  },
  {
   "cell_type": "code",
   "execution_count": 2,
   "id": "7fc6454a-627b-40a9-8d54-b4e21ed7fc4d",
   "metadata": {},
   "outputs": [
    {
     "data": {
      "text/plain": [
       "datetime.date(1991, 4, 12)"
      ]
     },
     "execution_count": 2,
     "metadata": {},
     "output_type": "execute_result"
    }
   ],
   "source": [
    "birthday = dt.date(1991, 4, 12)\n",
    "birthday"
   ]
  },
  {
   "cell_type": "code",
   "execution_count": 3,
   "id": "c71f6a77-145b-488e-a378-556bfd071a28",
   "metadata": {},
   "outputs": [
    {
     "data": {
      "text/plain": [
       "1991"
      ]
     },
     "execution_count": 3,
     "metadata": {},
     "output_type": "execute_result"
    }
   ],
   "source": [
    "birthday.year"
   ]
  },
  {
   "cell_type": "code",
   "execution_count": 4,
   "id": "7b0bcbce-c994-4846-9731-14f290aeb717",
   "metadata": {},
   "outputs": [
    {
     "data": {
      "text/plain": [
       "4"
      ]
     },
     "execution_count": 4,
     "metadata": {},
     "output_type": "execute_result"
    }
   ],
   "source": [
    "birthday.month"
   ]
  },
  {
   "cell_type": "code",
   "execution_count": 5,
   "id": "ceea4004-5edc-4b0b-a71c-a729ba05ffa8",
   "metadata": {},
   "outputs": [
    {
     "data": {
      "text/plain": [
       "12"
      ]
     },
     "execution_count": 5,
     "metadata": {},
     "output_type": "execute_result"
    }
   ],
   "source": [
    "birthday.day"
   ]
  },
  {
   "cell_type": "code",
   "execution_count": 6,
   "id": "9836ce4e-7246-49fc-b571-6fd91e026096",
   "metadata": {},
   "outputs": [],
   "source": [
    "alarm_clock = dt.time(6, 43, 25)"
   ]
  },
  {
   "cell_type": "code",
   "execution_count": 7,
   "id": "892bb5c5-3bfc-40ac-a734-b40fb90753ba",
   "metadata": {},
   "outputs": [
    {
     "data": {
      "text/plain": [
       "datetime.time(6, 43, 25)"
      ]
     },
     "execution_count": 7,
     "metadata": {},
     "output_type": "execute_result"
    }
   ],
   "source": [
    "alarm_clock"
   ]
  },
  {
   "cell_type": "code",
   "execution_count": 8,
   "id": "aa09c9be-b8c6-41e6-8c01-c47c35c3b446",
   "metadata": {},
   "outputs": [
    {
     "data": {
      "text/plain": [
       "datetime.time(0, 0)"
      ]
     },
     "execution_count": 8,
     "metadata": {},
     "output_type": "execute_result"
    }
   ],
   "source": [
    "dt.time()"
   ]
  },
  {
   "cell_type": "code",
   "execution_count": 9,
   "id": "126df0d9-d980-4704-851a-586d51552b52",
   "metadata": {},
   "outputs": [
    {
     "data": {
      "text/plain": [
       "datetime.time(9, 0, 42)"
      ]
     },
     "execution_count": 9,
     "metadata": {},
     "output_type": "execute_result"
    }
   ],
   "source": [
    "dt.time(hour = 9, second = 42)"
   ]
  },
  {
   "cell_type": "code",
   "execution_count": 10,
   "id": "c8621fce-ec95-4328-ae92-88b84d1fb0df",
   "metadata": {},
   "outputs": [
    {
     "data": {
      "text/plain": [
       "6"
      ]
     },
     "execution_count": 10,
     "metadata": {},
     "output_type": "execute_result"
    }
   ],
   "source": [
    "alarm_clock.hour"
   ]
  },
  {
   "cell_type": "code",
   "execution_count": 11,
   "id": "7d4535fc-c3b0-4be0-8c7d-35e096e54272",
   "metadata": {},
   "outputs": [
    {
     "data": {
      "text/plain": [
       "43"
      ]
     },
     "execution_count": 11,
     "metadata": {},
     "output_type": "execute_result"
    }
   ],
   "source": [
    "alarm_clock.minute"
   ]
  },
  {
   "cell_type": "code",
   "execution_count": 12,
   "id": "aae9fee9-a0a3-4880-9b2f-16df2750c7e1",
   "metadata": {},
   "outputs": [
    {
     "data": {
      "text/plain": [
       "25"
      ]
     },
     "execution_count": 12,
     "metadata": {},
     "output_type": "execute_result"
    }
   ],
   "source": [
    "alarm_clock.second"
   ]
  },
  {
   "cell_type": "code",
   "execution_count": 13,
   "id": "c3c988e9-db0e-471f-97da-0f701fdf4ae8",
   "metadata": {},
   "outputs": [
    {
     "data": {
      "text/plain": [
       "datetime.datetime(1969, 7, 20, 22, 56, 29)"
      ]
     },
     "execution_count": 13,
     "metadata": {},
     "output_type": "execute_result"
    }
   ],
   "source": [
    "moon_landing = dt.datetime(1969, 7, 20, 22, 56, 29)\n",
    "moon_landing"
   ]
  },
  {
   "cell_type": "code",
   "execution_count": 14,
   "id": "3f4e293f-42f8-4bdd-8133-45880e74aecb",
   "metadata": {},
   "outputs": [
    {
     "data": {
      "text/plain": [
       "datetime.datetime(2020, 1, 1, 0, 0)"
      ]
     },
     "execution_count": 14,
     "metadata": {},
     "output_type": "execute_result"
    }
   ],
   "source": [
    "dt.datetime(2020,1,1)"
   ]
  },
  {
   "cell_type": "code",
   "execution_count": 15,
   "id": "9ac431d8-b643-4447-b660-c4e9cd2ff555",
   "metadata": {},
   "outputs": [
    {
     "data": {
      "text/plain": [
       "datetime.timedelta(days=62, seconds=14292)"
      ]
     },
     "execution_count": 15,
     "metadata": {},
     "output_type": "execute_result"
    }
   ],
   "source": [
    "dt.timedelta(\n",
    "    weeks = 8,\n",
    "    days = 6,\n",
    "    hours = 3,\n",
    "    minutes =58,\n",
    "    seconds = 12\n",
    ")"
   ]
  },
  {
   "cell_type": "code",
   "execution_count": 16,
   "id": "6dac98ae-0707-4eb2-93c5-c4585049c088",
   "metadata": {},
   "outputs": [
    {
     "data": {
      "text/plain": [
       "Timestamp('1991-04-12 00:00:00')"
      ]
     },
     "execution_count": 16,
     "metadata": {},
     "output_type": "execute_result"
    }
   ],
   "source": [
    "pd.Timestamp(1991,4,12)"
   ]
  },
  {
   "cell_type": "code",
   "execution_count": 17,
   "id": "885397b8-6faf-4b9f-ad56-a1dc0a2a3cc0",
   "metadata": {},
   "outputs": [
    {
     "data": {
      "text/plain": [
       "True"
      ]
     },
     "execution_count": 17,
     "metadata": {},
     "output_type": "execute_result"
    }
   ],
   "source": [
    "pd.Timestamp(1991,4,12) == dt.datetime(1991,4,12)"
   ]
  },
  {
   "cell_type": "code",
   "execution_count": 18,
   "id": "98b75fdf-d397-48fa-a76f-d33943818b61",
   "metadata": {},
   "outputs": [
    {
     "data": {
      "text/plain": [
       "Timestamp('2015-03-31 00:00:00')"
      ]
     },
     "execution_count": 18,
     "metadata": {},
     "output_type": "execute_result"
    }
   ],
   "source": [
    "pd.Timestamp(\"2015-03-31\")"
   ]
  },
  {
   "cell_type": "code",
   "execution_count": 19,
   "id": "f6ca4657-0420-46a1-bc65-4c5e46537dab",
   "metadata": {},
   "outputs": [
    {
     "data": {
      "text/plain": [
       "Timestamp('2015-03-31 00:00:00')"
      ]
     },
     "execution_count": 19,
     "metadata": {},
     "output_type": "execute_result"
    }
   ],
   "source": [
    "pd.Timestamp(\"2015/03/31\")"
   ]
  },
  {
   "cell_type": "code",
   "execution_count": 20,
   "id": "c0e55dac-e9ee-4059-8fcd-2cde4a2ff714",
   "metadata": {},
   "outputs": [
    {
     "data": {
      "text/plain": [
       "Timestamp('2015-03-31 00:00:00')"
      ]
     },
     "execution_count": 20,
     "metadata": {},
     "output_type": "execute_result"
    }
   ],
   "source": [
    "pd.Timestamp(\"03/31/2015\")"
   ]
  },
  {
   "cell_type": "code",
   "execution_count": 21,
   "id": "a1f86004-4382-4ebf-9ff9-99319ca37f67",
   "metadata": {},
   "outputs": [
    {
     "data": {
      "text/plain": [
       "Timestamp('2021-03-08 18:13:29')"
      ]
     },
     "execution_count": 21,
     "metadata": {},
     "output_type": "execute_result"
    }
   ],
   "source": [
    "pd.Timestamp(\"2021-03-08 6:13:29 PM\")"
   ]
  },
  {
   "cell_type": "code",
   "execution_count": 22,
   "id": "1a0abe2b-d8c1-4269-aa39-c744f7c6e61b",
   "metadata": {},
   "outputs": [
    {
     "data": {
      "text/plain": [
       "Timestamp('2000-02-03 21:35:22')"
      ]
     },
     "execution_count": 22,
     "metadata": {},
     "output_type": "execute_result"
    }
   ],
   "source": [
    "pd.Timestamp(dt.datetime(2000, 2, 3, 21, 35, 22))"
   ]
  },
  {
   "cell_type": "markdown",
   "id": "c938daeb-a88e-40d5-9d55-e07af6a21582",
   "metadata": {},
   "source": [
    "## 11.2 DatetimeIndex which save the multiple Timestamp"
   ]
  },
  {
   "cell_type": "code",
   "execution_count": 23,
   "id": "a89229ce-a250-45f6-9a77-979325eed9e3",
   "metadata": {},
   "outputs": [
    {
     "data": {
      "text/plain": [
       "RangeIndex(start=0, stop=3, step=1)"
      ]
     },
     "execution_count": 23,
     "metadata": {},
     "output_type": "execute_result"
    }
   ],
   "source": [
    "pd.Series([1,2,3]).index"
   ]
  },
  {
   "cell_type": "code",
   "execution_count": 24,
   "id": "1a761610-1e92-46d4-a88a-faf3d932013f",
   "metadata": {},
   "outputs": [
    {
     "data": {
      "text/plain": [
       "Index(['A', 'B', 'C'], dtype='object')"
      ]
     },
     "execution_count": 24,
     "metadata": {},
     "output_type": "execute_result"
    }
   ],
   "source": [
    "pd.Series([1,2,3], index = [\"A\", \"B\", \"C\"]).index"
   ]
  },
  {
   "cell_type": "code",
   "execution_count": 26,
   "id": "7f6843cf-46dc-47db-8bd3-cca5b08ccfe3",
   "metadata": {},
   "outputs": [
    {
     "data": {
      "text/plain": [
       "DatetimeIndex(['2020-01-01', '2020-02-01', '2020-03-01'], dtype='datetime64[ns]', freq=None)"
      ]
     },
     "execution_count": 26,
     "metadata": {},
     "output_type": "execute_result"
    }
   ],
   "source": [
    "timestamps = [\n",
    "    pd.Timestamp(\"2020-01-01\"),\n",
    "    pd.Timestamp(\"2020-02-01\"),\n",
    "    pd.Timestamp(\"2020-03-01\"),\n",
    "]\n",
    "\n",
    "pd.Series([1,2,3], index = timestamps).index"
   ]
  },
  {
   "cell_type": "code",
   "execution_count": 27,
   "id": "c1c2835f-e8a4-4e44-b029-b16cd911b664",
   "metadata": {},
   "outputs": [
    {
     "data": {
      "text/plain": [
       "DatetimeIndex(['2020-01-01', '2020-02-01', '2020-03-01'], dtype='datetime64[ns]', freq=None)"
      ]
     },
     "execution_count": 27,
     "metadata": {},
     "output_type": "execute_result"
    }
   ],
   "source": [
    "timestamps = [\n",
    "    dt.datetime(2020,1,1),\n",
    "    dt.datetime(2020,2,1),\n",
    "    dt.datetime(2020,3,1),\n",
    "]\n",
    "\n",
    "pd.Series([1,2,3], index = timestamps).index"
   ]
  },
  {
   "cell_type": "code",
   "execution_count": 29,
   "id": "e9d00f81-a1d1-4fe6-b937-b85331b347a5",
   "metadata": {},
   "outputs": [
    {
     "data": {
      "text/plain": [
       "DatetimeIndex(['2018-01-02', '2016-04-12', '2009-09-07'], dtype='datetime64[ns]', freq=None)"
      ]
     },
     "execution_count": 29,
     "metadata": {},
     "output_type": "execute_result"
    }
   ],
   "source": [
    "string_dates = [\"2018/01/02\", \"2016/04/12\", \"2009/09/07\"]\n",
    "pd.DatetimeIndex(string_dates)"
   ]
  },
  {
   "cell_type": "code",
   "execution_count": 30,
   "id": "a35e8e5d-08bb-451d-a97b-9218cf62da80",
   "metadata": {},
   "outputs": [
    {
     "data": {
      "text/plain": [
       "DatetimeIndex(['2018-01-02', '2016-04-12', '2009-09-07'], dtype='datetime64[ns]', freq=None)"
      ]
     },
     "execution_count": 30,
     "metadata": {},
     "output_type": "execute_result"
    }
   ],
   "source": [
    "mixed_dates = [\n",
    "    dt.date(2018, 1, 2),\n",
    "    \"2016/04/12\",\n",
    "    pd.Timestamp(2009, 9, 7)\n",
    "]\n",
    "dt_index = pd.DatetimeIndex(mixed_dates)\n",
    "dt_index"
   ]
  },
  {
   "cell_type": "code",
   "execution_count": 31,
   "id": "c705aaaa-06f6-4e78-a0d9-db411f265143",
   "metadata": {},
   "outputs": [
    {
     "data": {
      "text/plain": [
       "2018-01-02    100\n",
       "2016-04-12    200\n",
       "2009-09-07    300\n",
       "dtype: int64"
      ]
     },
     "execution_count": 31,
     "metadata": {},
     "output_type": "execute_result"
    }
   ],
   "source": [
    "s = pd.Series(data = [100,200,300], index = dt_index)\n",
    "s"
   ]
  },
  {
   "cell_type": "code",
   "execution_count": 32,
   "id": "673055ad-53d5-4d75-8866-00a746325e4e",
   "metadata": {},
   "outputs": [
    {
     "data": {
      "text/plain": [
       "2009-09-07    300\n",
       "2016-04-12    200\n",
       "2018-01-02    100\n",
       "dtype: int64"
      ]
     },
     "execution_count": 32,
     "metadata": {},
     "output_type": "execute_result"
    }
   ],
   "source": [
    "s.sort_index()"
   ]
  },
  {
   "cell_type": "code",
   "execution_count": 33,
   "id": "b98c479c-cc03-41e4-a727-61c2f75345a6",
   "metadata": {},
   "outputs": [
    {
     "data": {
      "text/plain": [
       "True"
      ]
     },
     "execution_count": 33,
     "metadata": {},
     "output_type": "execute_result"
    }
   ],
   "source": [
    "morning = pd.Timestamp(\"2020-01-01 11:23:22 AM\")\n",
    "evening = pd.Timestamp(\"2020-01-01 11:23:22 PM\")\n",
    "morning < evening"
   ]
  },
  {
   "cell_type": "markdown",
   "id": "3dfa9365-c69e-40db-bd07-cf01b84d4d92",
   "metadata": {},
   "source": [
    "## 11.3 Convert column or index values to date/time "
   ]
  },
  {
   "cell_type": "code",
   "execution_count": 39,
   "id": "1edba1b9-03f1-4903-8e2c-c79b25901ce9",
   "metadata": {},
   "outputs": [
    {
     "data": {
      "text/html": [
       "<div>\n",
       "<style scoped>\n",
       "    .dataframe tbody tr th:only-of-type {\n",
       "        vertical-align: middle;\n",
       "    }\n",
       "\n",
       "    .dataframe tbody tr th {\n",
       "        vertical-align: top;\n",
       "    }\n",
       "\n",
       "    .dataframe thead th {\n",
       "        text-align: right;\n",
       "    }\n",
       "</style>\n",
       "<table border=\"1\" class=\"dataframe\">\n",
       "  <thead>\n",
       "    <tr style=\"text-align: right;\">\n",
       "      <th></th>\n",
       "      <th>Date</th>\n",
       "      <th>High</th>\n",
       "      <th>Low</th>\n",
       "      <th>Open</th>\n",
       "      <th>Close</th>\n",
       "    </tr>\n",
       "  </thead>\n",
       "  <tbody>\n",
       "    <tr>\n",
       "      <th>0</th>\n",
       "      <td>1962-01-02</td>\n",
       "      <td>0.096026</td>\n",
       "      <td>0.092908</td>\n",
       "      <td>0.092908</td>\n",
       "      <td>0.092908</td>\n",
       "    </tr>\n",
       "    <tr>\n",
       "      <th>1</th>\n",
       "      <td>1962-01-03</td>\n",
       "      <td>0.094467</td>\n",
       "      <td>0.092908</td>\n",
       "      <td>0.092908</td>\n",
       "      <td>0.094155</td>\n",
       "    </tr>\n",
       "    <tr>\n",
       "      <th>2</th>\n",
       "      <td>1962-01-04</td>\n",
       "      <td>0.094467</td>\n",
       "      <td>0.093532</td>\n",
       "      <td>0.094155</td>\n",
       "      <td>0.094155</td>\n",
       "    </tr>\n",
       "    <tr>\n",
       "      <th>3</th>\n",
       "      <td>1962-01-05</td>\n",
       "      <td>0.094779</td>\n",
       "      <td>0.093844</td>\n",
       "      <td>0.094155</td>\n",
       "      <td>0.094467</td>\n",
       "    </tr>\n",
       "    <tr>\n",
       "      <th>4</th>\n",
       "      <td>1962-01-08</td>\n",
       "      <td>0.095714</td>\n",
       "      <td>0.092285</td>\n",
       "      <td>0.094467</td>\n",
       "      <td>0.094155</td>\n",
       "    </tr>\n",
       "    <tr>\n",
       "      <th>...</th>\n",
       "      <td>...</td>\n",
       "      <td>...</td>\n",
       "      <td>...</td>\n",
       "      <td>...</td>\n",
       "      <td>...</td>\n",
       "    </tr>\n",
       "    <tr>\n",
       "      <th>14722</th>\n",
       "      <td>2020-06-26</td>\n",
       "      <td>111.199997</td>\n",
       "      <td>108.019997</td>\n",
       "      <td>110.949997</td>\n",
       "      <td>109.099998</td>\n",
       "    </tr>\n",
       "    <tr>\n",
       "      <th>14723</th>\n",
       "      <td>2020-06-29</td>\n",
       "      <td>111.570000</td>\n",
       "      <td>108.099998</td>\n",
       "      <td>109.000000</td>\n",
       "      <td>111.519997</td>\n",
       "    </tr>\n",
       "    <tr>\n",
       "      <th>14724</th>\n",
       "      <td>2020-06-30</td>\n",
       "      <td>112.050003</td>\n",
       "      <td>109.930000</td>\n",
       "      <td>111.500000</td>\n",
       "      <td>111.510002</td>\n",
       "    </tr>\n",
       "    <tr>\n",
       "      <th>14725</th>\n",
       "      <td>2020-07-01</td>\n",
       "      <td>115.599998</td>\n",
       "      <td>112.290001</td>\n",
       "      <td>112.820000</td>\n",
       "      <td>113.010002</td>\n",
       "    </tr>\n",
       "    <tr>\n",
       "      <th>14726</th>\n",
       "      <td>2020-07-02</td>\n",
       "      <td>115.099998</td>\n",
       "      <td>112.000000</td>\n",
       "      <td>115.000000</td>\n",
       "      <td>112.180000</td>\n",
       "    </tr>\n",
       "  </tbody>\n",
       "</table>\n",
       "<p>14727 rows × 5 columns</p>\n",
       "</div>"
      ],
      "text/plain": [
       "            Date        High         Low        Open       Close\n",
       "0     1962-01-02    0.096026    0.092908    0.092908    0.092908\n",
       "1     1962-01-03    0.094467    0.092908    0.092908    0.094155\n",
       "2     1962-01-04    0.094467    0.093532    0.094155    0.094155\n",
       "3     1962-01-05    0.094779    0.093844    0.094155    0.094467\n",
       "4     1962-01-08    0.095714    0.092285    0.094467    0.094155\n",
       "...          ...         ...         ...         ...         ...\n",
       "14722 2020-06-26  111.199997  108.019997  110.949997  109.099998\n",
       "14723 2020-06-29  111.570000  108.099998  109.000000  111.519997\n",
       "14724 2020-06-30  112.050003  109.930000  111.500000  111.510002\n",
       "14725 2020-07-01  115.599998  112.290001  112.820000  113.010002\n",
       "14726 2020-07-02  115.099998  112.000000  115.000000  112.180000\n",
       "\n",
       "[14727 rows x 5 columns]"
      ]
     },
     "execution_count": 39,
     "metadata": {},
     "output_type": "execute_result"
    }
   ],
   "source": [
    "disney = pd.read_csv(\"disney.csv\", parse_dates = [\"Date\"])\n",
    "disney"
   ]
  },
  {
   "cell_type": "code",
   "execution_count": 40,
   "id": "ae0729f5-93bb-4b6f-8efa-60d46ff10c0d",
   "metadata": {},
   "outputs": [
    {
     "data": {
      "text/plain": [
       "Date     datetime64[ns]\n",
       "High            float64\n",
       "Low             float64\n",
       "Open            float64\n",
       "Close           float64\n",
       "dtype: object"
      ]
     },
     "execution_count": 40,
     "metadata": {},
     "output_type": "execute_result"
    }
   ],
   "source": [
    "disney.dtypes"
   ]
  },
  {
   "cell_type": "code",
   "execution_count": 41,
   "id": "5694e455-3cf6-4355-9bba-9a079fedaf39",
   "metadata": {},
   "outputs": [
    {
     "data": {
      "text/plain": [
       "DatetimeIndex(['2015-01-01', '2016-02-02', '2017-03-03'], dtype='datetime64[ns]', freq=None)"
      ]
     },
     "execution_count": 41,
     "metadata": {},
     "output_type": "execute_result"
    }
   ],
   "source": [
    "string_dates = [\"2015-01-01\", \"2016-02-02\", \"2017-03-03\"]\n",
    "dt_index = pd.to_datetime(string_dates)\n",
    "dt_index"
   ]
  },
  {
   "cell_type": "code",
   "execution_count": 42,
   "id": "e2c1549c-f311-4557-806e-98abd735d34a",
   "metadata": {},
   "outputs": [
    {
     "data": {
      "text/plain": [
       "0   1962-01-02\n",
       "1   1962-01-03\n",
       "2   1962-01-04\n",
       "3   1962-01-05\n",
       "4   1962-01-08\n",
       "Name: Date, dtype: datetime64[ns]"
      ]
     },
     "execution_count": 42,
     "metadata": {},
     "output_type": "execute_result"
    }
   ],
   "source": [
    "pd.to_datetime(disney[\"Date\"]).head()"
   ]
  },
  {
   "cell_type": "code",
   "execution_count": 43,
   "id": "71ae2252-1e9e-4e5f-bbe2-f9e76f46a4a7",
   "metadata": {},
   "outputs": [],
   "source": [
    "disney[\"Date\"] = pd.to_datetime(disney[\"Date\"])"
   ]
  },
  {
   "cell_type": "code",
   "execution_count": 44,
   "id": "e81c0b86-2379-4dd7-a0f7-fe61fda0a0db",
   "metadata": {},
   "outputs": [
    {
     "data": {
      "text/plain": [
       "Date     datetime64[ns]\n",
       "High            float64\n",
       "Low             float64\n",
       "Open            float64\n",
       "Close           float64\n",
       "dtype: object"
      ]
     },
     "execution_count": 44,
     "metadata": {},
     "output_type": "execute_result"
    }
   ],
   "source": [
    "disney.dtypes"
   ]
  },
  {
   "cell_type": "markdown",
   "id": "50c163ef-feae-497f-b241-c24f569618ee",
   "metadata": {},
   "source": [
    "## 11.4 DatetimeProperties Object"
   ]
  },
  {
   "cell_type": "code",
   "execution_count": 45,
   "id": "c550bad3-9a96-456b-b232-dfeee5885fc8",
   "metadata": {},
   "outputs": [
    {
     "data": {
      "text/plain": [
       "<pandas.core.indexes.accessors.DatetimeProperties object at 0x000001B4EE3A0FB0>"
      ]
     },
     "execution_count": 45,
     "metadata": {},
     "output_type": "execute_result"
    }
   ],
   "source": [
    "disney[\"Date\"].dt"
   ]
  },
  {
   "cell_type": "code",
   "execution_count": 46,
   "id": "6ed2f2c9-272d-4edc-85ac-704213e3e6e8",
   "metadata": {},
   "outputs": [
    {
     "data": {
      "text/plain": [
       "0   1962-01-02\n",
       "1   1962-01-03\n",
       "2   1962-01-04\n",
       "3   1962-01-05\n",
       "4   1962-01-08\n",
       "Name: Date, dtype: datetime64[ns]"
      ]
     },
     "execution_count": 46,
     "metadata": {},
     "output_type": "execute_result"
    }
   ],
   "source": [
    "disney[\"Date\"].head()"
   ]
  },
  {
   "cell_type": "code",
   "execution_count": 47,
   "id": "b4f13eed-316d-400d-95d7-dd51ef4bad30",
   "metadata": {},
   "outputs": [
    {
     "data": {
      "text/plain": [
       "0    2\n",
       "1    3\n",
       "2    4\n",
       "3    5\n",
       "4    8\n",
       "Name: Date, dtype: int32"
      ]
     },
     "execution_count": 47,
     "metadata": {},
     "output_type": "execute_result"
    }
   ],
   "source": [
    "disney[\"Date\"].dt.day.head()"
   ]
  },
  {
   "cell_type": "code",
   "execution_count": 48,
   "id": "1a9f4005-840d-4c34-abe9-d034c1639690",
   "metadata": {},
   "outputs": [
    {
     "data": {
      "text/plain": [
       "0    1\n",
       "1    1\n",
       "2    1\n",
       "3    1\n",
       "4    1\n",
       "Name: Date, dtype: int32"
      ]
     },
     "execution_count": 48,
     "metadata": {},
     "output_type": "execute_result"
    }
   ],
   "source": [
    "disney[\"Date\"].dt.month.head()"
   ]
  },
  {
   "cell_type": "code",
   "execution_count": 49,
   "id": "274f7ab0-b6d4-498f-99ca-3cf3f96335dc",
   "metadata": {},
   "outputs": [
    {
     "data": {
      "text/plain": [
       "0    1962\n",
       "1    1962\n",
       "2    1962\n",
       "3    1962\n",
       "4    1962\n",
       "Name: Date, dtype: int32"
      ]
     },
     "execution_count": 49,
     "metadata": {},
     "output_type": "execute_result"
    }
   ],
   "source": [
    "disney[\"Date\"].dt.year.head()"
   ]
  },
  {
   "cell_type": "code",
   "execution_count": 50,
   "id": "6bcfc4f2-90b3-4eff-adfb-5e550ddd2c48",
   "metadata": {},
   "outputs": [
    {
     "data": {
      "text/plain": [
       "0    1\n",
       "1    2\n",
       "2    3\n",
       "3    4\n",
       "4    0\n",
       "Name: Date, dtype: int32"
      ]
     },
     "execution_count": 50,
     "metadata": {},
     "output_type": "execute_result"
    }
   ],
   "source": [
    "disney[\"Date\"].dt.dayofweek.head()"
   ]
  },
  {
   "cell_type": "code",
   "execution_count": 51,
   "id": "19bd66d0-5eda-480a-aa93-7d37b2d0d109",
   "metadata": {},
   "outputs": [
    {
     "data": {
      "text/plain": [
       "0      Tuesday\n",
       "1    Wednesday\n",
       "2     Thursday\n",
       "3       Friday\n",
       "4       Monday\n",
       "Name: Date, dtype: object"
      ]
     },
     "execution_count": 51,
     "metadata": {},
     "output_type": "execute_result"
    }
   ],
   "source": [
    "disney[\"Date\"].dt.day_name().head()"
   ]
  },
  {
   "cell_type": "code",
   "execution_count": 52,
   "id": "b794817b-1b7c-4c3f-8817-9c4489fe2c6b",
   "metadata": {},
   "outputs": [],
   "source": [
    "disney[\"Day of Week\"] = disney[\"Date\"].dt.day_name()"
   ]
  },
  {
   "cell_type": "code",
   "execution_count": 53,
   "id": "14fb379b-31f6-423d-a9cd-9a56c68128ee",
   "metadata": {},
   "outputs": [],
   "source": [
    "group = disney.groupby(\"Day of Week\")"
   ]
  },
  {
   "cell_type": "code",
   "execution_count": 55,
   "id": "8c7a421e-a9a9-4321-8fec-854e82b8b58b",
   "metadata": {},
   "outputs": [
    {
     "data": {
      "text/html": [
       "<div>\n",
       "<style scoped>\n",
       "    .dataframe tbody tr th:only-of-type {\n",
       "        vertical-align: middle;\n",
       "    }\n",
       "\n",
       "    .dataframe tbody tr th {\n",
       "        vertical-align: top;\n",
       "    }\n",
       "\n",
       "    .dataframe thead th {\n",
       "        text-align: right;\n",
       "    }\n",
       "</style>\n",
       "<table border=\"1\" class=\"dataframe\">\n",
       "  <thead>\n",
       "    <tr style=\"text-align: right;\">\n",
       "      <th></th>\n",
       "      <th>High</th>\n",
       "      <th>Low</th>\n",
       "      <th>Open</th>\n",
       "      <th>Close</th>\n",
       "    </tr>\n",
       "    <tr>\n",
       "      <th>Day of Week</th>\n",
       "      <th></th>\n",
       "      <th></th>\n",
       "      <th></th>\n",
       "      <th></th>\n",
       "    </tr>\n",
       "  </thead>\n",
       "  <tbody>\n",
       "    <tr>\n",
       "      <th>Friday</th>\n",
       "      <td>23.767304</td>\n",
       "      <td>23.318898</td>\n",
       "      <td>23.552872</td>\n",
       "      <td>23.554498</td>\n",
       "    </tr>\n",
       "    <tr>\n",
       "      <th>Monday</th>\n",
       "      <td>23.377271</td>\n",
       "      <td>22.930606</td>\n",
       "      <td>23.161392</td>\n",
       "      <td>23.162543</td>\n",
       "    </tr>\n",
       "    <tr>\n",
       "      <th>Thursday</th>\n",
       "      <td>23.770234</td>\n",
       "      <td>23.288687</td>\n",
       "      <td>23.534561</td>\n",
       "      <td>23.540359</td>\n",
       "    </tr>\n",
       "    <tr>\n",
       "      <th>Tuesday</th>\n",
       "      <td>23.791234</td>\n",
       "      <td>23.335267</td>\n",
       "      <td>23.571755</td>\n",
       "      <td>23.562907</td>\n",
       "    </tr>\n",
       "    <tr>\n",
       "      <th>Wednesday</th>\n",
       "      <td>23.842743</td>\n",
       "      <td>23.355419</td>\n",
       "      <td>23.605618</td>\n",
       "      <td>23.609873</td>\n",
       "    </tr>\n",
       "  </tbody>\n",
       "</table>\n",
       "</div>"
      ],
      "text/plain": [
       "                  High        Low       Open      Close\n",
       "Day of Week                                            \n",
       "Friday       23.767304  23.318898  23.552872  23.554498\n",
       "Monday       23.377271  22.930606  23.161392  23.162543\n",
       "Thursday     23.770234  23.288687  23.534561  23.540359\n",
       "Tuesday      23.791234  23.335267  23.571755  23.562907\n",
       "Wednesday    23.842743  23.355419  23.605618  23.609873"
      ]
     },
     "execution_count": 55,
     "metadata": {},
     "output_type": "execute_result"
    }
   ],
   "source": [
    "group.mean(True)"
   ]
  },
  {
   "cell_type": "code",
   "execution_count": 56,
   "id": "813fceeb-fb8f-4aff-9329-5c720d8ea092",
   "metadata": {},
   "outputs": [
    {
     "data": {
      "text/plain": [
       "0    January\n",
       "1    January\n",
       "2    January\n",
       "3    January\n",
       "4    January\n",
       "Name: Date, dtype: object"
      ]
     },
     "execution_count": 56,
     "metadata": {},
     "output_type": "execute_result"
    }
   ],
   "source": [
    "disney[\"Date\"].dt.month_name().head()"
   ]
  },
  {
   "cell_type": "code",
   "execution_count": 57,
   "id": "fcd4fad6-7b3d-4ed1-bc53-e4835b1390ec",
   "metadata": {},
   "outputs": [
    {
     "data": {
      "text/plain": [
       "14722    False\n",
       "14723    False\n",
       "14724    False\n",
       "14725     True\n",
       "14726    False\n",
       "Name: Date, dtype: bool"
      ]
     },
     "execution_count": 57,
     "metadata": {},
     "output_type": "execute_result"
    }
   ],
   "source": [
    "disney[\"Date\"].dt.is_quarter_start.tail()"
   ]
  },
  {
   "cell_type": "code",
   "execution_count": 59,
   "id": "0b7113e2-74eb-4b59-a846-b0f2a4ce61c5",
   "metadata": {},
   "outputs": [
    {
     "data": {
      "text/html": [
       "<div>\n",
       "<style scoped>\n",
       "    .dataframe tbody tr th:only-of-type {\n",
       "        vertical-align: middle;\n",
       "    }\n",
       "\n",
       "    .dataframe tbody tr th {\n",
       "        vertical-align: top;\n",
       "    }\n",
       "\n",
       "    .dataframe thead th {\n",
       "        text-align: right;\n",
       "    }\n",
       "</style>\n",
       "<table border=\"1\" class=\"dataframe\">\n",
       "  <thead>\n",
       "    <tr style=\"text-align: right;\">\n",
       "      <th></th>\n",
       "      <th>Date</th>\n",
       "      <th>High</th>\n",
       "      <th>Low</th>\n",
       "      <th>Open</th>\n",
       "      <th>Close</th>\n",
       "      <th>Day of Week</th>\n",
       "    </tr>\n",
       "  </thead>\n",
       "  <tbody>\n",
       "    <tr>\n",
       "      <th>189</th>\n",
       "      <td>1962-10-01</td>\n",
       "      <td>0.064849</td>\n",
       "      <td>0.062355</td>\n",
       "      <td>0.063913</td>\n",
       "      <td>0.062355</td>\n",
       "      <td>Monday</td>\n",
       "    </tr>\n",
       "    <tr>\n",
       "      <th>314</th>\n",
       "      <td>1963-04-01</td>\n",
       "      <td>0.087989</td>\n",
       "      <td>0.086704</td>\n",
       "      <td>0.087025</td>\n",
       "      <td>0.086704</td>\n",
       "      <td>Monday</td>\n",
       "    </tr>\n",
       "    <tr>\n",
       "      <th>377</th>\n",
       "      <td>1963-07-01</td>\n",
       "      <td>0.096338</td>\n",
       "      <td>0.095053</td>\n",
       "      <td>0.096338</td>\n",
       "      <td>0.095696</td>\n",
       "      <td>Monday</td>\n",
       "    </tr>\n",
       "    <tr>\n",
       "      <th>441</th>\n",
       "      <td>1963-10-01</td>\n",
       "      <td>0.110467</td>\n",
       "      <td>0.107898</td>\n",
       "      <td>0.107898</td>\n",
       "      <td>0.110467</td>\n",
       "      <td>Tuesday</td>\n",
       "    </tr>\n",
       "    <tr>\n",
       "      <th>565</th>\n",
       "      <td>1964-04-01</td>\n",
       "      <td>0.116248</td>\n",
       "      <td>0.112394</td>\n",
       "      <td>0.112394</td>\n",
       "      <td>0.116248</td>\n",
       "      <td>Wednesday</td>\n",
       "    </tr>\n",
       "  </tbody>\n",
       "</table>\n",
       "</div>"
      ],
      "text/plain": [
       "          Date      High       Low      Open     Close Day of Week\n",
       "189 1962-10-01  0.064849  0.062355  0.063913  0.062355      Monday\n",
       "314 1963-04-01  0.087989  0.086704  0.087025  0.086704      Monday\n",
       "377 1963-07-01  0.096338  0.095053  0.096338  0.095696      Monday\n",
       "441 1963-10-01  0.110467  0.107898  0.107898  0.110467     Tuesday\n",
       "565 1964-04-01  0.116248  0.112394  0.112394  0.116248   Wednesday"
      ]
     },
     "execution_count": 59,
     "metadata": {},
     "output_type": "execute_result"
    }
   ],
   "source": [
    "disney[disney[\"Date\"].dt.is_quarter_start].head()"
   ]
  },
  {
   "cell_type": "code",
   "execution_count": 60,
   "id": "5dcb61cd-e872-44d2-bb51-9f65dc82ef5f",
   "metadata": {},
   "outputs": [
    {
     "data": {
      "text/html": [
       "<div>\n",
       "<style scoped>\n",
       "    .dataframe tbody tr th:only-of-type {\n",
       "        vertical-align: middle;\n",
       "    }\n",
       "\n",
       "    .dataframe tbody tr th {\n",
       "        vertical-align: top;\n",
       "    }\n",
       "\n",
       "    .dataframe thead th {\n",
       "        text-align: right;\n",
       "    }\n",
       "</style>\n",
       "<table border=\"1\" class=\"dataframe\">\n",
       "  <thead>\n",
       "    <tr style=\"text-align: right;\">\n",
       "      <th></th>\n",
       "      <th>Date</th>\n",
       "      <th>High</th>\n",
       "      <th>Low</th>\n",
       "      <th>Open</th>\n",
       "      <th>Close</th>\n",
       "      <th>Day of Week</th>\n",
       "    </tr>\n",
       "  </thead>\n",
       "  <tbody>\n",
       "    <tr>\n",
       "      <th>251</th>\n",
       "      <td>1962-12-31</td>\n",
       "      <td>0.074501</td>\n",
       "      <td>0.071290</td>\n",
       "      <td>0.074501</td>\n",
       "      <td>0.072253</td>\n",
       "      <td>Monday</td>\n",
       "    </tr>\n",
       "    <tr>\n",
       "      <th>440</th>\n",
       "      <td>1963-09-30</td>\n",
       "      <td>0.109825</td>\n",
       "      <td>0.105972</td>\n",
       "      <td>0.108541</td>\n",
       "      <td>0.107577</td>\n",
       "      <td>Monday</td>\n",
       "    </tr>\n",
       "    <tr>\n",
       "      <th>502</th>\n",
       "      <td>1963-12-31</td>\n",
       "      <td>0.101476</td>\n",
       "      <td>0.096980</td>\n",
       "      <td>0.097622</td>\n",
       "      <td>0.101476</td>\n",
       "      <td>Tuesday</td>\n",
       "    </tr>\n",
       "    <tr>\n",
       "      <th>564</th>\n",
       "      <td>1964-03-31</td>\n",
       "      <td>0.115605</td>\n",
       "      <td>0.112394</td>\n",
       "      <td>0.114963</td>\n",
       "      <td>0.112394</td>\n",
       "      <td>Tuesday</td>\n",
       "    </tr>\n",
       "    <tr>\n",
       "      <th>628</th>\n",
       "      <td>1964-06-30</td>\n",
       "      <td>0.101476</td>\n",
       "      <td>0.100191</td>\n",
       "      <td>0.101476</td>\n",
       "      <td>0.100834</td>\n",
       "      <td>Tuesday</td>\n",
       "    </tr>\n",
       "  </tbody>\n",
       "</table>\n",
       "</div>"
      ],
      "text/plain": [
       "          Date      High       Low      Open     Close Day of Week\n",
       "251 1962-12-31  0.074501  0.071290  0.074501  0.072253      Monday\n",
       "440 1963-09-30  0.109825  0.105972  0.108541  0.107577      Monday\n",
       "502 1963-12-31  0.101476  0.096980  0.097622  0.101476     Tuesday\n",
       "564 1964-03-31  0.115605  0.112394  0.114963  0.112394     Tuesday\n",
       "628 1964-06-30  0.101476  0.100191  0.101476  0.100834     Tuesday"
      ]
     },
     "execution_count": 60,
     "metadata": {},
     "output_type": "execute_result"
    }
   ],
   "source": [
    "disney[disney[\"Date\"].dt.is_quarter_end].head()"
   ]
  },
  {
   "cell_type": "code",
   "execution_count": 61,
   "id": "072a4ad5-31d4-4cda-93cb-a652434bf8db",
   "metadata": {},
   "outputs": [
    {
     "data": {
      "text/html": [
       "<div>\n",
       "<style scoped>\n",
       "    .dataframe tbody tr th:only-of-type {\n",
       "        vertical-align: middle;\n",
       "    }\n",
       "\n",
       "    .dataframe tbody tr th {\n",
       "        vertical-align: top;\n",
       "    }\n",
       "\n",
       "    .dataframe thead th {\n",
       "        text-align: right;\n",
       "    }\n",
       "</style>\n",
       "<table border=\"1\" class=\"dataframe\">\n",
       "  <thead>\n",
       "    <tr style=\"text-align: right;\">\n",
       "      <th></th>\n",
       "      <th>Date</th>\n",
       "      <th>High</th>\n",
       "      <th>Low</th>\n",
       "      <th>Open</th>\n",
       "      <th>Close</th>\n",
       "      <th>Day of Week</th>\n",
       "    </tr>\n",
       "  </thead>\n",
       "  <tbody>\n",
       "    <tr>\n",
       "      <th>22</th>\n",
       "      <td>1962-02-01</td>\n",
       "      <td>0.096338</td>\n",
       "      <td>0.093532</td>\n",
       "      <td>0.093532</td>\n",
       "      <td>0.094779</td>\n",
       "      <td>Thursday</td>\n",
       "    </tr>\n",
       "    <tr>\n",
       "      <th>41</th>\n",
       "      <td>1962-03-01</td>\n",
       "      <td>0.095714</td>\n",
       "      <td>0.093532</td>\n",
       "      <td>0.093532</td>\n",
       "      <td>0.095714</td>\n",
       "      <td>Thursday</td>\n",
       "    </tr>\n",
       "    <tr>\n",
       "      <th>83</th>\n",
       "      <td>1962-05-01</td>\n",
       "      <td>0.087296</td>\n",
       "      <td>0.085426</td>\n",
       "      <td>0.085738</td>\n",
       "      <td>0.086673</td>\n",
       "      <td>Tuesday</td>\n",
       "    </tr>\n",
       "    <tr>\n",
       "      <th>105</th>\n",
       "      <td>1962-06-01</td>\n",
       "      <td>0.079814</td>\n",
       "      <td>0.077943</td>\n",
       "      <td>0.079814</td>\n",
       "      <td>0.079814</td>\n",
       "      <td>Friday</td>\n",
       "    </tr>\n",
       "    <tr>\n",
       "      <th>147</th>\n",
       "      <td>1962-08-01</td>\n",
       "      <td>0.068590</td>\n",
       "      <td>0.068278</td>\n",
       "      <td>0.068590</td>\n",
       "      <td>0.068590</td>\n",
       "      <td>Wednesday</td>\n",
       "    </tr>\n",
       "  </tbody>\n",
       "</table>\n",
       "</div>"
      ],
      "text/plain": [
       "          Date      High       Low      Open     Close Day of Week\n",
       "22  1962-02-01  0.096338  0.093532  0.093532  0.094779    Thursday\n",
       "41  1962-03-01  0.095714  0.093532  0.093532  0.095714    Thursday\n",
       "83  1962-05-01  0.087296  0.085426  0.085738  0.086673     Tuesday\n",
       "105 1962-06-01  0.079814  0.077943  0.079814  0.079814      Friday\n",
       "147 1962-08-01  0.068590  0.068278  0.068590  0.068590   Wednesday"
      ]
     },
     "execution_count": 61,
     "metadata": {},
     "output_type": "execute_result"
    }
   ],
   "source": [
    "disney[disney[\"Date\"].dt.is_month_start].head()"
   ]
  },
  {
   "cell_type": "code",
   "execution_count": 63,
   "id": "eaf88c24-554e-4642-9135-a3e7324b06a0",
   "metadata": {},
   "outputs": [
    {
     "data": {
      "text/html": [
       "<div>\n",
       "<style scoped>\n",
       "    .dataframe tbody tr th:only-of-type {\n",
       "        vertical-align: middle;\n",
       "    }\n",
       "\n",
       "    .dataframe tbody tr th {\n",
       "        vertical-align: top;\n",
       "    }\n",
       "\n",
       "    .dataframe thead th {\n",
       "        text-align: right;\n",
       "    }\n",
       "</style>\n",
       "<table border=\"1\" class=\"dataframe\">\n",
       "  <thead>\n",
       "    <tr style=\"text-align: right;\">\n",
       "      <th></th>\n",
       "      <th>Date</th>\n",
       "      <th>High</th>\n",
       "      <th>Low</th>\n",
       "      <th>Open</th>\n",
       "      <th>Close</th>\n",
       "      <th>Day of Week</th>\n",
       "    </tr>\n",
       "  </thead>\n",
       "  <tbody>\n",
       "    <tr>\n",
       "      <th>21</th>\n",
       "      <td>1962-01-31</td>\n",
       "      <td>0.093844</td>\n",
       "      <td>0.092908</td>\n",
       "      <td>0.093532</td>\n",
       "      <td>0.093532</td>\n",
       "      <td>Wednesday</td>\n",
       "    </tr>\n",
       "    <tr>\n",
       "      <th>40</th>\n",
       "      <td>1962-02-28</td>\n",
       "      <td>0.094779</td>\n",
       "      <td>0.093220</td>\n",
       "      <td>0.094155</td>\n",
       "      <td>0.093220</td>\n",
       "      <td>Wednesday</td>\n",
       "    </tr>\n",
       "    <tr>\n",
       "      <th>82</th>\n",
       "      <td>1962-04-30</td>\n",
       "      <td>0.087608</td>\n",
       "      <td>0.085738</td>\n",
       "      <td>0.087608</td>\n",
       "      <td>0.085738</td>\n",
       "      <td>Monday</td>\n",
       "    </tr>\n",
       "    <tr>\n",
       "      <th>104</th>\n",
       "      <td>1962-05-31</td>\n",
       "      <td>0.082308</td>\n",
       "      <td>0.079814</td>\n",
       "      <td>0.079814</td>\n",
       "      <td>0.079814</td>\n",
       "      <td>Thursday</td>\n",
       "    </tr>\n",
       "    <tr>\n",
       "      <th>146</th>\n",
       "      <td>1962-07-31</td>\n",
       "      <td>0.069214</td>\n",
       "      <td>0.068278</td>\n",
       "      <td>0.068278</td>\n",
       "      <td>0.068590</td>\n",
       "      <td>Tuesday</td>\n",
       "    </tr>\n",
       "  </tbody>\n",
       "</table>\n",
       "</div>"
      ],
      "text/plain": [
       "          Date      High       Low      Open     Close Day of Week\n",
       "21  1962-01-31  0.093844  0.092908  0.093532  0.093532   Wednesday\n",
       "40  1962-02-28  0.094779  0.093220  0.094155  0.093220   Wednesday\n",
       "82  1962-04-30  0.087608  0.085738  0.087608  0.085738      Monday\n",
       "104 1962-05-31  0.082308  0.079814  0.079814  0.079814    Thursday\n",
       "146 1962-07-31  0.069214  0.068278  0.068278  0.068590     Tuesday"
      ]
     },
     "execution_count": 63,
     "metadata": {},
     "output_type": "execute_result"
    }
   ],
   "source": [
    "disney[disney[\"Date\"].dt.is_month_end].head()"
   ]
  },
  {
   "cell_type": "code",
   "execution_count": 64,
   "id": "580a7c50-2cbc-4537-bc33-1e30af3e4414",
   "metadata": {},
   "outputs": [
    {
     "data": {
      "text/html": [
       "<div>\n",
       "<style scoped>\n",
       "    .dataframe tbody tr th:only-of-type {\n",
       "        vertical-align: middle;\n",
       "    }\n",
       "\n",
       "    .dataframe tbody tr th {\n",
       "        vertical-align: top;\n",
       "    }\n",
       "\n",
       "    .dataframe thead th {\n",
       "        text-align: right;\n",
       "    }\n",
       "</style>\n",
       "<table border=\"1\" class=\"dataframe\">\n",
       "  <thead>\n",
       "    <tr style=\"text-align: right;\">\n",
       "      <th></th>\n",
       "      <th>Date</th>\n",
       "      <th>High</th>\n",
       "      <th>Low</th>\n",
       "      <th>Open</th>\n",
       "      <th>Close</th>\n",
       "      <th>Day of Week</th>\n",
       "    </tr>\n",
       "  </thead>\n",
       "  <tbody>\n",
       "  </tbody>\n",
       "</table>\n",
       "</div>"
      ],
      "text/plain": [
       "Empty DataFrame\n",
       "Columns: [Date, High, Low, Open, Close, Day of Week]\n",
       "Index: []"
      ]
     },
     "execution_count": 64,
     "metadata": {},
     "output_type": "execute_result"
    }
   ],
   "source": [
    "disney[disney[\"Date\"].dt.is_year_start].head()"
   ]
  },
  {
   "cell_type": "code",
   "execution_count": 65,
   "id": "e9a394ba-9b64-4a08-aa1e-72fb3c228bb3",
   "metadata": {},
   "outputs": [
    {
     "data": {
      "text/html": [
       "<div>\n",
       "<style scoped>\n",
       "    .dataframe tbody tr th:only-of-type {\n",
       "        vertical-align: middle;\n",
       "    }\n",
       "\n",
       "    .dataframe tbody tr th {\n",
       "        vertical-align: top;\n",
       "    }\n",
       "\n",
       "    .dataframe thead th {\n",
       "        text-align: right;\n",
       "    }\n",
       "</style>\n",
       "<table border=\"1\" class=\"dataframe\">\n",
       "  <thead>\n",
       "    <tr style=\"text-align: right;\">\n",
       "      <th></th>\n",
       "      <th>Date</th>\n",
       "      <th>High</th>\n",
       "      <th>Low</th>\n",
       "      <th>Open</th>\n",
       "      <th>Close</th>\n",
       "      <th>Day of Week</th>\n",
       "    </tr>\n",
       "  </thead>\n",
       "  <tbody>\n",
       "    <tr>\n",
       "      <th>251</th>\n",
       "      <td>1962-12-31</td>\n",
       "      <td>0.074501</td>\n",
       "      <td>0.071290</td>\n",
       "      <td>0.074501</td>\n",
       "      <td>0.072253</td>\n",
       "      <td>Monday</td>\n",
       "    </tr>\n",
       "    <tr>\n",
       "      <th>502</th>\n",
       "      <td>1963-12-31</td>\n",
       "      <td>0.101476</td>\n",
       "      <td>0.096980</td>\n",
       "      <td>0.097622</td>\n",
       "      <td>0.101476</td>\n",
       "      <td>Tuesday</td>\n",
       "    </tr>\n",
       "    <tr>\n",
       "      <th>755</th>\n",
       "      <td>1964-12-31</td>\n",
       "      <td>0.117853</td>\n",
       "      <td>0.116890</td>\n",
       "      <td>0.116890</td>\n",
       "      <td>0.116890</td>\n",
       "      <td>Thursday</td>\n",
       "    </tr>\n",
       "    <tr>\n",
       "      <th>1007</th>\n",
       "      <td>1965-12-31</td>\n",
       "      <td>0.154141</td>\n",
       "      <td>0.150929</td>\n",
       "      <td>0.153498</td>\n",
       "      <td>0.152214</td>\n",
       "      <td>Friday</td>\n",
       "    </tr>\n",
       "    <tr>\n",
       "      <th>1736</th>\n",
       "      <td>1968-12-31</td>\n",
       "      <td>0.439301</td>\n",
       "      <td>0.431594</td>\n",
       "      <td>0.434163</td>\n",
       "      <td>0.436732</td>\n",
       "      <td>Tuesday</td>\n",
       "    </tr>\n",
       "  </tbody>\n",
       "</table>\n",
       "</div>"
      ],
      "text/plain": [
       "           Date      High       Low      Open     Close Day of Week\n",
       "251  1962-12-31  0.074501  0.071290  0.074501  0.072253      Monday\n",
       "502  1963-12-31  0.101476  0.096980  0.097622  0.101476     Tuesday\n",
       "755  1964-12-31  0.117853  0.116890  0.116890  0.116890    Thursday\n",
       "1007 1965-12-31  0.154141  0.150929  0.153498  0.152214      Friday\n",
       "1736 1968-12-31  0.439301  0.431594  0.434163  0.436732     Tuesday"
      ]
     },
     "execution_count": 65,
     "metadata": {},
     "output_type": "execute_result"
    }
   ],
   "source": [
    "disney[disney[\"Date\"].dt.is_year_end].head()"
   ]
  },
  {
   "cell_type": "markdown",
   "id": "3dae7f27-7400-49b7-9c86-8080d99abbe9",
   "metadata": {},
   "source": [
    "## 11.5 Addition and subtraction of a certain amount of time"
   ]
  },
  {
   "cell_type": "code",
   "execution_count": 66,
   "id": "a85565ee-1f8b-4285-9920-58d6a4c4b7c8",
   "metadata": {},
   "outputs": [
    {
     "data": {
      "text/plain": [
       "<DateOffset: days=5, months=4, years=3>"
      ]
     },
     "execution_count": 66,
     "metadata": {},
     "output_type": "execute_result"
    }
   ],
   "source": [
    "pd.DateOffset(years = 3, months = 4, days = 5)"
   ]
  },
  {
   "cell_type": "code",
   "execution_count": 68,
   "id": "d8464c7d-b1c1-4ab4-8001-28d66cb46418",
   "metadata": {},
   "outputs": [
    {
     "data": {
      "text/plain": [
       "0   1962-01-02\n",
       "1   1962-01-03\n",
       "2   1962-01-04\n",
       "3   1962-01-05\n",
       "4   1962-01-08\n",
       "Name: Date, dtype: datetime64[ns]"
      ]
     },
     "execution_count": 68,
     "metadata": {},
     "output_type": "execute_result"
    }
   ],
   "source": [
    "disney[\"Date\"].head()"
   ]
  },
  {
   "cell_type": "code",
   "execution_count": 69,
   "id": "0d75a924-35fe-458f-93e3-2b4067770ef2",
   "metadata": {},
   "outputs": [
    {
     "data": {
      "text/plain": [
       "0   1962-01-07\n",
       "1   1962-01-08\n",
       "2   1962-01-09\n",
       "3   1962-01-10\n",
       "4   1962-01-13\n",
       "Name: Date, dtype: datetime64[ns]"
      ]
     },
     "execution_count": 69,
     "metadata": {},
     "output_type": "execute_result"
    }
   ],
   "source": [
    "(disney[\"Date\"] + pd.DateOffset(days = 5)).head()"
   ]
  },
  {
   "cell_type": "code",
   "execution_count": 70,
   "id": "1f054576-847f-487b-95ee-fef99d6c7283",
   "metadata": {},
   "outputs": [
    {
     "data": {
      "text/plain": [
       "0   1961-12-30\n",
       "1   1961-12-31\n",
       "2   1962-01-01\n",
       "3   1962-01-02\n",
       "4   1962-01-05\n",
       "Name: Date, dtype: datetime64[ns]"
      ]
     },
     "execution_count": 70,
     "metadata": {},
     "output_type": "execute_result"
    }
   ],
   "source": [
    "(disney[\"Date\"] - pd.DateOffset(days = 3)).head()"
   ]
  },
  {
   "cell_type": "code",
   "execution_count": 71,
   "id": "5c490fb3-8ae1-4a18-9fe7-bedf89b6871e",
   "metadata": {},
   "outputs": [
    {
     "data": {
      "text/plain": [
       "0   1962-01-12 06:00:00\n",
       "1   1962-01-13 06:00:00\n",
       "2   1962-01-14 06:00:00\n",
       "3   1962-01-15 06:00:00\n",
       "4   1962-01-18 06:00:00\n",
       "Name: Date, dtype: datetime64[ns]"
      ]
     },
     "execution_count": 71,
     "metadata": {},
     "output_type": "execute_result"
    }
   ],
   "source": [
    "(disney[\"Date\"] + pd.DateOffset(days = 10, hours = 6)).head()"
   ]
  },
  {
   "cell_type": "code",
   "execution_count": 72,
   "id": "f1fd4d8d-14cf-44c0-84a3-33cf242483c4",
   "metadata": {},
   "outputs": [
    {
     "data": {
      "text/plain": [
       "0   1960-09-21 17:57:00\n",
       "1   1960-09-22 17:57:00\n",
       "2   1960-09-23 17:57:00\n",
       "3   1960-09-24 17:57:00\n",
       "4   1960-09-27 17:57:00\n",
       "Name: Date, dtype: datetime64[ns]"
      ]
     },
     "execution_count": 72,
     "metadata": {},
     "output_type": "execute_result"
    }
   ],
   "source": [
    "(disney[\"Date\"] - pd.DateOffset(years = 1, months =3, days = 10, hours = 6, minutes = 3)).head()"
   ]
  },
  {
   "cell_type": "code",
   "execution_count": 73,
   "id": "05c1eed0-96f1-41fe-98e2-ea63689023d9",
   "metadata": {},
   "outputs": [
    {
     "data": {
      "text/plain": [
       "14722   2020-06-26\n",
       "14723   2020-06-29\n",
       "14724   2020-06-30\n",
       "14725   2020-07-01\n",
       "14726   2020-07-02\n",
       "Name: Date, dtype: datetime64[ns]"
      ]
     },
     "execution_count": 73,
     "metadata": {},
     "output_type": "execute_result"
    }
   ],
   "source": [
    "disney[\"Date\"].tail()"
   ]
  },
  {
   "cell_type": "code",
   "execution_count": 74,
   "id": "89c9ee24-93b1-45eb-a077-b1a12f8d9f51",
   "metadata": {},
   "outputs": [
    {
     "data": {
      "text/plain": [
       "14722   2020-06-30\n",
       "14723   2020-06-30\n",
       "14724   2020-07-31\n",
       "14725   2020-07-31\n",
       "14726   2020-07-31\n",
       "Name: Date, dtype: datetime64[ns]"
      ]
     },
     "execution_count": 74,
     "metadata": {},
     "output_type": "execute_result"
    }
   ],
   "source": [
    "(disney[\"Date\"] + pd.offsets.MonthEnd()).tail()"
   ]
  },
  {
   "cell_type": "code",
   "execution_count": 75,
   "id": "1cfab3d4-7375-43e7-8d4c-a023603ba303",
   "metadata": {},
   "outputs": [
    {
     "data": {
      "text/plain": [
       "14722   2020-05-31\n",
       "14723   2020-05-31\n",
       "14724   2020-05-31\n",
       "14725   2020-06-30\n",
       "14726   2020-06-30\n",
       "Name: Date, dtype: datetime64[ns]"
      ]
     },
     "execution_count": 75,
     "metadata": {},
     "output_type": "execute_result"
    }
   ],
   "source": [
    "(disney[\"Date\"] - pd.offsets.MonthEnd()).tail()"
   ]
  },
  {
   "cell_type": "code",
   "execution_count": 76,
   "id": "0d29d2e1-7837-4d78-81f5-07bbb7b9243b",
   "metadata": {},
   "outputs": [
    {
     "data": {
      "text/plain": [
       "14722   2020-07-01\n",
       "14723   2020-07-01\n",
       "14724   2020-07-01\n",
       "14725   2020-08-01\n",
       "14726   2020-08-01\n",
       "Name: Date, dtype: datetime64[ns]"
      ]
     },
     "execution_count": 76,
     "metadata": {},
     "output_type": "execute_result"
    }
   ],
   "source": [
    "(disney[\"Date\"] + pd.offsets.MonthBegin()).tail()"
   ]
  },
  {
   "cell_type": "code",
   "execution_count": 77,
   "id": "d0af5b43-4b74-4ca8-ab48-2cdc20da948e",
   "metadata": {},
   "outputs": [
    {
     "data": {
      "text/plain": [
       "14722   2020-06-01\n",
       "14723   2020-06-01\n",
       "14724   2020-06-01\n",
       "14725   2020-06-01\n",
       "14726   2020-07-01\n",
       "Name: Date, dtype: datetime64[ns]"
      ]
     },
     "execution_count": 77,
     "metadata": {},
     "output_type": "execute_result"
    }
   ],
   "source": [
    "(disney[\"Date\"] - pd.offsets.MonthBegin()).tail()"
   ]
  },
  {
   "cell_type": "code",
   "execution_count": 79,
   "id": "4e142b0f-49a8-473c-a89f-ffea61c8a9ba",
   "metadata": {},
   "outputs": [
    {
     "data": {
      "text/plain": [
       "0   2020-05-28\n",
       "1   2020-05-29\n",
       "2   2020-05-30\n",
       "dtype: datetime64[ns]"
      ]
     },
     "execution_count": 79,
     "metadata": {},
     "output_type": "execute_result"
    }
   ],
   "source": [
    "may_dates = [\"2020-05-28\", \"2020-05-29\", \"2020-05-30\"]\n",
    "end_of_may = pd.Series(pd.to_datetime(may_dates))\n",
    "end_of_may"
   ]
  },
  {
   "cell_type": "code",
   "execution_count": 80,
   "id": "67eb05b7-2ae4-46f1-ad06-653afbb231cf",
   "metadata": {},
   "outputs": [
    {
     "data": {
      "text/plain": [
       "0   2020-05-31\n",
       "1   2020-05-31\n",
       "2   2020-05-31\n",
       "dtype: datetime64[ns]"
      ]
     },
     "execution_count": 80,
     "metadata": {},
     "output_type": "execute_result"
    }
   ],
   "source": [
    "end_of_may + pd.offsets.MonthEnd()"
   ]
  },
  {
   "cell_type": "code",
   "execution_count": 81,
   "id": "54eab7c9-efd4-4d87-a828-efeca6e7c976",
   "metadata": {},
   "outputs": [
    {
     "data": {
      "text/plain": [
       "0   2020-05-29\n",
       "1   2020-06-30\n",
       "2   2020-06-30\n",
       "dtype: datetime64[ns]"
      ]
     },
     "execution_count": 81,
     "metadata": {},
     "output_type": "execute_result"
    }
   ],
   "source": [
    "end_of_may + pd.offsets.BMonthEnd()"
   ]
  },
  {
   "cell_type": "markdown",
   "id": "48705f43-6ba0-4813-ab11-7528a6581cb6",
   "metadata": {},
   "source": [
    "## 11.7 Timedelta Object"
   ]
  },
  {
   "cell_type": "code",
   "execution_count": 82,
   "id": "99263ce1-3f24-4765-9d1c-036f6b1b351e",
   "metadata": {},
   "outputs": [
    {
     "data": {
      "text/plain": [
       "Timedelta('8 days 07:06:05')"
      ]
     },
     "execution_count": 82,
     "metadata": {},
     "output_type": "execute_result"
    }
   ],
   "source": [
    "duration = pd.Timedelta(\n",
    "    days = 8,\n",
    "    hours = 7,\n",
    "    minutes = 6,\n",
    "    seconds = 5\n",
    ")\n",
    "\n",
    "duration"
   ]
  },
  {
   "cell_type": "code",
   "execution_count": 83,
   "id": "b879c132-178e-4668-b4a6-42486eed3d11",
   "metadata": {},
   "outputs": [
    {
     "data": {
      "text/plain": [
       "Timedelta('0 days 03:05:12')"
      ]
     },
     "execution_count": 83,
     "metadata": {},
     "output_type": "execute_result"
    }
   ],
   "source": [
    "pd.to_timedelta(\"3 hours, 5minutes, 12 seconds\")"
   ]
  },
  {
   "cell_type": "code",
   "execution_count": 84,
   "id": "6252f1ef-4f28-468e-8a42-d50a071abf85",
   "metadata": {},
   "outputs": [
    {
     "data": {
      "text/plain": [
       "Timedelta('0 days 05:00:00')"
      ]
     },
     "execution_count": 84,
     "metadata": {},
     "output_type": "execute_result"
    }
   ],
   "source": [
    "pd.to_timedelta(5, unit = 'hour')"
   ]
  },
  {
   "cell_type": "code",
   "execution_count": 86,
   "id": "d4a13926-970b-4dd8-88c9-08ae40e05560",
   "metadata": {},
   "outputs": [
    {
     "data": {
      "text/plain": [
       "TimedeltaIndex(['5 days', '10 days', '15 days'], dtype='timedelta64[ns]', freq=None)"
      ]
     },
     "execution_count": 86,
     "metadata": {},
     "output_type": "execute_result"
    }
   ],
   "source": [
    "pd.to_timedelta([5,10,15], unit = 'day')"
   ]
  },
  {
   "cell_type": "code",
   "execution_count": 87,
   "id": "a1a9c11a-db54-4813-9e6a-e88fa5ad594d",
   "metadata": {},
   "outputs": [
    {
     "data": {
      "text/plain": [
       "Timedelta('257 days 00:00:00')"
      ]
     },
     "execution_count": 87,
     "metadata": {},
     "output_type": "execute_result"
    }
   ],
   "source": [
    "pd.Timestamp('1999-02-05') - pd.Timestamp('1998-05-24')"
   ]
  },
  {
   "cell_type": "code",
   "execution_count": 89,
   "id": "0c1d160a-ca69-4a13-a22c-ef1597c4c28b",
   "metadata": {},
   "outputs": [
    {
     "data": {
      "text/html": [
       "<div>\n",
       "<style scoped>\n",
       "    .dataframe tbody tr th:only-of-type {\n",
       "        vertical-align: middle;\n",
       "    }\n",
       "\n",
       "    .dataframe tbody tr th {\n",
       "        vertical-align: top;\n",
       "    }\n",
       "\n",
       "    .dataframe thead th {\n",
       "        text-align: right;\n",
       "    }\n",
       "</style>\n",
       "<table border=\"1\" class=\"dataframe\">\n",
       "  <thead>\n",
       "    <tr style=\"text-align: right;\">\n",
       "      <th></th>\n",
       "      <th>order_date</th>\n",
       "      <th>delivery_date</th>\n",
       "    </tr>\n",
       "  </thead>\n",
       "  <tbody>\n",
       "    <tr>\n",
       "      <th>0</th>\n",
       "      <td>5/24/98</td>\n",
       "      <td>2/5/99</td>\n",
       "    </tr>\n",
       "    <tr>\n",
       "      <th>1</th>\n",
       "      <td>4/22/92</td>\n",
       "      <td>3/6/98</td>\n",
       "    </tr>\n",
       "    <tr>\n",
       "      <th>2</th>\n",
       "      <td>2/10/91</td>\n",
       "      <td>8/26/92</td>\n",
       "    </tr>\n",
       "    <tr>\n",
       "      <th>3</th>\n",
       "      <td>7/21/92</td>\n",
       "      <td>11/20/97</td>\n",
       "    </tr>\n",
       "    <tr>\n",
       "      <th>4</th>\n",
       "      <td>9/2/93</td>\n",
       "      <td>6/10/98</td>\n",
       "    </tr>\n",
       "  </tbody>\n",
       "</table>\n",
       "</div>"
      ],
      "text/plain": [
       "  order_date delivery_date\n",
       "0    5/24/98        2/5/99\n",
       "1    4/22/92        3/6/98\n",
       "2    2/10/91       8/26/92\n",
       "3    7/21/92      11/20/97\n",
       "4     9/2/93       6/10/98"
      ]
     },
     "execution_count": 89,
     "metadata": {},
     "output_type": "execute_result"
    }
   ],
   "source": [
    "deliveries = pd.read_csv(\"deliveries.csv\")\n",
    "deliveries.head()"
   ]
  },
  {
   "cell_type": "code",
   "execution_count": 90,
   "id": "b3a9be4e-84c6-4c18-8bdf-d8217f9116a4",
   "metadata": {},
   "outputs": [
    {
     "name": "stderr",
     "output_type": "stream",
     "text": [
      "C:\\Users\\gjdbs\\AppData\\Local\\Temp\\ipykernel_27980\\1063909292.py:1: UserWarning: Could not infer format, so each element will be parsed individually, falling back to `dateutil`. To ensure parsing is consistent and as-expected, please specify a format.\n",
      "  deliveries[\"order_date\"] = pd.to_datetime(deliveries[\"order_date\"])\n",
      "C:\\Users\\gjdbs\\AppData\\Local\\Temp\\ipykernel_27980\\1063909292.py:2: UserWarning: Could not infer format, so each element will be parsed individually, falling back to `dateutil`. To ensure parsing is consistent and as-expected, please specify a format.\n",
      "  deliveries[\"delivery_date\"] = pd.to_datetime(deliveries[\"delivery_date\"])\n"
     ]
    }
   ],
   "source": [
    "deliveries[\"order_date\"] = pd.to_datetime(deliveries[\"order_date\"])\n",
    "deliveries[\"delivery_date\"] = pd.to_datetime(deliveries[\"delivery_date\"])"
   ]
  },
  {
   "cell_type": "code",
   "execution_count": 92,
   "id": "96f212e7-263c-457f-80f7-efe3ce92e101",
   "metadata": {},
   "outputs": [
    {
     "data": {
      "text/html": [
       "<div>\n",
       "<style scoped>\n",
       "    .dataframe tbody tr th:only-of-type {\n",
       "        vertical-align: middle;\n",
       "    }\n",
       "\n",
       "    .dataframe tbody tr th {\n",
       "        vertical-align: top;\n",
       "    }\n",
       "\n",
       "    .dataframe thead th {\n",
       "        text-align: right;\n",
       "    }\n",
       "</style>\n",
       "<table border=\"1\" class=\"dataframe\">\n",
       "  <thead>\n",
       "    <tr style=\"text-align: right;\">\n",
       "      <th></th>\n",
       "      <th>order_date</th>\n",
       "      <th>delivery_date</th>\n",
       "    </tr>\n",
       "  </thead>\n",
       "  <tbody>\n",
       "    <tr>\n",
       "      <th>0</th>\n",
       "      <td>1998-05-24</td>\n",
       "      <td>1999-02-05</td>\n",
       "    </tr>\n",
       "    <tr>\n",
       "      <th>1</th>\n",
       "      <td>1992-04-22</td>\n",
       "      <td>1998-03-06</td>\n",
       "    </tr>\n",
       "    <tr>\n",
       "      <th>2</th>\n",
       "      <td>1991-02-10</td>\n",
       "      <td>1992-08-26</td>\n",
       "    </tr>\n",
       "    <tr>\n",
       "      <th>3</th>\n",
       "      <td>1992-07-21</td>\n",
       "      <td>1997-11-20</td>\n",
       "    </tr>\n",
       "    <tr>\n",
       "      <th>4</th>\n",
       "      <td>1993-09-02</td>\n",
       "      <td>1998-06-10</td>\n",
       "    </tr>\n",
       "  </tbody>\n",
       "</table>\n",
       "</div>"
      ],
      "text/plain": [
       "  order_date delivery_date\n",
       "0 1998-05-24    1999-02-05\n",
       "1 1992-04-22    1998-03-06\n",
       "2 1991-02-10    1992-08-26\n",
       "3 1992-07-21    1997-11-20\n",
       "4 1993-09-02    1998-06-10"
      ]
     },
     "execution_count": 92,
     "metadata": {},
     "output_type": "execute_result"
    }
   ],
   "source": [
    "deliveries.head()"
   ]
  },
  {
   "cell_type": "code",
   "execution_count": 93,
   "id": "a3467045-f2b7-4edd-aa34-e41e0d7ebf78",
   "metadata": {},
   "outputs": [],
   "source": [
    "for column in [\"order_date\", \"delivery_date\"] :\n",
    "    deliveries[column] = pd.to_datetime(deliveries[column])\n",
    "    "
   ]
  },
  {
   "cell_type": "code",
   "execution_count": 94,
   "id": "b24fe3d0-1689-499d-8281-622e06e7cdfe",
   "metadata": {},
   "outputs": [
    {
     "data": {
      "text/html": [
       "<div>\n",
       "<style scoped>\n",
       "    .dataframe tbody tr th:only-of-type {\n",
       "        vertical-align: middle;\n",
       "    }\n",
       "\n",
       "    .dataframe tbody tr th {\n",
       "        vertical-align: top;\n",
       "    }\n",
       "\n",
       "    .dataframe thead th {\n",
       "        text-align: right;\n",
       "    }\n",
       "</style>\n",
       "<table border=\"1\" class=\"dataframe\">\n",
       "  <thead>\n",
       "    <tr style=\"text-align: right;\">\n",
       "      <th></th>\n",
       "      <th>order_date</th>\n",
       "      <th>delivery_date</th>\n",
       "    </tr>\n",
       "  </thead>\n",
       "  <tbody>\n",
       "    <tr>\n",
       "      <th>0</th>\n",
       "      <td>1998-05-24</td>\n",
       "      <td>1999-02-05</td>\n",
       "    </tr>\n",
       "    <tr>\n",
       "      <th>1</th>\n",
       "      <td>1992-04-22</td>\n",
       "      <td>1998-03-06</td>\n",
       "    </tr>\n",
       "    <tr>\n",
       "      <th>2</th>\n",
       "      <td>1991-02-10</td>\n",
       "      <td>1992-08-26</td>\n",
       "    </tr>\n",
       "    <tr>\n",
       "      <th>3</th>\n",
       "      <td>1992-07-21</td>\n",
       "      <td>1997-11-20</td>\n",
       "    </tr>\n",
       "    <tr>\n",
       "      <th>4</th>\n",
       "      <td>1993-09-02</td>\n",
       "      <td>1998-06-10</td>\n",
       "    </tr>\n",
       "  </tbody>\n",
       "</table>\n",
       "</div>"
      ],
      "text/plain": [
       "  order_date delivery_date\n",
       "0 1998-05-24    1999-02-05\n",
       "1 1992-04-22    1998-03-06\n",
       "2 1991-02-10    1992-08-26\n",
       "3 1992-07-21    1997-11-20\n",
       "4 1993-09-02    1998-06-10"
      ]
     },
     "execution_count": 94,
     "metadata": {},
     "output_type": "execute_result"
    }
   ],
   "source": [
    "deliveries.head()"
   ]
  },
  {
   "cell_type": "code",
   "execution_count": 96,
   "id": "30b99f00-cc1f-4ea7-b0b8-532fb688104f",
   "metadata": {},
   "outputs": [
    {
     "data": {
      "text/plain": [
       "0    257 days\n",
       "1   2144 days\n",
       "2    563 days\n",
       "3   1948 days\n",
       "4   1742 days\n",
       "dtype: timedelta64[ns]"
      ]
     },
     "execution_count": 96,
     "metadata": {},
     "output_type": "execute_result"
    }
   ],
   "source": [
    "(deliveries[\"delivery_date\"] - deliveries[\"order_date\"]).head()"
   ]
  },
  {
   "cell_type": "code",
   "execution_count": 98,
   "id": "147e4ea7-2dcc-4881-8110-048a63cb42f2",
   "metadata": {},
   "outputs": [],
   "source": [
    "deliveries[\"duration\"] = deliveries[\"delivery_date\"] - deliveries[\"order_date\"]"
   ]
  },
  {
   "cell_type": "code",
   "execution_count": 99,
   "id": "1b083646-e8eb-4002-9904-9949e729aeaf",
   "metadata": {},
   "outputs": [
    {
     "data": {
      "text/html": [
       "<div>\n",
       "<style scoped>\n",
       "    .dataframe tbody tr th:only-of-type {\n",
       "        vertical-align: middle;\n",
       "    }\n",
       "\n",
       "    .dataframe tbody tr th {\n",
       "        vertical-align: top;\n",
       "    }\n",
       "\n",
       "    .dataframe thead th {\n",
       "        text-align: right;\n",
       "    }\n",
       "</style>\n",
       "<table border=\"1\" class=\"dataframe\">\n",
       "  <thead>\n",
       "    <tr style=\"text-align: right;\">\n",
       "      <th></th>\n",
       "      <th>order_date</th>\n",
       "      <th>delivery_date</th>\n",
       "      <th>duration</th>\n",
       "    </tr>\n",
       "  </thead>\n",
       "  <tbody>\n",
       "    <tr>\n",
       "      <th>0</th>\n",
       "      <td>1998-05-24</td>\n",
       "      <td>1999-02-05</td>\n",
       "      <td>257 days</td>\n",
       "    </tr>\n",
       "    <tr>\n",
       "      <th>1</th>\n",
       "      <td>1992-04-22</td>\n",
       "      <td>1998-03-06</td>\n",
       "      <td>2144 days</td>\n",
       "    </tr>\n",
       "    <tr>\n",
       "      <th>2</th>\n",
       "      <td>1991-02-10</td>\n",
       "      <td>1992-08-26</td>\n",
       "      <td>563 days</td>\n",
       "    </tr>\n",
       "    <tr>\n",
       "      <th>3</th>\n",
       "      <td>1992-07-21</td>\n",
       "      <td>1997-11-20</td>\n",
       "      <td>1948 days</td>\n",
       "    </tr>\n",
       "    <tr>\n",
       "      <th>4</th>\n",
       "      <td>1993-09-02</td>\n",
       "      <td>1998-06-10</td>\n",
       "      <td>1742 days</td>\n",
       "    </tr>\n",
       "  </tbody>\n",
       "</table>\n",
       "</div>"
      ],
      "text/plain": [
       "  order_date delivery_date  duration\n",
       "0 1998-05-24    1999-02-05  257 days\n",
       "1 1992-04-22    1998-03-06 2144 days\n",
       "2 1991-02-10    1992-08-26  563 days\n",
       "3 1992-07-21    1997-11-20 1948 days\n",
       "4 1993-09-02    1998-06-10 1742 days"
      ]
     },
     "execution_count": 99,
     "metadata": {},
     "output_type": "execute_result"
    }
   ],
   "source": [
    "deliveries.head()"
   ]
  },
  {
   "cell_type": "code",
   "execution_count": 100,
   "id": "74beb5b2-bdbe-4e50-951c-fbd1d75ee4fe",
   "metadata": {},
   "outputs": [
    {
     "data": {
      "text/plain": [
       "order_date        datetime64[ns]\n",
       "delivery_date     datetime64[ns]\n",
       "duration         timedelta64[ns]\n",
       "dtype: object"
      ]
     },
     "execution_count": 100,
     "metadata": {},
     "output_type": "execute_result"
    }
   ],
   "source": [
    "deliveries.dtypes"
   ]
  },
  {
   "cell_type": "code",
   "execution_count": 101,
   "id": "a59032aa-31d5-4f60-b603-9bf7083062fd",
   "metadata": {},
   "outputs": [
    {
     "data": {
      "text/plain": [
       "0   1998-05-24\n",
       "1   1992-04-22\n",
       "2   1991-02-10\n",
       "3   1992-07-21\n",
       "4   1993-09-02\n",
       "dtype: datetime64[ns]"
      ]
     },
     "execution_count": 101,
     "metadata": {},
     "output_type": "execute_result"
    }
   ],
   "source": [
    "(deliveries[\"delivery_date\"] - deliveries[\"duration\"]).head()"
   ]
  },
  {
   "cell_type": "code",
   "execution_count": 102,
   "id": "41f8c8dc-64a8-48f1-9480-9713f3044033",
   "metadata": {},
   "outputs": [
    {
     "data": {
      "text/plain": [
       "0   1999-10-20\n",
       "1   2004-01-18\n",
       "2   1994-03-12\n",
       "3   2003-03-22\n",
       "4   2003-03-18\n",
       "dtype: datetime64[ns]"
      ]
     },
     "execution_count": 102,
     "metadata": {},
     "output_type": "execute_result"
    }
   ],
   "source": [
    "(deliveries[\"delivery_date\"] + deliveries[\"duration\"]).head()"
   ]
  },
  {
   "cell_type": "code",
   "execution_count": 103,
   "id": "43d038f6-91fe-41d6-bbdd-a78f0bbef80f",
   "metadata": {},
   "outputs": [
    {
     "data": {
      "text/html": [
       "<div>\n",
       "<style scoped>\n",
       "    .dataframe tbody tr th:only-of-type {\n",
       "        vertical-align: middle;\n",
       "    }\n",
       "\n",
       "    .dataframe tbody tr th {\n",
       "        vertical-align: top;\n",
       "    }\n",
       "\n",
       "    .dataframe thead th {\n",
       "        text-align: right;\n",
       "    }\n",
       "</style>\n",
       "<table border=\"1\" class=\"dataframe\">\n",
       "  <thead>\n",
       "    <tr style=\"text-align: right;\">\n",
       "      <th></th>\n",
       "      <th>order_date</th>\n",
       "      <th>delivery_date</th>\n",
       "      <th>duration</th>\n",
       "    </tr>\n",
       "  </thead>\n",
       "  <tbody>\n",
       "    <tr>\n",
       "      <th>454</th>\n",
       "      <td>1990-05-24</td>\n",
       "      <td>1990-06-01</td>\n",
       "      <td>8 days</td>\n",
       "    </tr>\n",
       "    <tr>\n",
       "      <th>294</th>\n",
       "      <td>1994-08-11</td>\n",
       "      <td>1994-08-20</td>\n",
       "      <td>9 days</td>\n",
       "    </tr>\n",
       "    <tr>\n",
       "      <th>10</th>\n",
       "      <td>1998-05-10</td>\n",
       "      <td>1998-05-19</td>\n",
       "      <td>9 days</td>\n",
       "    </tr>\n",
       "    <tr>\n",
       "      <th>499</th>\n",
       "      <td>1993-06-03</td>\n",
       "      <td>1993-06-13</td>\n",
       "      <td>10 days</td>\n",
       "    </tr>\n",
       "    <tr>\n",
       "      <th>143</th>\n",
       "      <td>1997-09-20</td>\n",
       "      <td>1997-10-06</td>\n",
       "      <td>16 days</td>\n",
       "    </tr>\n",
       "    <tr>\n",
       "      <th>...</th>\n",
       "      <td>...</td>\n",
       "      <td>...</td>\n",
       "      <td>...</td>\n",
       "    </tr>\n",
       "    <tr>\n",
       "      <th>152</th>\n",
       "      <td>1990-09-18</td>\n",
       "      <td>1999-12-19</td>\n",
       "      <td>3379 days</td>\n",
       "    </tr>\n",
       "    <tr>\n",
       "      <th>62</th>\n",
       "      <td>1990-04-02</td>\n",
       "      <td>1999-08-16</td>\n",
       "      <td>3423 days</td>\n",
       "    </tr>\n",
       "    <tr>\n",
       "      <th>458</th>\n",
       "      <td>1990-02-13</td>\n",
       "      <td>1999-11-15</td>\n",
       "      <td>3562 days</td>\n",
       "    </tr>\n",
       "    <tr>\n",
       "      <th>145</th>\n",
       "      <td>1990-03-07</td>\n",
       "      <td>1999-12-25</td>\n",
       "      <td>3580 days</td>\n",
       "    </tr>\n",
       "    <tr>\n",
       "      <th>448</th>\n",
       "      <td>1990-01-20</td>\n",
       "      <td>1999-11-12</td>\n",
       "      <td>3583 days</td>\n",
       "    </tr>\n",
       "  </tbody>\n",
       "</table>\n",
       "<p>501 rows × 3 columns</p>\n",
       "</div>"
      ],
      "text/plain": [
       "    order_date delivery_date  duration\n",
       "454 1990-05-24    1990-06-01    8 days\n",
       "294 1994-08-11    1994-08-20    9 days\n",
       "10  1998-05-10    1998-05-19    9 days\n",
       "499 1993-06-03    1993-06-13   10 days\n",
       "143 1997-09-20    1997-10-06   16 days\n",
       "..         ...           ...       ...\n",
       "152 1990-09-18    1999-12-19 3379 days\n",
       "62  1990-04-02    1999-08-16 3423 days\n",
       "458 1990-02-13    1999-11-15 3562 days\n",
       "145 1990-03-07    1999-12-25 3580 days\n",
       "448 1990-01-20    1999-11-12 3583 days\n",
       "\n",
       "[501 rows x 3 columns]"
      ]
     },
     "execution_count": 103,
     "metadata": {},
     "output_type": "execute_result"
    }
   ],
   "source": [
    "deliveries.sort_values(\"duration\")"
   ]
  },
  {
   "cell_type": "code",
   "execution_count": 104,
   "id": "d20e9cca-58f5-4b13-95f8-762c3af9e2c3",
   "metadata": {},
   "outputs": [
    {
     "data": {
      "text/plain": [
       "Timedelta('3583 days 00:00:00')"
      ]
     },
     "execution_count": 104,
     "metadata": {},
     "output_type": "execute_result"
    }
   ],
   "source": [
    "deliveries[\"duration\"].max()"
   ]
  },
  {
   "cell_type": "code",
   "execution_count": 105,
   "id": "b778dd7f-b3bc-4d54-85fc-289407815ba2",
   "metadata": {},
   "outputs": [
    {
     "data": {
      "text/plain": [
       "Timedelta('8 days 00:00:00')"
      ]
     },
     "execution_count": 105,
     "metadata": {},
     "output_type": "execute_result"
    }
   ],
   "source": [
    "deliveries[\"duration\"].min()"
   ]
  },
  {
   "cell_type": "code",
   "execution_count": 106,
   "id": "a66e4c91-9fe9-442e-a439-cf454333a53b",
   "metadata": {},
   "outputs": [
    {
     "data": {
      "text/plain": [
       "Timedelta('1217 days 22:53:53.532934128')"
      ]
     },
     "execution_count": 106,
     "metadata": {},
     "output_type": "execute_result"
    }
   ],
   "source": [
    "deliveries[\"duration\"].mean()"
   ]
  },
  {
   "cell_type": "code",
   "execution_count": 107,
   "id": "1603c78e-c904-4e3d-b8b1-e072720e163c",
   "metadata": {},
   "outputs": [
    {
     "data": {
      "text/plain": [
       "0    False\n",
       "1     True\n",
       "2     True\n",
       "3     True\n",
       "4     True\n",
       "Name: duration, dtype: bool"
      ]
     },
     "execution_count": 107,
     "metadata": {},
     "output_type": "execute_result"
    }
   ],
   "source": [
    "(deliveries[\"duration\"] > pd.Timedelta(days = 365)).head()"
   ]
  },
  {
   "cell_type": "code",
   "execution_count": 111,
   "id": "b7440360-32d8-49a6-825a-21a7c8f77501",
   "metadata": {},
   "outputs": [
    {
     "data": {
      "text/plain": [
       "0    False\n",
       "1     True\n",
       "2     True\n",
       "3     True\n",
       "4     True\n",
       "Name: duration, dtype: bool"
      ]
     },
     "execution_count": 111,
     "metadata": {},
     "output_type": "execute_result"
    }
   ],
   "source": [
    "(deliveries[\"duration\"] > \"365 days\").head()"
   ]
  },
  {
   "cell_type": "code",
   "execution_count": 114,
   "id": "9f6a5b01-9090-4610-b3f3-bda37b9c0a3f",
   "metadata": {},
   "outputs": [
    {
     "data": {
      "text/html": [
       "<div>\n",
       "<style scoped>\n",
       "    .dataframe tbody tr th:only-of-type {\n",
       "        vertical-align: middle;\n",
       "    }\n",
       "\n",
       "    .dataframe tbody tr th {\n",
       "        vertical-align: top;\n",
       "    }\n",
       "\n",
       "    .dataframe thead th {\n",
       "        text-align: right;\n",
       "    }\n",
       "</style>\n",
       "<table border=\"1\" class=\"dataframe\">\n",
       "  <thead>\n",
       "    <tr style=\"text-align: right;\">\n",
       "      <th></th>\n",
       "      <th>order_date</th>\n",
       "      <th>delivery_date</th>\n",
       "      <th>duration</th>\n",
       "    </tr>\n",
       "  </thead>\n",
       "  <tbody>\n",
       "    <tr>\n",
       "      <th>1</th>\n",
       "      <td>1992-04-22</td>\n",
       "      <td>1998-03-06</td>\n",
       "      <td>2144 days</td>\n",
       "    </tr>\n",
       "    <tr>\n",
       "      <th>2</th>\n",
       "      <td>1991-02-10</td>\n",
       "      <td>1992-08-26</td>\n",
       "      <td>563 days</td>\n",
       "    </tr>\n",
       "    <tr>\n",
       "      <th>3</th>\n",
       "      <td>1992-07-21</td>\n",
       "      <td>1997-11-20</td>\n",
       "      <td>1948 days</td>\n",
       "    </tr>\n",
       "    <tr>\n",
       "      <th>4</th>\n",
       "      <td>1993-09-02</td>\n",
       "      <td>1998-06-10</td>\n",
       "      <td>1742 days</td>\n",
       "    </tr>\n",
       "    <tr>\n",
       "      <th>6</th>\n",
       "      <td>1990-01-25</td>\n",
       "      <td>1994-10-02</td>\n",
       "      <td>1711 days</td>\n",
       "    </tr>\n",
       "  </tbody>\n",
       "</table>\n",
       "</div>"
      ],
      "text/plain": [
       "  order_date delivery_date  duration\n",
       "1 1992-04-22    1998-03-06 2144 days\n",
       "2 1991-02-10    1992-08-26  563 days\n",
       "3 1992-07-21    1997-11-20 1948 days\n",
       "4 1993-09-02    1998-06-10 1742 days\n",
       "6 1990-01-25    1994-10-02 1711 days"
      ]
     },
     "execution_count": 114,
     "metadata": {},
     "output_type": "execute_result"
    }
   ],
   "source": [
    "deliveries[(deliveries[\"duration\"] > \"365 days\")].head()"
   ]
  },
  {
   "cell_type": "code",
   "execution_count": 116,
   "id": "6d611770-ec7e-406a-908a-b0b459fc316c",
   "metadata": {},
   "outputs": [
    {
     "data": {
      "text/html": [
       "<div>\n",
       "<style scoped>\n",
       "    .dataframe tbody tr th:only-of-type {\n",
       "        vertical-align: middle;\n",
       "    }\n",
       "\n",
       "    .dataframe tbody tr th {\n",
       "        vertical-align: top;\n",
       "    }\n",
       "\n",
       "    .dataframe thead th {\n",
       "        text-align: right;\n",
       "    }\n",
       "</style>\n",
       "<table border=\"1\" class=\"dataframe\">\n",
       "  <thead>\n",
       "    <tr style=\"text-align: right;\">\n",
       "      <th></th>\n",
       "      <th>order_date</th>\n",
       "      <th>delivery_date</th>\n",
       "      <th>duration</th>\n",
       "    </tr>\n",
       "  </thead>\n",
       "  <tbody>\n",
       "    <tr>\n",
       "      <th>1</th>\n",
       "      <td>1992-04-22</td>\n",
       "      <td>1998-03-06</td>\n",
       "      <td>2144 days</td>\n",
       "    </tr>\n",
       "    <tr>\n",
       "      <th>7</th>\n",
       "      <td>1992-02-23</td>\n",
       "      <td>1998-12-30</td>\n",
       "      <td>2502 days</td>\n",
       "    </tr>\n",
       "    <tr>\n",
       "      <th>11</th>\n",
       "      <td>1992-10-17</td>\n",
       "      <td>1998-10-06</td>\n",
       "      <td>2180 days</td>\n",
       "    </tr>\n",
       "    <tr>\n",
       "      <th>12</th>\n",
       "      <td>1992-05-30</td>\n",
       "      <td>1999-08-15</td>\n",
       "      <td>2633 days</td>\n",
       "    </tr>\n",
       "    <tr>\n",
       "      <th>15</th>\n",
       "      <td>1990-01-20</td>\n",
       "      <td>1998-07-24</td>\n",
       "      <td>3107 days</td>\n",
       "    </tr>\n",
       "  </tbody>\n",
       "</table>\n",
       "</div>"
      ],
      "text/plain": [
       "   order_date delivery_date  duration\n",
       "1  1992-04-22    1998-03-06 2144 days\n",
       "7  1992-02-23    1998-12-30 2502 days\n",
       "11 1992-10-17    1998-10-06 2180 days\n",
       "12 1992-05-30    1999-08-15 2633 days\n",
       "15 1990-01-20    1998-07-24 3107 days"
      ]
     },
     "execution_count": 116,
     "metadata": {},
     "output_type": "execute_result"
    }
   ],
   "source": [
    "long_time = (\n",
    "    deliveries[\"duration\"] > \"2000 days, 8 hours, 4 minutes\"\n",
    ")\n",
    "deliveries[long_time].head()"
   ]
  },
  {
   "cell_type": "markdown",
   "id": "04050556-ab16-4c43-bd11-f5829fbf797e",
   "metadata": {},
   "source": [
    "## 11.8 Coding Challenge"
   ]
  },
  {
   "cell_type": "code",
   "execution_count": 117,
   "id": "2255e839-d692-438c-b6a0-5b429a15d1be",
   "metadata": {},
   "outputs": [
    {
     "data": {
      "text/html": [
       "<div>\n",
       "<style scoped>\n",
       "    .dataframe tbody tr th:only-of-type {\n",
       "        vertical-align: middle;\n",
       "    }\n",
       "\n",
       "    .dataframe tbody tr th {\n",
       "        vertical-align: top;\n",
       "    }\n",
       "\n",
       "    .dataframe thead th {\n",
       "        text-align: right;\n",
       "    }\n",
       "</style>\n",
       "<table border=\"1\" class=\"dataframe\">\n",
       "  <thead>\n",
       "    <tr style=\"text-align: right;\">\n",
       "      <th></th>\n",
       "      <th>start_time</th>\n",
       "      <th>stop_time</th>\n",
       "    </tr>\n",
       "  </thead>\n",
       "  <tbody>\n",
       "    <tr>\n",
       "      <th>0</th>\n",
       "      <td>2020-06-01 00:00:03.3720</td>\n",
       "      <td>2020-06-01 00:17:46.2080</td>\n",
       "    </tr>\n",
       "    <tr>\n",
       "      <th>1</th>\n",
       "      <td>2020-06-01 00:00:03.5530</td>\n",
       "      <td>2020-06-01 01:03:33.9360</td>\n",
       "    </tr>\n",
       "    <tr>\n",
       "      <th>2</th>\n",
       "      <td>2020-06-01 00:00:09.6140</td>\n",
       "      <td>2020-06-01 00:17:06.8330</td>\n",
       "    </tr>\n",
       "    <tr>\n",
       "      <th>3</th>\n",
       "      <td>2020-06-01 00:00:12.1780</td>\n",
       "      <td>2020-06-01 00:03:58.8640</td>\n",
       "    </tr>\n",
       "    <tr>\n",
       "      <th>4</th>\n",
       "      <td>2020-06-01 00:00:21.2550</td>\n",
       "      <td>2020-06-01 00:24:18.9650</td>\n",
       "    </tr>\n",
       "  </tbody>\n",
       "</table>\n",
       "</div>"
      ],
      "text/plain": [
       "                 start_time                 stop_time\n",
       "0  2020-06-01 00:00:03.3720  2020-06-01 00:17:46.2080\n",
       "1  2020-06-01 00:00:03.5530  2020-06-01 01:03:33.9360\n",
       "2  2020-06-01 00:00:09.6140  2020-06-01 00:17:06.8330\n",
       "3  2020-06-01 00:00:12.1780  2020-06-01 00:03:58.8640\n",
       "4  2020-06-01 00:00:21.2550  2020-06-01 00:24:18.9650"
      ]
     },
     "execution_count": 117,
     "metadata": {},
     "output_type": "execute_result"
    }
   ],
   "source": [
    "citi_bike = pd.read_csv(\"citibike.csv\")\n",
    "citi_bike.head()"
   ]
  },
  {
   "cell_type": "code",
   "execution_count": 119,
   "id": "e06feb3f-cfd4-49bf-8937-04ea620406ba",
   "metadata": {},
   "outputs": [
    {
     "name": "stdout",
     "output_type": "stream",
     "text": [
      "<class 'pandas.core.frame.DataFrame'>\n",
      "RangeIndex: 1882273 entries, 0 to 1882272\n",
      "Data columns (total 2 columns):\n",
      " #   Column      Dtype \n",
      "---  ------      ----- \n",
      " 0   start_time  object\n",
      " 1   stop_time   object\n",
      "dtypes: object(2)\n",
      "memory usage: 28.7+ MB\n"
     ]
    }
   ],
   "source": [
    "citi_bike.info()"
   ]
  },
  {
   "cell_type": "code",
   "execution_count": 120,
   "id": "365d829a-c463-4c36-8536-6ef555df926e",
   "metadata": {},
   "outputs": [],
   "source": [
    "citi_bike[\"start_time\"] = pd.to_datetime(citi_bike[\"start_time\"])\n",
    "citi_bike[\"stop_time\"] = pd.to_datetime(citi_bike[\"stop_time\"])"
   ]
  },
  {
   "cell_type": "code",
   "execution_count": 121,
   "id": "bae87990-bc44-4cf6-8845-85a5cdb46c0c",
   "metadata": {},
   "outputs": [
    {
     "name": "stdout",
     "output_type": "stream",
     "text": [
      "<class 'pandas.core.frame.DataFrame'>\n",
      "RangeIndex: 1882273 entries, 0 to 1882272\n",
      "Data columns (total 2 columns):\n",
      " #   Column      Dtype         \n",
      "---  ------      -----         \n",
      " 0   start_time  datetime64[ns]\n",
      " 1   stop_time   datetime64[ns]\n",
      "dtypes: datetime64[ns](2)\n",
      "memory usage: 28.7 MB\n"
     ]
    }
   ],
   "source": [
    "citi_bike.info()"
   ]
  },
  {
   "cell_type": "code",
   "execution_count": 122,
   "id": "b9ebcec1-224f-4d3b-991f-074c55a0085d",
   "metadata": {},
   "outputs": [
    {
     "data": {
      "text/html": [
       "<div>\n",
       "<style scoped>\n",
       "    .dataframe tbody tr th:only-of-type {\n",
       "        vertical-align: middle;\n",
       "    }\n",
       "\n",
       "    .dataframe tbody tr th {\n",
       "        vertical-align: top;\n",
       "    }\n",
       "\n",
       "    .dataframe thead th {\n",
       "        text-align: right;\n",
       "    }\n",
       "</style>\n",
       "<table border=\"1\" class=\"dataframe\">\n",
       "  <thead>\n",
       "    <tr style=\"text-align: right;\">\n",
       "      <th></th>\n",
       "      <th>start_time</th>\n",
       "      <th>stop_time</th>\n",
       "    </tr>\n",
       "  </thead>\n",
       "  <tbody>\n",
       "    <tr>\n",
       "      <th>0</th>\n",
       "      <td>2020-06-01 00:00:03.372</td>\n",
       "      <td>2020-06-01 00:17:46.208</td>\n",
       "    </tr>\n",
       "    <tr>\n",
       "      <th>1</th>\n",
       "      <td>2020-06-01 00:00:03.553</td>\n",
       "      <td>2020-06-01 01:03:33.936</td>\n",
       "    </tr>\n",
       "    <tr>\n",
       "      <th>2</th>\n",
       "      <td>2020-06-01 00:00:09.614</td>\n",
       "      <td>2020-06-01 00:17:06.833</td>\n",
       "    </tr>\n",
       "    <tr>\n",
       "      <th>3</th>\n",
       "      <td>2020-06-01 00:00:12.178</td>\n",
       "      <td>2020-06-01 00:03:58.864</td>\n",
       "    </tr>\n",
       "    <tr>\n",
       "      <th>4</th>\n",
       "      <td>2020-06-01 00:00:21.255</td>\n",
       "      <td>2020-06-01 00:24:18.965</td>\n",
       "    </tr>\n",
       "  </tbody>\n",
       "</table>\n",
       "</div>"
      ],
      "text/plain": [
       "               start_time               stop_time\n",
       "0 2020-06-01 00:00:03.372 2020-06-01 00:17:46.208\n",
       "1 2020-06-01 00:00:03.553 2020-06-01 01:03:33.936\n",
       "2 2020-06-01 00:00:09.614 2020-06-01 00:17:06.833\n",
       "3 2020-06-01 00:00:12.178 2020-06-01 00:03:58.864\n",
       "4 2020-06-01 00:00:21.255 2020-06-01 00:24:18.965"
      ]
     },
     "execution_count": 122,
     "metadata": {},
     "output_type": "execute_result"
    }
   ],
   "source": [
    "citi_bike.head()"
   ]
  },
  {
   "cell_type": "code",
   "execution_count": 126,
   "id": "6511b4ec-4096-48a5-8f86-6d54ceb92e9a",
   "metadata": {},
   "outputs": [],
   "source": [
    "citi_bike[\"day_of_week\"] = citi_bike[\"start_time\"].dt.day_name()"
   ]
  },
  {
   "cell_type": "code",
   "execution_count": 127,
   "id": "832c52a9-ea08-4e54-a5f0-5699e7231e1b",
   "metadata": {},
   "outputs": [
    {
     "data": {
      "text/html": [
       "<div>\n",
       "<style scoped>\n",
       "    .dataframe tbody tr th:only-of-type {\n",
       "        vertical-align: middle;\n",
       "    }\n",
       "\n",
       "    .dataframe tbody tr th {\n",
       "        vertical-align: top;\n",
       "    }\n",
       "\n",
       "    .dataframe thead th {\n",
       "        text-align: right;\n",
       "    }\n",
       "</style>\n",
       "<table border=\"1\" class=\"dataframe\">\n",
       "  <thead>\n",
       "    <tr style=\"text-align: right;\">\n",
       "      <th></th>\n",
       "      <th>start_time</th>\n",
       "      <th>stop_time</th>\n",
       "      <th>day_of_week</th>\n",
       "    </tr>\n",
       "  </thead>\n",
       "  <tbody>\n",
       "    <tr>\n",
       "      <th>0</th>\n",
       "      <td>2020-06-01 00:00:03.372</td>\n",
       "      <td>2020-06-01 00:17:46.208</td>\n",
       "      <td>Monday</td>\n",
       "    </tr>\n",
       "    <tr>\n",
       "      <th>1</th>\n",
       "      <td>2020-06-01 00:00:03.553</td>\n",
       "      <td>2020-06-01 01:03:33.936</td>\n",
       "      <td>Monday</td>\n",
       "    </tr>\n",
       "    <tr>\n",
       "      <th>2</th>\n",
       "      <td>2020-06-01 00:00:09.614</td>\n",
       "      <td>2020-06-01 00:17:06.833</td>\n",
       "      <td>Monday</td>\n",
       "    </tr>\n",
       "    <tr>\n",
       "      <th>3</th>\n",
       "      <td>2020-06-01 00:00:12.178</td>\n",
       "      <td>2020-06-01 00:03:58.864</td>\n",
       "      <td>Monday</td>\n",
       "    </tr>\n",
       "    <tr>\n",
       "      <th>4</th>\n",
       "      <td>2020-06-01 00:00:21.255</td>\n",
       "      <td>2020-06-01 00:24:18.965</td>\n",
       "      <td>Monday</td>\n",
       "    </tr>\n",
       "  </tbody>\n",
       "</table>\n",
       "</div>"
      ],
      "text/plain": [
       "               start_time               stop_time day_of_week\n",
       "0 2020-06-01 00:00:03.372 2020-06-01 00:17:46.208      Monday\n",
       "1 2020-06-01 00:00:03.553 2020-06-01 01:03:33.936      Monday\n",
       "2 2020-06-01 00:00:09.614 2020-06-01 00:17:06.833      Monday\n",
       "3 2020-06-01 00:00:12.178 2020-06-01 00:03:58.864      Monday\n",
       "4 2020-06-01 00:00:21.255 2020-06-01 00:24:18.965      Monday"
      ]
     },
     "execution_count": 127,
     "metadata": {},
     "output_type": "execute_result"
    }
   ],
   "source": [
    "citi_bike.head()"
   ]
  },
  {
   "cell_type": "code",
   "execution_count": 128,
   "id": "3538c9fa-e35b-4941-afa5-0d30e6d26b2d",
   "metadata": {},
   "outputs": [
    {
     "data": {
      "text/plain": [
       "day_of_week\n",
       "Tuesday      305833\n",
       "Sunday       301482\n",
       "Monday       292690\n",
       "Saturday     285966\n",
       "Friday       258479\n",
       "Wednesday    222647\n",
       "Thursday     215176\n",
       "Name: count, dtype: int64"
      ]
     },
     "execution_count": 128,
     "metadata": {},
     "output_type": "execute_result"
    }
   ],
   "source": [
    "citi_bike.value_counts(\"day_of_week\")"
   ]
  },
  {
   "cell_type": "code",
   "execution_count": 136,
   "id": "69e684af-4e0d-4f53-8bd5-a64890b6731a",
   "metadata": {},
   "outputs": [],
   "source": [
    "def day_to_week (dt) :\n",
    "    if dt.day <= 7 :\n",
    "        return 1\n",
    "    elif dt.day <= 14 :\n",
    "        return 2\n",
    "    elif dt.day <= 21 :\n",
    "        return 3\n",
    "    elif dt.day <= 28 :\n",
    "        return 4\n",
    "    else :\n",
    "        return 5\n"
   ]
  },
  {
   "cell_type": "code",
   "execution_count": 138,
   "id": "fd7236a3-7bc5-4b66-9e08-96f71362b29d",
   "metadata": {},
   "outputs": [],
   "source": [
    "citi_bike[\"week\"] = citi_bike[\"start_time\"].apply(day_to_week)"
   ]
  },
  {
   "cell_type": "code",
   "execution_count": 140,
   "id": "ccc5daef-a3a0-4ee4-a99b-643eb268352f",
   "metadata": {},
   "outputs": [
    {
     "data": {
      "text/plain": [
       "week\n",
       "3    481211\n",
       "2    471384\n",
       "4    465412\n",
       "1    337590\n",
       "5    126676\n",
       "Name: count, dtype: int64"
      ]
     },
     "execution_count": 140,
     "metadata": {},
     "output_type": "execute_result"
    }
   ],
   "source": [
    "citi_bike.value_counts(\"week\")"
   ]
  },
  {
   "cell_type": "code",
   "execution_count": 141,
   "id": "82673aed-4efc-4153-b755-43cd2cfab130",
   "metadata": {},
   "outputs": [],
   "source": [
    "days_away_from_monday = citi_bike[\"start_time\"].dt.dayofweek"
   ]
  },
  {
   "cell_type": "code",
   "execution_count": 143,
   "id": "12463ab4-4190-4090-a966-fac972f7401d",
   "metadata": {},
   "outputs": [],
   "source": [
    "dates_rounded_to_monday = citi_bike[\"start_time\"] - pd.to_timedelta(days_away_from_monday, unit = 'day')"
   ]
  },
  {
   "cell_type": "code",
   "execution_count": 145,
   "id": "5a7dc7e8-18be-4a4a-b2ef-278ee720e443",
   "metadata": {},
   "outputs": [
    {
     "data": {
      "text/plain": [
       "start_time\n",
       "2020-06-15    481211\n",
       "2020-06-08    471384\n",
       "2020-06-22    465412\n",
       "2020-06-01    337590\n",
       "2020-06-29    126676\n",
       "Name: count, dtype: int64"
      ]
     },
     "execution_count": 145,
     "metadata": {},
     "output_type": "execute_result"
    }
   ],
   "source": [
    "dates_rounded_to_monday.dt.date.value_counts().head()"
   ]
  },
  {
   "cell_type": "code",
   "execution_count": 146,
   "id": "41c793ba-ca50-4e66-8899-7396dd6ea016",
   "metadata": {},
   "outputs": [],
   "source": [
    "citi_bike[\"duration\"] = citi_bike[\"stop_time\"] - citi_bike[\"start_time\"]"
   ]
  },
  {
   "cell_type": "code",
   "execution_count": 147,
   "id": "6b962a0f-9435-48a8-ae6f-29852118b9f3",
   "metadata": {},
   "outputs": [
    {
     "data": {
      "text/html": [
       "<div>\n",
       "<style scoped>\n",
       "    .dataframe tbody tr th:only-of-type {\n",
       "        vertical-align: middle;\n",
       "    }\n",
       "\n",
       "    .dataframe tbody tr th {\n",
       "        vertical-align: top;\n",
       "    }\n",
       "\n",
       "    .dataframe thead th {\n",
       "        text-align: right;\n",
       "    }\n",
       "</style>\n",
       "<table border=\"1\" class=\"dataframe\">\n",
       "  <thead>\n",
       "    <tr style=\"text-align: right;\">\n",
       "      <th></th>\n",
       "      <th>start_time</th>\n",
       "      <th>stop_time</th>\n",
       "      <th>day_of_week</th>\n",
       "      <th>week</th>\n",
       "      <th>duration</th>\n",
       "    </tr>\n",
       "  </thead>\n",
       "  <tbody>\n",
       "    <tr>\n",
       "      <th>0</th>\n",
       "      <td>2020-06-01 00:00:03.372</td>\n",
       "      <td>2020-06-01 00:17:46.208</td>\n",
       "      <td>Monday</td>\n",
       "      <td>1</td>\n",
       "      <td>0 days 00:17:42.836000</td>\n",
       "    </tr>\n",
       "    <tr>\n",
       "      <th>1</th>\n",
       "      <td>2020-06-01 00:00:03.553</td>\n",
       "      <td>2020-06-01 01:03:33.936</td>\n",
       "      <td>Monday</td>\n",
       "      <td>1</td>\n",
       "      <td>0 days 01:03:30.383000</td>\n",
       "    </tr>\n",
       "    <tr>\n",
       "      <th>2</th>\n",
       "      <td>2020-06-01 00:00:09.614</td>\n",
       "      <td>2020-06-01 00:17:06.833</td>\n",
       "      <td>Monday</td>\n",
       "      <td>1</td>\n",
       "      <td>0 days 00:16:57.219000</td>\n",
       "    </tr>\n",
       "    <tr>\n",
       "      <th>3</th>\n",
       "      <td>2020-06-01 00:00:12.178</td>\n",
       "      <td>2020-06-01 00:03:58.864</td>\n",
       "      <td>Monday</td>\n",
       "      <td>1</td>\n",
       "      <td>0 days 00:03:46.686000</td>\n",
       "    </tr>\n",
       "    <tr>\n",
       "      <th>4</th>\n",
       "      <td>2020-06-01 00:00:21.255</td>\n",
       "      <td>2020-06-01 00:24:18.965</td>\n",
       "      <td>Monday</td>\n",
       "      <td>1</td>\n",
       "      <td>0 days 00:23:57.710000</td>\n",
       "    </tr>\n",
       "  </tbody>\n",
       "</table>\n",
       "</div>"
      ],
      "text/plain": [
       "               start_time               stop_time day_of_week  week  \\\n",
       "0 2020-06-01 00:00:03.372 2020-06-01 00:17:46.208      Monday     1   \n",
       "1 2020-06-01 00:00:03.553 2020-06-01 01:03:33.936      Monday     1   \n",
       "2 2020-06-01 00:00:09.614 2020-06-01 00:17:06.833      Monday     1   \n",
       "3 2020-06-01 00:00:12.178 2020-06-01 00:03:58.864      Monday     1   \n",
       "4 2020-06-01 00:00:21.255 2020-06-01 00:24:18.965      Monday     1   \n",
       "\n",
       "                duration  \n",
       "0 0 days 00:17:42.836000  \n",
       "1 0 days 01:03:30.383000  \n",
       "2 0 days 00:16:57.219000  \n",
       "3 0 days 00:03:46.686000  \n",
       "4 0 days 00:23:57.710000  "
      ]
     },
     "execution_count": 147,
     "metadata": {},
     "output_type": "execute_result"
    }
   ],
   "source": [
    "citi_bike.head()"
   ]
  },
  {
   "cell_type": "code",
   "execution_count": 157,
   "id": "81da9d5e-2273-4530-9810-4a5f78fd5fea",
   "metadata": {},
   "outputs": [
    {
     "data": {
      "text/plain": [
       "Timedelta('0 days 00:27:19.590506853')"
      ]
     },
     "execution_count": 157,
     "metadata": {},
     "output_type": "execute_result"
    }
   ],
   "source": [
    "citi_bike[\"duration\"].mean()"
   ]
  },
  {
   "cell_type": "code",
   "execution_count": 161,
   "id": "bbcaaee4-2234-4e9b-85da-0370e1f94fc5",
   "metadata": {},
   "outputs": [
    {
     "data": {
      "text/plain": [
       "50593    32 days 15:01:54.940000\n",
       "98339    31 days 01:47:20.632000\n",
       "52306    30 days 19:32:20.696000\n",
       "15171    30 days 04:26:48.424000\n",
       "149761   28 days 09:24:50.696000\n",
       "Name: duration, dtype: timedelta64[ns]"
      ]
     },
     "execution_count": 161,
     "metadata": {},
     "output_type": "execute_result"
    }
   ],
   "source": [
    "citi_bike[\"duration\"].nlargest(5)"
   ]
  },
  {
   "cell_type": "code",
   "execution_count": null,
   "id": "22c30daf-cb65-4b5d-a6fa-730db97cf7d9",
   "metadata": {},
   "outputs": [],
   "source": []
  }
 ],
 "metadata": {
  "kernelspec": {
   "display_name": "Python 3 (ipykernel)",
   "language": "python",
   "name": "python3"
  },
  "language_info": {
   "codemirror_mode": {
    "name": "ipython",
    "version": 3
   },
   "file_extension": ".py",
   "mimetype": "text/x-python",
   "name": "python",
   "nbconvert_exporter": "python",
   "pygments_lexer": "ipython3",
   "version": "3.12.7"
  }
 },
 "nbformat": 4,
 "nbformat_minor": 5
}
